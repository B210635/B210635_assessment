{
 "cells": [
  {
   "cell_type": "markdown",
   "id": "temporal-movement",
   "metadata": {},
   "source": [
    "# **Title: Collecting NHS England accident and emergency attendances and admissions data using interactive Jupyter widgets**\n",
    " \n",
    " **Author: B210635**\n",
    "\n",
    "*Copyright statement: This Notebook is the product of The University of Edinburgh.*"
   ]
  },
  {
   "cell_type": "markdown",
   "id": "smaller-kazakhstan",
   "metadata": {},
   "source": [
    "# **Load the 'pandas' package and test dataset**"
   ]
  },
  {
   "cell_type": "markdown",
   "id": "following-validity",
   "metadata": {},
   "source": [
    "**Load the 'pandas' package**"
   ]
  },
  {
   "cell_type": "code",
   "execution_count": 1,
   "id": "narrow-crowd",
   "metadata": {},
   "outputs": [],
   "source": [
    "import pandas as pd"
   ]
  },
  {
   "cell_type": "markdown",
   "id": "english-major",
   "metadata": {},
   "source": [
    "**Import test dataset**"
   ]
  },
  {
   "cell_type": "code",
   "execution_count": 2,
   "id": "arbitrary-postcard",
   "metadata": {},
   "outputs": [],
   "source": [
    "# import the test dataset and store it as in the object 'testData'\n",
    "testData=pd.read_csv(\"../Data/ae_attendances_admissions_emergency_test.csv\")\n",
    "# testData"
   ]
  },
  {
   "cell_type": "markdown",
   "id": "suited-deficit",
   "metadata": {},
   "source": [
    "**Dataset types**\n",
    "\n",
    "Check the data type in the testData data frame using the dtypes function from the Python pandas package. "
   ]
  },
  {
   "cell_type": "code",
   "execution_count": 3,
   "id": "significant-table",
   "metadata": {},
   "outputs": [
    {
     "name": "stdout",
     "output_type": "stream",
     "text": [
      "Output:\n",
      "index          int64\n",
      "org_code      object\n",
      "period        object\n",
      "admissions     int64\n",
      "dtype: object\n"
     ]
    }
   ],
   "source": [
    "result = testData.dtypes #store the data types from the 'testData' frame in the object 'result'\n",
    "print(\"Output:\")\n",
    "print(result) # print the results of the datatypes\n",
    "# The results showed that the index and admissions variables are stored as integers while \n",
    "# the org_code and period variables are stored are strings."
   ]
  },
  {
   "cell_type": "markdown",
   "id": "fewer-leader",
   "metadata": {},
   "source": [
    "**Review the first row of the test dataset**"
   ]
  },
  {
   "cell_type": "code",
   "execution_count": 4,
   "id": "miniature-merchandise",
   "metadata": {},
   "outputs": [
    {
     "data": {
      "text/html": [
       "<div>\n",
       "<style scoped>\n",
       "    .dataframe tbody tr th:only-of-type {\n",
       "        vertical-align: middle;\n",
       "    }\n",
       "\n",
       "    .dataframe tbody tr th {\n",
       "        vertical-align: top;\n",
       "    }\n",
       "\n",
       "    .dataframe thead th {\n",
       "        text-align: right;\n",
       "    }\n",
       "</style>\n",
       "<table border=\"1\" class=\"dataframe\">\n",
       "  <thead>\n",
       "    <tr style=\"text-align: right;\">\n",
       "      <th></th>\n",
       "      <th>index</th>\n",
       "      <th>org_code</th>\n",
       "      <th>period</th>\n",
       "      <th>admissions</th>\n",
       "    </tr>\n",
       "  </thead>\n",
       "  <tbody>\n",
       "    <tr>\n",
       "      <th>0</th>\n",
       "      <td>2826</td>\n",
       "      <td>RGT</td>\n",
       "      <td>2016-07-01</td>\n",
       "      <td>3123</td>\n",
       "    </tr>\n",
       "  </tbody>\n",
       "</table>\n",
       "</div>"
      ],
      "text/plain": [
       "   index org_code      period  admissions\n",
       "0   2826      RGT  2016-07-01        3123"
      ]
     },
     "execution_count": 4,
     "metadata": {},
     "output_type": "execute_result"
    }
   ],
   "source": [
    "testData.head(n=1) # view first row of the dataset using the head() function in Python"
   ]
  },
  {
   "cell_type": "markdown",
   "id": "designing-overhead",
   "metadata": {},
   "source": [
    "**Create an empty data frame in the working data folder to collect the data captured by the Juypter widgets.**"
   ]
  },
  {
   "cell_type": "code",
   "execution_count": 5,
   "id": "imperial-disclaimer",
   "metadata": {},
   "outputs": [
    {
     "data": {
      "text/html": [
       "<div>\n",
       "<style scoped>\n",
       "    .dataframe tbody tr th:only-of-type {\n",
       "        vertical-align: middle;\n",
       "    }\n",
       "\n",
       "    .dataframe tbody tr th {\n",
       "        vertical-align: top;\n",
       "    }\n",
       "\n",
       "    .dataframe thead th {\n",
       "        text-align: right;\n",
       "    }\n",
       "</style>\n",
       "<table border=\"1\" class=\"dataframe\">\n",
       "  <thead>\n",
       "    <tr style=\"text-align: right;\">\n",
       "      <th></th>\n",
       "      <th>index</th>\n",
       "      <th>org_code</th>\n",
       "      <th>period</th>\n",
       "      <th>admissions</th>\n",
       "      <th>consent</th>\n",
       "    </tr>\n",
       "  </thead>\n",
       "  <tbody>\n",
       "    <tr>\n",
       "      <th>0</th>\n",
       "      <td>0</td>\n",
       "      <td>NA</td>\n",
       "      <td>2000-01-01</td>\n",
       "      <td>0</td>\n",
       "      <td>False</td>\n",
       "    </tr>\n",
       "  </tbody>\n",
       "</table>\n",
       "</div>"
      ],
      "text/plain": [
       "   index org_code     period  admissions  consent\n",
       "0      0       NA 2000-01-01           0    False"
      ]
     },
     "execution_count": 5,
     "metadata": {},
     "output_type": "execute_result"
    }
   ],
   "source": [
    "# create empty dataframe and store it as the object 'dfTofill'\n",
    "dfTofill = pd.DataFrame({'index': [0],# Integer\n",
    "'org_code': ['NA'], # String\n",
    "'period': [pd.Timestamp('20000101')], # Date\n",
    "'admissions': [0], # Integer\n",
    "'consent': [False]}) # Boolean\n",
    "dfTofill # print the empty dataframe create\n"
   ]
  },
  {
   "cell_type": "markdown",
   "id": "attached-article",
   "metadata": {},
   "source": [
    "**Save the empty data frame as CSV file to the 'Data' folder and name it 'CollectedData'**"
   ]
  },
  {
   "cell_type": "code",
   "execution_count": 6,
   "id": "entertaining-tribune",
   "metadata": {},
   "outputs": [],
   "source": [
    "#dfTofill.to_csv('../Data/CollectedData.csv', index=False) "
   ]
  },
  {
   "cell_type": "markdown",
   "id": "modular-squad",
   "metadata": {},
   "source": [
    "**Read in the empty dataframe to collect the data from the Jupyter-widgets.**"
   ]
  },
  {
   "cell_type": "code",
   "execution_count": 7,
   "id": "automatic-backing",
   "metadata": {},
   "outputs": [
    {
     "data": {
      "text/html": [
       "<div>\n",
       "<style scoped>\n",
       "    .dataframe tbody tr th:only-of-type {\n",
       "        vertical-align: middle;\n",
       "    }\n",
       "\n",
       "    .dataframe tbody tr th {\n",
       "        vertical-align: top;\n",
       "    }\n",
       "\n",
       "    .dataframe thead th {\n",
       "        text-align: right;\n",
       "    }\n",
       "</style>\n",
       "<table border=\"1\" class=\"dataframe\">\n",
       "  <thead>\n",
       "    <tr style=\"text-align: right;\">\n",
       "      <th></th>\n",
       "      <th>index</th>\n",
       "      <th>org_code</th>\n",
       "      <th>period</th>\n",
       "      <th>admissions</th>\n",
       "      <th>consent</th>\n",
       "    </tr>\n",
       "  </thead>\n",
       "  <tbody>\n",
       "    <tr>\n",
       "      <th>0</th>\n",
       "      <td>0</td>\n",
       "      <td>NaN</td>\n",
       "      <td>2000-01-01</td>\n",
       "      <td>0</td>\n",
       "      <td>False</td>\n",
       "    </tr>\n",
       "  </tbody>\n",
       "</table>\n",
       "</div>"
      ],
      "text/plain": [
       "   index  org_code      period  admissions  consent\n",
       "0      0       NaN  2000-01-01           0    False"
      ]
     },
     "execution_count": 7,
     "metadata": {},
     "output_type": "execute_result"
    }
   ],
   "source": [
    "CollectData=pd.read_csv(\"../Data/CollectedData.csv\") #store the empty dataframe as the object 'collected data'\n",
    "CollectData #print the new object out"
   ]
  },
  {
   "cell_type": "markdown",
   "id": "automatic-circumstances",
   "metadata": {},
   "source": [
    "**Review the first row of the test dataset again**"
   ]
  },
  {
   "cell_type": "code",
   "execution_count": 8,
   "id": "center-solomon",
   "metadata": {},
   "outputs": [
    {
     "data": {
      "text/html": [
       "<div>\n",
       "<style scoped>\n",
       "    .dataframe tbody tr th:only-of-type {\n",
       "        vertical-align: middle;\n",
       "    }\n",
       "\n",
       "    .dataframe tbody tr th {\n",
       "        vertical-align: top;\n",
       "    }\n",
       "\n",
       "    .dataframe thead th {\n",
       "        text-align: right;\n",
       "    }\n",
       "</style>\n",
       "<table border=\"1\" class=\"dataframe\">\n",
       "  <thead>\n",
       "    <tr style=\"text-align: right;\">\n",
       "      <th></th>\n",
       "      <th>index</th>\n",
       "      <th>org_code</th>\n",
       "      <th>period</th>\n",
       "      <th>admissions</th>\n",
       "    </tr>\n",
       "  </thead>\n",
       "  <tbody>\n",
       "    <tr>\n",
       "      <th>0</th>\n",
       "      <td>2826</td>\n",
       "      <td>RGT</td>\n",
       "      <td>2016-07-01</td>\n",
       "      <td>3123</td>\n",
       "    </tr>\n",
       "  </tbody>\n",
       "</table>\n",
       "</div>"
      ],
      "text/plain": [
       "   index org_code      period  admissions\n",
       "0   2826      RGT  2016-07-01        3123"
      ]
     },
     "execution_count": 8,
     "metadata": {},
     "output_type": "execute_result"
    }
   ],
   "source": [
    "testData.head(n=1) #use the head() function in Python to review the first row of the dataset with n=1"
   ]
  },
  {
   "cell_type": "markdown",
   "id": "recognized-tyler",
   "metadata": {},
   "source": [
    "**Index variable**\n",
    "\n",
    "*The first variable contains the index number, that allows connecting the test data to the orginal data set \"../RawData/ae_attendances.csv\".* *Using indexing to add the index number to the 'dfTofill' file.*"
   ]
  },
  {
   "cell_type": "code",
   "execution_count": 9,
   "id": "foreign-burden",
   "metadata": {},
   "outputs": [
    {
     "data": {
      "text/html": [
       "<div>\n",
       "<style scoped>\n",
       "    .dataframe tbody tr th:only-of-type {\n",
       "        vertical-align: middle;\n",
       "    }\n",
       "\n",
       "    .dataframe tbody tr th {\n",
       "        vertical-align: top;\n",
       "    }\n",
       "\n",
       "    .dataframe thead th {\n",
       "        text-align: right;\n",
       "    }\n",
       "</style>\n",
       "<table border=\"1\" class=\"dataframe\">\n",
       "  <thead>\n",
       "    <tr style=\"text-align: right;\">\n",
       "      <th></th>\n",
       "      <th>index</th>\n",
       "      <th>org_code</th>\n",
       "      <th>period</th>\n",
       "      <th>admissions</th>\n",
       "      <th>consent</th>\n",
       "    </tr>\n",
       "  </thead>\n",
       "  <tbody>\n",
       "    <tr>\n",
       "      <th>0</th>\n",
       "      <td>2826</td>\n",
       "      <td>NA</td>\n",
       "      <td>2000-01-01</td>\n",
       "      <td>0</td>\n",
       "      <td>False</td>\n",
       "    </tr>\n",
       "  </tbody>\n",
       "</table>\n",
       "</div>"
      ],
      "text/plain": [
       "   index org_code     period  admissions  consent\n",
       "0   2826       NA 2000-01-01           0    False"
      ]
     },
     "execution_count": 9,
     "metadata": {},
     "output_type": "execute_result"
    }
   ],
   "source": [
    "index_number=2826 #Index number for first record.\n",
    "dfTofill.iloc[0,0]=index_number # adding index number to 'dfTofill' file\n",
    "dfTofill #print dfTofill file with index number added"
   ]
  },
  {
   "cell_type": "markdown",
   "id": "irish-feeding",
   "metadata": {},
   "source": [
    "# **Widgets**\n",
    "\n",
    "*Widgets are graphical user interface element, such as a button, dropdown or textbox.* \n",
    "*Importing the ipywidgets Python package to use widgets* "
   ]
  },
  {
   "cell_type": "code",
   "execution_count": 10,
   "id": "oriented-stroke",
   "metadata": {},
   "outputs": [],
   "source": [
    "#Load the 'ipywidgets' package\n",
    "import ipywidgets as widgets"
   ]
  },
  {
   "cell_type": "code",
   "execution_count": 11,
   "id": "religious-columbia",
   "metadata": {},
   "outputs": [],
   "source": [
    "#Load the 'IPython.display' package to display different objects in Jupyter notebook\n",
    "from IPython.display import display"
   ]
  },
  {
   "cell_type": "markdown",
   "id": "lasting-allen",
   "metadata": {},
   "source": [
    "**Consent**\n",
    "\n",
    "*Here the checkbox widget will be used to obtain consent from end-users to process and share the data collected.*\n",
    "*The checkbox widget is used to display boolean datatype - True or False*"
   ]
  },
  {
   "cell_type": "code",
   "execution_count": 12,
   "id": "minor-county",
   "metadata": {},
   "outputs": [
    {
     "data": {
      "application/vnd.jupyter.widget-view+json": {
       "model_id": "e253e91bf30041bdba79a7254e738bca",
       "version_major": 2,
       "version_minor": 0
      },
      "text/plain": [
       "Checkbox(value=False, description='I consent for the data provided to be processed and shared')"
      ]
     },
     "metadata": {},
     "output_type": "display_data"
    }
   ],
   "source": [
    "a = widgets.Checkbox(value=False, \n",
    "description='I consent for the data provided to be processed and shared',\n",
    "disabled=False) # use the checkbox widget and store as the object 'a'\n",
    "\n",
    "display(a) # use the display function to display the widget object\n",
    "# mark the checkbox to give consent\n"
   ]
  },
  {
   "cell_type": "code",
   "execution_count": 13,
   "id": "occupied-administrator",
   "metadata": {},
   "outputs": [
    {
     "data": {
      "text/html": [
       "<div>\n",
       "<style scoped>\n",
       "    .dataframe tbody tr th:only-of-type {\n",
       "        vertical-align: middle;\n",
       "    }\n",
       "\n",
       "    .dataframe tbody tr th {\n",
       "        vertical-align: top;\n",
       "    }\n",
       "\n",
       "    .dataframe thead th {\n",
       "        text-align: right;\n",
       "    }\n",
       "</style>\n",
       "<table border=\"1\" class=\"dataframe\">\n",
       "  <thead>\n",
       "    <tr style=\"text-align: right;\">\n",
       "      <th></th>\n",
       "      <th>index</th>\n",
       "      <th>org_code</th>\n",
       "      <th>period</th>\n",
       "      <th>admissions</th>\n",
       "      <th>consent</th>\n",
       "    </tr>\n",
       "  </thead>\n",
       "  <tbody>\n",
       "    <tr>\n",
       "      <th>0</th>\n",
       "      <td>2826</td>\n",
       "      <td>NA</td>\n",
       "      <td>2000-01-01</td>\n",
       "      <td>0</td>\n",
       "      <td>True</td>\n",
       "    </tr>\n",
       "  </tbody>\n",
       "</table>\n",
       "</div>"
      ],
      "text/plain": [
       "   index org_code     period  admissions  consent\n",
       "0   2826       NA 2000-01-01           0     True"
      ]
     },
     "execution_count": 13,
     "metadata": {},
     "output_type": "execute_result"
    }
   ],
   "source": [
    "dfTofill.iloc[0,4]=a.value # Using indexing to add the index number to the 'dfTofill' file for consent variable\n",
    "dfTofill # print dfTofill file with consent variable equal True\n"
   ]
  },
  {
   "cell_type": "markdown",
   "id": "abandoned-shadow",
   "metadata": {},
   "source": [
    "**Setup a DatePicker widget to collect period data**"
   ]
  },
  {
   "cell_type": "code",
   "execution_count": 14,
   "id": "needed-colon",
   "metadata": {},
   "outputs": [
    {
     "data": {
      "application/vnd.jupyter.widget-view+json": {
       "model_id": "4fcda0a950b446f98e307492f81a6519",
       "version_major": 2,
       "version_minor": 0
      },
      "text/plain": [
       "DatePicker(value=None, description='Period')"
      ]
     },
     "metadata": {},
     "output_type": "display_data"
    }
   ],
   "source": [
    "b = widgets.DatePicker(\n",
    "description='Period',\n",
    "disabled=False\n",
    ") # use the DatePicker widget and store as the object 'b'\n",
    "\n",
    "\n",
    "display(b) # use the display function to display the DatePicker widget object\n",
    "\n",
    "#Select \"2016-07-01\" as first date"
   ]
  },
  {
   "cell_type": "code",
   "execution_count": 15,
   "id": "possible-outdoors",
   "metadata": {},
   "outputs": [
    {
     "data": {
      "text/html": [
       "<div>\n",
       "<style scoped>\n",
       "    .dataframe tbody tr th:only-of-type {\n",
       "        vertical-align: middle;\n",
       "    }\n",
       "\n",
       "    .dataframe tbody tr th {\n",
       "        vertical-align: top;\n",
       "    }\n",
       "\n",
       "    .dataframe thead th {\n",
       "        text-align: right;\n",
       "    }\n",
       "</style>\n",
       "<table border=\"1\" class=\"dataframe\">\n",
       "  <thead>\n",
       "    <tr style=\"text-align: right;\">\n",
       "      <th></th>\n",
       "      <th>index</th>\n",
       "      <th>org_code</th>\n",
       "      <th>period</th>\n",
       "      <th>admissions</th>\n",
       "      <th>consent</th>\n",
       "    </tr>\n",
       "  </thead>\n",
       "  <tbody>\n",
       "    <tr>\n",
       "      <th>0</th>\n",
       "      <td>2826</td>\n",
       "      <td>NA</td>\n",
       "      <td>2016-07-01</td>\n",
       "      <td>0</td>\n",
       "      <td>True</td>\n",
       "    </tr>\n",
       "  </tbody>\n",
       "</table>\n",
       "</div>"
      ],
      "text/plain": [
       "   index org_code      period  admissions  consent\n",
       "0   2826       NA  2016-07-01           0     True"
      ]
     },
     "execution_count": 15,
     "metadata": {},
     "output_type": "execute_result"
    }
   ],
   "source": [
    "dfTofill.iloc[0,2]=b.value # Using indexing to add the index number to the 'dfTofill' file for period variable\n",
    "dfTofill # print dfTofill file with period value added\n"
   ]
  },
  {
   "cell_type": "markdown",
   "id": "close-satisfaction",
   "metadata": {},
   "source": [
    "**Use describe the describe() function from the numpy Python package to calculate \n",
    "summary statistics for the testData data frame.** "
   ]
  },
  {
   "cell_type": "code",
   "execution_count": 16,
   "id": "arctic-particular",
   "metadata": {},
   "outputs": [],
   "source": [
    "#Load the 'numpy' package\n",
    "import numpy as np\n",
    "# testData.describe(include='all')"
   ]
  },
  {
   "cell_type": "markdown",
   "id": "ideal-velvet",
   "metadata": {},
   "source": [
    "**Applying pandas unique() function to get the unique Organisation data service (ODS) codes in the test data.**"
   ]
  },
  {
   "cell_type": "code",
   "execution_count": 17,
   "id": "committed-imagination",
   "metadata": {},
   "outputs": [
    {
     "data": {
      "text/plain": [
       "['RGT', 'RM1', 'RRK', 'RJN', 'RNZ', 'RQ3', 'RBL', 'R1K', 'RPA', 'RA3', 'RDE']"
      ]
     },
     "execution_count": 17,
     "metadata": {},
     "output_type": "execute_result"
    }
   ],
   "source": [
    "org_code=list(testData['org_code'].unique()) # create a list of unique ODS codes and store as object 'org_code'\n",
    "org_code"
   ]
  },
  {
   "cell_type": "markdown",
   "id": "amended-disability",
   "metadata": {},
   "source": [
    "**Use selection widgets to display single selection lists.** "
   ]
  },
  {
   "cell_type": "code",
   "execution_count": 18,
   "id": "adjusted-wales",
   "metadata": {},
   "outputs": [],
   "source": [
    "c=widgets.Select(\n",
    "    options=org_code,\n",
    "    value='RGT',\n",
    "    rows=len(org_code),\n",
    "    description='ODS code:',\n",
    "    disabled=False\n",
    ") # use the Select widget and store as the object 'c'\n",
    "\n",
    " # display(c) # use the display function to display the DatePicker widget object\n",
    "\n",
    "# Select first code"
   ]
  },
  {
   "cell_type": "code",
   "execution_count": 19,
   "id": "clinical-lexington",
   "metadata": {},
   "outputs": [
    {
     "data": {
      "text/html": [
       "<div>\n",
       "<style scoped>\n",
       "    .dataframe tbody tr th:only-of-type {\n",
       "        vertical-align: middle;\n",
       "    }\n",
       "\n",
       "    .dataframe tbody tr th {\n",
       "        vertical-align: top;\n",
       "    }\n",
       "\n",
       "    .dataframe thead th {\n",
       "        text-align: right;\n",
       "    }\n",
       "</style>\n",
       "<table border=\"1\" class=\"dataframe\">\n",
       "  <thead>\n",
       "    <tr style=\"text-align: right;\">\n",
       "      <th></th>\n",
       "      <th>index</th>\n",
       "      <th>org_code</th>\n",
       "      <th>period</th>\n",
       "      <th>admissions</th>\n",
       "      <th>consent</th>\n",
       "    </tr>\n",
       "  </thead>\n",
       "  <tbody>\n",
       "    <tr>\n",
       "      <th>0</th>\n",
       "      <td>2826</td>\n",
       "      <td>RGT</td>\n",
       "      <td>2016-07-01</td>\n",
       "      <td>0</td>\n",
       "      <td>True</td>\n",
       "    </tr>\n",
       "  </tbody>\n",
       "</table>\n",
       "</div>"
      ],
      "text/plain": [
       "   index org_code      period  admissions  consent\n",
       "0   2826      RGT  2016-07-01           0     True"
      ]
     },
     "execution_count": 19,
     "metadata": {},
     "output_type": "execute_result"
    }
   ],
   "source": [
    "dfTofill.iloc[0,1]=c.value # Using indexing to add the index number to the 'dfTofill' file for 'org_code' variable\n",
    "dfTofill # print dfTofill file with 'org_code' value added\n"
   ]
  },
  {
   "cell_type": "markdown",
   "id": "homeless-fluid",
   "metadata": {},
   "source": [
    "**Setup numeric widgets using the 'IntText' widget because the admissions data type is an integer.**"
   ]
  },
  {
   "cell_type": "code",
   "execution_count": 20,
   "id": "aware-andrew",
   "metadata": {},
   "outputs": [
    {
     "data": {
      "application/vnd.jupyter.widget-view+json": {
       "model_id": "a1b70cd726f34257a6b97cbae5ced140",
       "version_major": 2,
       "version_minor": 0
      },
      "text/plain": [
       "IntText(value=0, description='Admissions:')"
      ]
     },
     "metadata": {},
     "output_type": "display_data"
    }
   ],
   "source": [
    "d=widgets.IntText(\n",
    "    value=0,\n",
    "    description='Admissions:',\n",
    "    disabled=False) # use the integer widget and store as the object 'd'\n",
    "\n",
    "display(d) # use the display function to display the integer widget object\n",
    "\n",
    "#select 3123 as value for admissions from the first row"
   ]
  },
  {
   "cell_type": "code",
   "execution_count": 21,
   "id": "grateful-appreciation",
   "metadata": {},
   "outputs": [
    {
     "data": {
      "text/html": [
       "<div>\n",
       "<style scoped>\n",
       "    .dataframe tbody tr th:only-of-type {\n",
       "        vertical-align: middle;\n",
       "    }\n",
       "\n",
       "    .dataframe tbody tr th {\n",
       "        vertical-align: top;\n",
       "    }\n",
       "\n",
       "    .dataframe thead th {\n",
       "        text-align: right;\n",
       "    }\n",
       "</style>\n",
       "<table border=\"1\" class=\"dataframe\">\n",
       "  <thead>\n",
       "    <tr style=\"text-align: right;\">\n",
       "      <th></th>\n",
       "      <th>index</th>\n",
       "      <th>org_code</th>\n",
       "      <th>period</th>\n",
       "      <th>admissions</th>\n",
       "      <th>consent</th>\n",
       "    </tr>\n",
       "  </thead>\n",
       "  <tbody>\n",
       "    <tr>\n",
       "      <th>0</th>\n",
       "      <td>2826</td>\n",
       "      <td>RGT</td>\n",
       "      <td>2016-07-01</td>\n",
       "      <td>3123</td>\n",
       "      <td>True</td>\n",
       "    </tr>\n",
       "  </tbody>\n",
       "</table>\n",
       "</div>"
      ],
      "text/plain": [
       "   index org_code      period  admissions  consent\n",
       "0   2826      RGT  2016-07-01        3123     True"
      ]
     },
     "execution_count": 21,
     "metadata": {},
     "output_type": "execute_result"
    }
   ],
   "source": [
    "dfTofill.iloc[0,3]=d.value # Using indexing to add the index number to the 'dfTofill' file for 'admissions' variable\n",
    "dfTofill # print dfTofill file with 'admissions' value added"
   ]
  },
  {
   "cell_type": "markdown",
   "id": "expanded-square",
   "metadata": {},
   "source": [
    "# **Concatenating the collected data to the CollectData data frame.**\n",
    "\n",
    "*Use of the concat() function from the Python pandas package to append the CollectData and dfTofill data frames.* "
   ]
  },
  {
   "cell_type": "code",
   "execution_count": 22,
   "id": "executive-monaco",
   "metadata": {},
   "outputs": [],
   "source": [
    "# CollectData is the first data frame\n",
    "# dfTofill is the second data frame\n",
    "CollectData = pd.concat([CollectData, dfTofill]) # concatenate the collected data to the CollectData data frame\n",
    "# display(CollectData) # display results\n"
   ]
  },
  {
   "cell_type": "markdown",
   "id": "spanish-performance",
   "metadata": {},
   "source": [
    "**Ensuring consent before saving the collected data to the working data folder.**"
   ]
  },
  {
   "cell_type": "code",
   "execution_count": 23,
   "id": "unknown-casino",
   "metadata": {},
   "outputs": [
    {
     "data": {
      "text/html": [
       "<div>\n",
       "<style scoped>\n",
       "    .dataframe tbody tr th:only-of-type {\n",
       "        vertical-align: middle;\n",
       "    }\n",
       "\n",
       "    .dataframe tbody tr th {\n",
       "        vertical-align: top;\n",
       "    }\n",
       "\n",
       "    .dataframe thead th {\n",
       "        text-align: right;\n",
       "    }\n",
       "</style>\n",
       "<table border=\"1\" class=\"dataframe\">\n",
       "  <thead>\n",
       "    <tr style=\"text-align: right;\">\n",
       "      <th></th>\n",
       "      <th>index</th>\n",
       "      <th>org_code</th>\n",
       "      <th>period</th>\n",
       "      <th>admissions</th>\n",
       "      <th>consent</th>\n",
       "    </tr>\n",
       "  </thead>\n",
       "  <tbody>\n",
       "    <tr>\n",
       "      <th>0</th>\n",
       "      <td>2826</td>\n",
       "      <td>RGT</td>\n",
       "      <td>2016-07-01</td>\n",
       "      <td>3123</td>\n",
       "      <td>True</td>\n",
       "    </tr>\n",
       "  </tbody>\n",
       "</table>\n",
       "</div>"
      ],
      "text/plain": [
       "   index org_code      period  admissions  consent\n",
       "0   2826      RGT  2016-07-01        3123     True"
      ]
     },
     "metadata": {},
     "output_type": "display_data"
    }
   ],
   "source": [
    "CollectData=CollectData[CollectData['consent'] == True] # subset the concatenated data to ensure consent\n",
    "display(CollectData) # display results\n"
   ]
  },
  {
   "cell_type": "markdown",
   "id": "solar-distance",
   "metadata": {},
   "source": [
    "**Saving the data collected by the data capture tool  to the working data folder.**"
   ]
  },
  {
   "cell_type": "code",
   "execution_count": 24,
   "id": "received-village",
   "metadata": {},
   "outputs": [],
   "source": [
    "CollectData.to_csv('../Data/CollectedData.csv', index=False)"
   ]
  },
  {
   "cell_type": "markdown",
   "id": "oriented-gibson",
   "metadata": {},
   "source": [
    "# **Iterate data collection process for second row of data**"
   ]
  },
  {
   "cell_type": "markdown",
   "id": "japanese-feedback",
   "metadata": {},
   "source": [
    "**Review the second row of the test dataset**"
   ]
  },
  {
   "cell_type": "code",
   "execution_count": 25,
   "id": "major-guarantee",
   "metadata": {
    "scrolled": true
   },
   "outputs": [],
   "source": [
    "# testData.head(n=2) #use the head() function in Python to review the first row of the dataset with n=2"
   ]
  },
  {
   "cell_type": "markdown",
   "id": "forward-proxy",
   "metadata": {},
   "source": [
    "**Index variable for second row**"
   ]
  },
  {
   "cell_type": "code",
   "execution_count": 26,
   "id": "removed-chorus",
   "metadata": {
    "scrolled": true
   },
   "outputs": [
    {
     "data": {
      "text/html": [
       "<div>\n",
       "<style scoped>\n",
       "    .dataframe tbody tr th:only-of-type {\n",
       "        vertical-align: middle;\n",
       "    }\n",
       "\n",
       "    .dataframe tbody tr th {\n",
       "        vertical-align: top;\n",
       "    }\n",
       "\n",
       "    .dataframe thead th {\n",
       "        text-align: right;\n",
       "    }\n",
       "</style>\n",
       "<table border=\"1\" class=\"dataframe\">\n",
       "  <thead>\n",
       "    <tr style=\"text-align: right;\">\n",
       "      <th></th>\n",
       "      <th>index</th>\n",
       "      <th>org_code</th>\n",
       "      <th>period</th>\n",
       "      <th>admissions</th>\n",
       "      <th>consent</th>\n",
       "    </tr>\n",
       "  </thead>\n",
       "  <tbody>\n",
       "    <tr>\n",
       "      <th>0</th>\n",
       "      <td>2865</td>\n",
       "      <td>RGT</td>\n",
       "      <td>2016-07-01</td>\n",
       "      <td>3123</td>\n",
       "      <td>True</td>\n",
       "    </tr>\n",
       "  </tbody>\n",
       "</table>\n",
       "</div>"
      ],
      "text/plain": [
       "   index org_code      period  admissions  consent\n",
       "0   2865      RGT  2016-07-01        3123     True"
      ]
     },
     "execution_count": 26,
     "metadata": {},
     "output_type": "execute_result"
    }
   ],
   "source": [
    "index_number=2865 #Index number for second record.\n",
    "dfTofill.iloc[0,0]=index_number # adding index number to 'dfTofill' file\n",
    "dfTofill #print dfTofill2 file with index number added"
   ]
  },
  {
   "cell_type": "markdown",
   "id": "olive-implement",
   "metadata": {},
   "source": [
    "**Consent using the checkbox widget to display boolean datatype - True or False**"
   ]
  },
  {
   "cell_type": "code",
   "execution_count": 27,
   "id": "vietnamese-horse",
   "metadata": {},
   "outputs": [
    {
     "data": {
      "application/vnd.jupyter.widget-view+json": {
       "model_id": "8cd8e62352f5484babbe53f650ce3554",
       "version_major": 2,
       "version_minor": 0
      },
      "text/plain": [
       "Checkbox(value=False, description='I consent for the data provided to be processed and shared')"
      ]
     },
     "metadata": {},
     "output_type": "display_data"
    }
   ],
   "source": [
    "a1 = widgets.Checkbox(value=False, \n",
    "description='I consent for the data provided to be processed and shared',\n",
    "disabled=False) # use the checkbox widget and store as the object 'a1'\n",
    "\n",
    "display(a1) # use the display function to display the widget object\n",
    "# mark the checkbox to give consent"
   ]
  },
  {
   "cell_type": "code",
   "execution_count": 28,
   "id": "confident-configuration",
   "metadata": {},
   "outputs": [
    {
     "data": {
      "text/html": [
       "<div>\n",
       "<style scoped>\n",
       "    .dataframe tbody tr th:only-of-type {\n",
       "        vertical-align: middle;\n",
       "    }\n",
       "\n",
       "    .dataframe tbody tr th {\n",
       "        vertical-align: top;\n",
       "    }\n",
       "\n",
       "    .dataframe thead th {\n",
       "        text-align: right;\n",
       "    }\n",
       "</style>\n",
       "<table border=\"1\" class=\"dataframe\">\n",
       "  <thead>\n",
       "    <tr style=\"text-align: right;\">\n",
       "      <th></th>\n",
       "      <th>index</th>\n",
       "      <th>org_code</th>\n",
       "      <th>period</th>\n",
       "      <th>admissions</th>\n",
       "      <th>consent</th>\n",
       "    </tr>\n",
       "  </thead>\n",
       "  <tbody>\n",
       "    <tr>\n",
       "      <th>0</th>\n",
       "      <td>2865</td>\n",
       "      <td>RGT</td>\n",
       "      <td>2016-07-01</td>\n",
       "      <td>3123</td>\n",
       "      <td>True</td>\n",
       "    </tr>\n",
       "  </tbody>\n",
       "</table>\n",
       "</div>"
      ],
      "text/plain": [
       "   index org_code      period  admissions  consent\n",
       "0   2865      RGT  2016-07-01        3123     True"
      ]
     },
     "execution_count": 28,
     "metadata": {},
     "output_type": "execute_result"
    }
   ],
   "source": [
    "dfTofill.iloc[0,4]=a1.value # Using indexing to add the index number to the 'dfTofill' file for consent variable\n",
    "dfTofill # print dfTofill file with consent variable equal True"
   ]
  },
  {
   "cell_type": "markdown",
   "id": "civil-spanking",
   "metadata": {},
   "source": [
    "**Setup a DatePicker widget to collect period data for second row**"
   ]
  },
  {
   "cell_type": "code",
   "execution_count": 29,
   "id": "swiss-coordinate",
   "metadata": {},
   "outputs": [
    {
     "data": {
      "application/vnd.jupyter.widget-view+json": {
       "model_id": "2996e127e94c441f8f699b701c425940",
       "version_major": 2,
       "version_minor": 0
      },
      "text/plain": [
       "DatePicker(value=None, description='Period')"
      ]
     },
     "metadata": {},
     "output_type": "display_data"
    }
   ],
   "source": [
    "b1 = widgets.DatePicker(\n",
    "description='Period',\n",
    "disabled=False\n",
    ") # use the DatePicker widget and store as the object 'b1'\n",
    "\n",
    "\n",
    "display(b1) # use the display function to display the DatePicker widget object\n",
    "\n",
    "#Select \"2016-07-01\" as date for second row"
   ]
  },
  {
   "cell_type": "code",
   "execution_count": 30,
   "id": "defensive-albany",
   "metadata": {},
   "outputs": [
    {
     "data": {
      "text/html": [
       "<div>\n",
       "<style scoped>\n",
       "    .dataframe tbody tr th:only-of-type {\n",
       "        vertical-align: middle;\n",
       "    }\n",
       "\n",
       "    .dataframe tbody tr th {\n",
       "        vertical-align: top;\n",
       "    }\n",
       "\n",
       "    .dataframe thead th {\n",
       "        text-align: right;\n",
       "    }\n",
       "</style>\n",
       "<table border=\"1\" class=\"dataframe\">\n",
       "  <thead>\n",
       "    <tr style=\"text-align: right;\">\n",
       "      <th></th>\n",
       "      <th>index</th>\n",
       "      <th>org_code</th>\n",
       "      <th>period</th>\n",
       "      <th>admissions</th>\n",
       "      <th>consent</th>\n",
       "    </tr>\n",
       "  </thead>\n",
       "  <tbody>\n",
       "    <tr>\n",
       "      <th>0</th>\n",
       "      <td>2865</td>\n",
       "      <td>RGT</td>\n",
       "      <td>2016-07-01</td>\n",
       "      <td>3123</td>\n",
       "      <td>True</td>\n",
       "    </tr>\n",
       "  </tbody>\n",
       "</table>\n",
       "</div>"
      ],
      "text/plain": [
       "   index org_code      period  admissions  consent\n",
       "0   2865      RGT  2016-07-01        3123     True"
      ]
     },
     "execution_count": 30,
     "metadata": {},
     "output_type": "execute_result"
    }
   ],
   "source": [
    "dfTofill.iloc[0,2]=b1.value # Using indexing to add the index number to the 'dfTofill' file for period variable\n",
    "dfTofill # print dfTofill file with period value added"
   ]
  },
  {
   "cell_type": "markdown",
   "id": "transparent-beach",
   "metadata": {},
   "source": [
    "**Use selection widgets to display single selection lists for row 2 for org_code variable.**"
   ]
  },
  {
   "cell_type": "code",
   "execution_count": 31,
   "id": "recent-latest",
   "metadata": {},
   "outputs": [],
   "source": [
    "c1=widgets.Select(\n",
    "    options=org_code,\n",
    "    value='RM1',\n",
    "    rows=len(org_code),\n",
    "    description='ODS code:',\n",
    "    disabled=False\n",
    ") # use the Select widget and store as the object 'c1'\n",
    "\n",
    "# display(c1) # use the display function to display the DatePicker widget object\n",
    "\n",
    "# Select second code"
   ]
  },
  {
   "cell_type": "code",
   "execution_count": 32,
   "id": "scheduled-murray",
   "metadata": {},
   "outputs": [
    {
     "data": {
      "text/html": [
       "<div>\n",
       "<style scoped>\n",
       "    .dataframe tbody tr th:only-of-type {\n",
       "        vertical-align: middle;\n",
       "    }\n",
       "\n",
       "    .dataframe tbody tr th {\n",
       "        vertical-align: top;\n",
       "    }\n",
       "\n",
       "    .dataframe thead th {\n",
       "        text-align: right;\n",
       "    }\n",
       "</style>\n",
       "<table border=\"1\" class=\"dataframe\">\n",
       "  <thead>\n",
       "    <tr style=\"text-align: right;\">\n",
       "      <th></th>\n",
       "      <th>index</th>\n",
       "      <th>org_code</th>\n",
       "      <th>period</th>\n",
       "      <th>admissions</th>\n",
       "      <th>consent</th>\n",
       "    </tr>\n",
       "  </thead>\n",
       "  <tbody>\n",
       "    <tr>\n",
       "      <th>0</th>\n",
       "      <td>2865</td>\n",
       "      <td>RM1</td>\n",
       "      <td>2016-07-01</td>\n",
       "      <td>3123</td>\n",
       "      <td>True</td>\n",
       "    </tr>\n",
       "  </tbody>\n",
       "</table>\n",
       "</div>"
      ],
      "text/plain": [
       "   index org_code      period  admissions  consent\n",
       "0   2865      RM1  2016-07-01        3123     True"
      ]
     },
     "execution_count": 32,
     "metadata": {},
     "output_type": "execute_result"
    }
   ],
   "source": [
    "dfTofill.iloc[0,1]=c1.value # Using indexing to add the index number to row2 'dfTofill' file for 'org_code' variable\n",
    "dfTofill # print dfTofill file row2 with 'org_code' value added"
   ]
  },
  {
   "cell_type": "markdown",
   "id": "republican-cream",
   "metadata": {},
   "source": [
    "**Use IntText' widget to collect index value for admissions for second row.**"
   ]
  },
  {
   "cell_type": "code",
   "execution_count": 33,
   "id": "spiritual-afghanistan",
   "metadata": {},
   "outputs": [
    {
     "data": {
      "application/vnd.jupyter.widget-view+json": {
       "model_id": "fa7eb35a5d914ca8bf2c805cf1f627cd",
       "version_major": 2,
       "version_minor": 0
      },
      "text/plain": [
       "IntText(value=0, description='Admissions:')"
      ]
     },
     "metadata": {},
     "output_type": "display_data"
    }
   ],
   "source": [
    "d1=widgets.IntText(\n",
    "    value=0,\n",
    "    description='Admissions:',\n",
    "    disabled=False) # use the integer widget and store as the object 'd1'\n",
    "\n",
    "display(d1) # use the display function to display the integer widget object\n",
    "\n",
    "#select 2891 as value for admissions from the second row"
   ]
  },
  {
   "cell_type": "code",
   "execution_count": 34,
   "id": "interior-track",
   "metadata": {},
   "outputs": [
    {
     "data": {
      "text/html": [
       "<div>\n",
       "<style scoped>\n",
       "    .dataframe tbody tr th:only-of-type {\n",
       "        vertical-align: middle;\n",
       "    }\n",
       "\n",
       "    .dataframe tbody tr th {\n",
       "        vertical-align: top;\n",
       "    }\n",
       "\n",
       "    .dataframe thead th {\n",
       "        text-align: right;\n",
       "    }\n",
       "</style>\n",
       "<table border=\"1\" class=\"dataframe\">\n",
       "  <thead>\n",
       "    <tr style=\"text-align: right;\">\n",
       "      <th></th>\n",
       "      <th>index</th>\n",
       "      <th>org_code</th>\n",
       "      <th>period</th>\n",
       "      <th>admissions</th>\n",
       "      <th>consent</th>\n",
       "    </tr>\n",
       "  </thead>\n",
       "  <tbody>\n",
       "    <tr>\n",
       "      <th>0</th>\n",
       "      <td>2865</td>\n",
       "      <td>RM1</td>\n",
       "      <td>2016-07-01</td>\n",
       "      <td>2891</td>\n",
       "      <td>True</td>\n",
       "    </tr>\n",
       "  </tbody>\n",
       "</table>\n",
       "</div>"
      ],
      "text/plain": [
       "   index org_code      period  admissions  consent\n",
       "0   2865      RM1  2016-07-01        2891     True"
      ]
     },
     "execution_count": 34,
     "metadata": {},
     "output_type": "execute_result"
    }
   ],
   "source": [
    "dfTofill.iloc[0,3]=d1.value # Using indexing to add the index number to the 'dfTofill' file for 'admissions' variable\n",
    "dfTofill # print dfTofill file with 'admissions' value added"
   ]
  },
  {
   "cell_type": "markdown",
   "id": "sudden-apollo",
   "metadata": {},
   "source": [
    "**Concatenate second row of data to the CollectData data frame.**"
   ]
  },
  {
   "cell_type": "code",
   "execution_count": 35,
   "id": "advised-committee",
   "metadata": {},
   "outputs": [],
   "source": [
    "CollectData = pd.concat([CollectData, dfTofill]) # concatenate the collected data to the CollectData data frame\n",
    "# display(CollectData) # display results"
   ]
  },
  {
   "cell_type": "markdown",
   "id": "entire-satisfaction",
   "metadata": {},
   "source": [
    "# **Iterate data collection process for third row of data**"
   ]
  },
  {
   "cell_type": "markdown",
   "id": "prime-return",
   "metadata": {},
   "source": [
    "**Review the third row of the test dataset**"
   ]
  },
  {
   "cell_type": "code",
   "execution_count": 36,
   "id": "burning-viewer",
   "metadata": {
    "scrolled": true
   },
   "outputs": [],
   "source": [
    "# testData.head(n=3) #use the head() function in Python to review the third row of the dataset with n=3"
   ]
  },
  {
   "cell_type": "markdown",
   "id": "adapted-jackson",
   "metadata": {},
   "source": [
    "**Index variable for third row**"
   ]
  },
  {
   "cell_type": "code",
   "execution_count": 37,
   "id": "behavioral-prefix",
   "metadata": {
    "scrolled": true
   },
   "outputs": [
    {
     "data": {
      "text/html": [
       "<div>\n",
       "<style scoped>\n",
       "    .dataframe tbody tr th:only-of-type {\n",
       "        vertical-align: middle;\n",
       "    }\n",
       "\n",
       "    .dataframe tbody tr th {\n",
       "        vertical-align: top;\n",
       "    }\n",
       "\n",
       "    .dataframe thead th {\n",
       "        text-align: right;\n",
       "    }\n",
       "</style>\n",
       "<table border=\"1\" class=\"dataframe\">\n",
       "  <thead>\n",
       "    <tr style=\"text-align: right;\">\n",
       "      <th></th>\n",
       "      <th>index</th>\n",
       "      <th>org_code</th>\n",
       "      <th>period</th>\n",
       "      <th>admissions</th>\n",
       "      <th>consent</th>\n",
       "    </tr>\n",
       "  </thead>\n",
       "  <tbody>\n",
       "    <tr>\n",
       "      <th>0</th>\n",
       "      <td>3941</td>\n",
       "      <td>RM1</td>\n",
       "      <td>2016-07-01</td>\n",
       "      <td>2891</td>\n",
       "      <td>True</td>\n",
       "    </tr>\n",
       "  </tbody>\n",
       "</table>\n",
       "</div>"
      ],
      "text/plain": [
       "   index org_code      period  admissions  consent\n",
       "0   3941      RM1  2016-07-01        2891     True"
      ]
     },
     "execution_count": 37,
     "metadata": {},
     "output_type": "execute_result"
    }
   ],
   "source": [
    "index_number=3941 #Index number for third record.\n",
    "dfTofill.iloc[0,0]=index_number # adding index number to 'dfTofill' file\n",
    "dfTofill #print dfTofill file with index number added"
   ]
  },
  {
   "cell_type": "markdown",
   "id": "labeled-tribute",
   "metadata": {},
   "source": [
    "**Consent using the checkbox widget to display boolean datatype - True or False**"
   ]
  },
  {
   "cell_type": "code",
   "execution_count": 38,
   "id": "rental-battlefield",
   "metadata": {},
   "outputs": [
    {
     "data": {
      "application/vnd.jupyter.widget-view+json": {
       "model_id": "0382d7254d1744289dc125dfc818716d",
       "version_major": 2,
       "version_minor": 0
      },
      "text/plain": [
       "Checkbox(value=False, description='I consent for the data provided to be processed and shared')"
      ]
     },
     "metadata": {},
     "output_type": "display_data"
    }
   ],
   "source": [
    "a2 = widgets.Checkbox(value=False, \n",
    "description='I consent for the data provided to be processed and shared',\n",
    "disabled=False) # use the checkbox widget and store as the object 'a2'\n",
    "\n",
    "display(a2) # use the display function to display the widget object\n",
    "# mark the checkbox to give consent"
   ]
  },
  {
   "cell_type": "code",
   "execution_count": 39,
   "id": "handled-wisconsin",
   "metadata": {},
   "outputs": [
    {
     "data": {
      "text/html": [
       "<div>\n",
       "<style scoped>\n",
       "    .dataframe tbody tr th:only-of-type {\n",
       "        vertical-align: middle;\n",
       "    }\n",
       "\n",
       "    .dataframe tbody tr th {\n",
       "        vertical-align: top;\n",
       "    }\n",
       "\n",
       "    .dataframe thead th {\n",
       "        text-align: right;\n",
       "    }\n",
       "</style>\n",
       "<table border=\"1\" class=\"dataframe\">\n",
       "  <thead>\n",
       "    <tr style=\"text-align: right;\">\n",
       "      <th></th>\n",
       "      <th>index</th>\n",
       "      <th>org_code</th>\n",
       "      <th>period</th>\n",
       "      <th>admissions</th>\n",
       "      <th>consent</th>\n",
       "    </tr>\n",
       "  </thead>\n",
       "  <tbody>\n",
       "    <tr>\n",
       "      <th>0</th>\n",
       "      <td>3941</td>\n",
       "      <td>RM1</td>\n",
       "      <td>2016-07-01</td>\n",
       "      <td>2891</td>\n",
       "      <td>True</td>\n",
       "    </tr>\n",
       "  </tbody>\n",
       "</table>\n",
       "</div>"
      ],
      "text/plain": [
       "   index org_code      period  admissions  consent\n",
       "0   3941      RM1  2016-07-01        2891     True"
      ]
     },
     "execution_count": 39,
     "metadata": {},
     "output_type": "execute_result"
    }
   ],
   "source": [
    "dfTofill.iloc[0,4]=a2.value # Using indexing to add the index number to the 'dfTofill' file for consent variable\n",
    "dfTofill # print dfTofill file with consent variable equal True"
   ]
  },
  {
   "cell_type": "markdown",
   "id": "rising-moderator",
   "metadata": {},
   "source": [
    "**Setup a DatePicker widget to collect period data for third row**"
   ]
  },
  {
   "cell_type": "code",
   "execution_count": 40,
   "id": "republican-presentation",
   "metadata": {},
   "outputs": [
    {
     "data": {
      "application/vnd.jupyter.widget-view+json": {
       "model_id": "be8feeb28ee64bb4a9bfe5426913cd61",
       "version_major": 2,
       "version_minor": 0
      },
      "text/plain": [
       "DatePicker(value=None, description='Period')"
      ]
     },
     "metadata": {},
     "output_type": "display_data"
    }
   ],
   "source": [
    "b2 = widgets.DatePicker(\n",
    "description='Period',\n",
    "disabled=False\n",
    ") # use the DatePicker widget and store as the object 'b1'\n",
    "\n",
    "display(b2) # use the display function to display the DatePicker widget object\n",
    "#Select \"2016-04-01\" as date for third row"
   ]
  },
  {
   "cell_type": "code",
   "execution_count": 41,
   "id": "verbal-defense",
   "metadata": {},
   "outputs": [
    {
     "data": {
      "text/html": [
       "<div>\n",
       "<style scoped>\n",
       "    .dataframe tbody tr th:only-of-type {\n",
       "        vertical-align: middle;\n",
       "    }\n",
       "\n",
       "    .dataframe tbody tr th {\n",
       "        vertical-align: top;\n",
       "    }\n",
       "\n",
       "    .dataframe thead th {\n",
       "        text-align: right;\n",
       "    }\n",
       "</style>\n",
       "<table border=\"1\" class=\"dataframe\">\n",
       "  <thead>\n",
       "    <tr style=\"text-align: right;\">\n",
       "      <th></th>\n",
       "      <th>index</th>\n",
       "      <th>org_code</th>\n",
       "      <th>period</th>\n",
       "      <th>admissions</th>\n",
       "      <th>consent</th>\n",
       "    </tr>\n",
       "  </thead>\n",
       "  <tbody>\n",
       "    <tr>\n",
       "      <th>0</th>\n",
       "      <td>3941</td>\n",
       "      <td>RM1</td>\n",
       "      <td>2016-04-01</td>\n",
       "      <td>2891</td>\n",
       "      <td>True</td>\n",
       "    </tr>\n",
       "  </tbody>\n",
       "</table>\n",
       "</div>"
      ],
      "text/plain": [
       "   index org_code      period  admissions  consent\n",
       "0   3941      RM1  2016-04-01        2891     True"
      ]
     },
     "execution_count": 41,
     "metadata": {},
     "output_type": "execute_result"
    }
   ],
   "source": [
    "dfTofill.iloc[0,2]=b2.value # Using indexing to add the index number to the 'dfTofill' file for period variable\n",
    "dfTofill # print dfTofill file with period value added"
   ]
  },
  {
   "cell_type": "markdown",
   "id": "inclusive-weapon",
   "metadata": {},
   "source": [
    "**Use selection widgets to display single selection lists for row 3 for org_code variable.**"
   ]
  },
  {
   "cell_type": "code",
   "execution_count": 42,
   "id": "fuzzy-tuning",
   "metadata": {},
   "outputs": [],
   "source": [
    "c2=widgets.Select(\n",
    "    options=org_code,\n",
    "    value='RRK',\n",
    "    rows=len(org_code),\n",
    "    description='ODS code:',\n",
    "    disabled=False\n",
    ") # use the Select widget and store as the object 'c1'\n",
    "\n",
    "# display(c2) # use the display function to display the DatePicker widget object\n",
    "\n",
    "# Select third code"
   ]
  },
  {
   "cell_type": "code",
   "execution_count": 43,
   "id": "banned-artist",
   "metadata": {},
   "outputs": [
    {
     "data": {
      "text/html": [
       "<div>\n",
       "<style scoped>\n",
       "    .dataframe tbody tr th:only-of-type {\n",
       "        vertical-align: middle;\n",
       "    }\n",
       "\n",
       "    .dataframe tbody tr th {\n",
       "        vertical-align: top;\n",
       "    }\n",
       "\n",
       "    .dataframe thead th {\n",
       "        text-align: right;\n",
       "    }\n",
       "</style>\n",
       "<table border=\"1\" class=\"dataframe\">\n",
       "  <thead>\n",
       "    <tr style=\"text-align: right;\">\n",
       "      <th></th>\n",
       "      <th>index</th>\n",
       "      <th>org_code</th>\n",
       "      <th>period</th>\n",
       "      <th>admissions</th>\n",
       "      <th>consent</th>\n",
       "    </tr>\n",
       "  </thead>\n",
       "  <tbody>\n",
       "    <tr>\n",
       "      <th>0</th>\n",
       "      <td>3941</td>\n",
       "      <td>RRK</td>\n",
       "      <td>2016-04-01</td>\n",
       "      <td>2891</td>\n",
       "      <td>True</td>\n",
       "    </tr>\n",
       "  </tbody>\n",
       "</table>\n",
       "</div>"
      ],
      "text/plain": [
       "   index org_code      period  admissions  consent\n",
       "0   3941      RRK  2016-04-01        2891     True"
      ]
     },
     "execution_count": 43,
     "metadata": {},
     "output_type": "execute_result"
    }
   ],
   "source": [
    "dfTofill.iloc[0,1]=c2.value # Using indexing to add the index number to row3 'dfTofill' file for 'org_code' variable\n",
    "dfTofill # print dfTofill file row3 with 'org_code' value added"
   ]
  },
  {
   "cell_type": "markdown",
   "id": "parallel-debut",
   "metadata": {},
   "source": [
    "**Use IntText' widget to collect index value for admissions for third row.**"
   ]
  },
  {
   "cell_type": "code",
   "execution_count": 44,
   "id": "ordinary-short",
   "metadata": {},
   "outputs": [
    {
     "data": {
      "application/vnd.jupyter.widget-view+json": {
       "model_id": "a2d5c4f2ebce425b90ff56aa851e7861",
       "version_major": 2,
       "version_minor": 0
      },
      "text/plain": [
       "IntText(value=0, description='Admissions:')"
      ]
     },
     "metadata": {},
     "output_type": "display_data"
    }
   ],
   "source": [
    "d2=widgets.IntText(\n",
    "    value=0,\n",
    "    description='Admissions:',\n",
    "    disabled=False) # use the integer widget and store as the object 'd1'\n",
    "\n",
    "display(d2) # use the display function to display the integer widget object\n",
    "\n",
    "#select 2744 as value for admissions from the third row"
   ]
  },
  {
   "cell_type": "code",
   "execution_count": 45,
   "id": "specified-innocent",
   "metadata": {},
   "outputs": [
    {
     "data": {
      "text/html": [
       "<div>\n",
       "<style scoped>\n",
       "    .dataframe tbody tr th:only-of-type {\n",
       "        vertical-align: middle;\n",
       "    }\n",
       "\n",
       "    .dataframe tbody tr th {\n",
       "        vertical-align: top;\n",
       "    }\n",
       "\n",
       "    .dataframe thead th {\n",
       "        text-align: right;\n",
       "    }\n",
       "</style>\n",
       "<table border=\"1\" class=\"dataframe\">\n",
       "  <thead>\n",
       "    <tr style=\"text-align: right;\">\n",
       "      <th></th>\n",
       "      <th>index</th>\n",
       "      <th>org_code</th>\n",
       "      <th>period</th>\n",
       "      <th>admissions</th>\n",
       "      <th>consent</th>\n",
       "    </tr>\n",
       "  </thead>\n",
       "  <tbody>\n",
       "    <tr>\n",
       "      <th>0</th>\n",
       "      <td>3941</td>\n",
       "      <td>RRK</td>\n",
       "      <td>2016-04-01</td>\n",
       "      <td>2744</td>\n",
       "      <td>True</td>\n",
       "    </tr>\n",
       "  </tbody>\n",
       "</table>\n",
       "</div>"
      ],
      "text/plain": [
       "   index org_code      period  admissions  consent\n",
       "0   3941      RRK  2016-04-01        2744     True"
      ]
     },
     "execution_count": 45,
     "metadata": {},
     "output_type": "execute_result"
    }
   ],
   "source": [
    "dfTofill.iloc[0,3]=d2.value # Using indexing to add the index number to the 'dfTofill' file for 'admissions' variable\n",
    "dfTofill # print dfTofill file with 'admissions' value added"
   ]
  },
  {
   "cell_type": "markdown",
   "id": "basic-tablet",
   "metadata": {},
   "source": [
    "**Concatenate third row of data to the CollectData data frame.**"
   ]
  },
  {
   "cell_type": "code",
   "execution_count": 46,
   "id": "blank-pennsylvania",
   "metadata": {},
   "outputs": [],
   "source": [
    "CollectData = pd.concat([CollectData, dfTofill]) # concatenate the collected data to the CollectData data frame\n",
    "# display(CollectData) # display results"
   ]
  },
  {
   "cell_type": "markdown",
   "id": "dental-washer",
   "metadata": {},
   "source": [
    "# **Iterate data collection process for fourth row of data**"
   ]
  },
  {
   "cell_type": "code",
   "execution_count": 47,
   "id": "mechanical-heritage",
   "metadata": {
    "scrolled": true
   },
   "outputs": [],
   "source": [
    "# testData.head(n=4) #use the head() function in Python to review the fourth row of the dataset with n=4"
   ]
  },
  {
   "cell_type": "code",
   "execution_count": 48,
   "id": "comfortable-netherlands",
   "metadata": {},
   "outputs": [
    {
     "data": {
      "text/html": [
       "<div>\n",
       "<style scoped>\n",
       "    .dataframe tbody tr th:only-of-type {\n",
       "        vertical-align: middle;\n",
       "    }\n",
       "\n",
       "    .dataframe tbody tr th {\n",
       "        vertical-align: top;\n",
       "    }\n",
       "\n",
       "    .dataframe thead th {\n",
       "        text-align: right;\n",
       "    }\n",
       "</style>\n",
       "<table border=\"1\" class=\"dataframe\">\n",
       "  <thead>\n",
       "    <tr style=\"text-align: right;\">\n",
       "      <th></th>\n",
       "      <th>index</th>\n",
       "      <th>org_code</th>\n",
       "      <th>period</th>\n",
       "      <th>admissions</th>\n",
       "      <th>consent</th>\n",
       "    </tr>\n",
       "  </thead>\n",
       "  <tbody>\n",
       "    <tr>\n",
       "      <th>0</th>\n",
       "      <td>5431</td>\n",
       "      <td>RRK</td>\n",
       "      <td>2016-04-01</td>\n",
       "      <td>2744</td>\n",
       "      <td>True</td>\n",
       "    </tr>\n",
       "  </tbody>\n",
       "</table>\n",
       "</div>"
      ],
      "text/plain": [
       "   index org_code      period  admissions  consent\n",
       "0   5431      RRK  2016-04-01        2744     True"
      ]
     },
     "execution_count": 48,
     "metadata": {},
     "output_type": "execute_result"
    }
   ],
   "source": [
    "index_number=5431 #Index number for fourth record.\n",
    "dfTofill.iloc[0,0]=index_number # adding index number to 'dfTofill' file\n",
    "dfTofill #print dfTofill file with index number added"
   ]
  },
  {
   "cell_type": "code",
   "execution_count": 49,
   "id": "white-protein",
   "metadata": {},
   "outputs": [
    {
     "data": {
      "application/vnd.jupyter.widget-view+json": {
       "model_id": "609240ba147542288e4363f74fd91eb4",
       "version_major": 2,
       "version_minor": 0
      },
      "text/plain": [
       "Checkbox(value=False, description='I consent for the data provided to be processed and shared')"
      ]
     },
     "metadata": {},
     "output_type": "display_data"
    }
   ],
   "source": [
    "#setup consent using checkbox widget for the fourth row\n",
    "a3 = widgets.Checkbox(value=False, \n",
    "description='I consent for the data provided to be processed and shared',\n",
    "disabled=False) # use the checkbox widget and store as the object 'a3'\n",
    "\n",
    "display(a3) # use the display function to display the widget object\n",
    "# mark the checkbox to give consent"
   ]
  },
  {
   "cell_type": "code",
   "execution_count": 50,
   "id": "civilian-granny",
   "metadata": {},
   "outputs": [
    {
     "data": {
      "text/html": [
       "<div>\n",
       "<style scoped>\n",
       "    .dataframe tbody tr th:only-of-type {\n",
       "        vertical-align: middle;\n",
       "    }\n",
       "\n",
       "    .dataframe tbody tr th {\n",
       "        vertical-align: top;\n",
       "    }\n",
       "\n",
       "    .dataframe thead th {\n",
       "        text-align: right;\n",
       "    }\n",
       "</style>\n",
       "<table border=\"1\" class=\"dataframe\">\n",
       "  <thead>\n",
       "    <tr style=\"text-align: right;\">\n",
       "      <th></th>\n",
       "      <th>index</th>\n",
       "      <th>org_code</th>\n",
       "      <th>period</th>\n",
       "      <th>admissions</th>\n",
       "      <th>consent</th>\n",
       "    </tr>\n",
       "  </thead>\n",
       "  <tbody>\n",
       "    <tr>\n",
       "      <th>0</th>\n",
       "      <td>5431</td>\n",
       "      <td>RRK</td>\n",
       "      <td>2016-04-01</td>\n",
       "      <td>2744</td>\n",
       "      <td>True</td>\n",
       "    </tr>\n",
       "  </tbody>\n",
       "</table>\n",
       "</div>"
      ],
      "text/plain": [
       "   index org_code      period  admissions  consent\n",
       "0   5431      RRK  2016-04-01        2744     True"
      ]
     },
     "execution_count": 50,
     "metadata": {},
     "output_type": "execute_result"
    }
   ],
   "source": [
    "dfTofill.iloc[0,4]=a2.value # Using indexing to add the index number to the 'dfTofill' file for consent variable\n",
    "dfTofill # print dfTofill file with consent variable equal True"
   ]
  },
  {
   "cell_type": "code",
   "execution_count": 51,
   "id": "classified-conditions",
   "metadata": {},
   "outputs": [
    {
     "data": {
      "application/vnd.jupyter.widget-view+json": {
       "model_id": "96a9a37fd9b54f3894b237f3307f419b",
       "version_major": 2,
       "version_minor": 0
      },
      "text/plain": [
       "DatePicker(value=None, description='Period')"
      ]
     },
     "metadata": {},
     "output_type": "display_data"
    }
   ],
   "source": [
    "#Setup a DatePicker widget to collect period data for the fourth row\n",
    "\n",
    "b3 = widgets.DatePicker(\n",
    "description='Period',\n",
    "disabled=False\n",
    ") # use the DatePicker widget and store as the object 'b3'\n",
    "\n",
    "display(b3) # use the display function to display the DatePicker widget object\n",
    "\n",
    "#Select \"2017-12-01\" as date for fourth row"
   ]
  },
  {
   "cell_type": "code",
   "execution_count": 52,
   "id": "spoken-briefing",
   "metadata": {},
   "outputs": [
    {
     "data": {
      "text/html": [
       "<div>\n",
       "<style scoped>\n",
       "    .dataframe tbody tr th:only-of-type {\n",
       "        vertical-align: middle;\n",
       "    }\n",
       "\n",
       "    .dataframe tbody tr th {\n",
       "        vertical-align: top;\n",
       "    }\n",
       "\n",
       "    .dataframe thead th {\n",
       "        text-align: right;\n",
       "    }\n",
       "</style>\n",
       "<table border=\"1\" class=\"dataframe\">\n",
       "  <thead>\n",
       "    <tr style=\"text-align: right;\">\n",
       "      <th></th>\n",
       "      <th>index</th>\n",
       "      <th>org_code</th>\n",
       "      <th>period</th>\n",
       "      <th>admissions</th>\n",
       "      <th>consent</th>\n",
       "    </tr>\n",
       "  </thead>\n",
       "  <tbody>\n",
       "    <tr>\n",
       "      <th>0</th>\n",
       "      <td>5431</td>\n",
       "      <td>RRK</td>\n",
       "      <td>2017-12-01</td>\n",
       "      <td>2744</td>\n",
       "      <td>True</td>\n",
       "    </tr>\n",
       "  </tbody>\n",
       "</table>\n",
       "</div>"
      ],
      "text/plain": [
       "   index org_code      period  admissions  consent\n",
       "0   5431      RRK  2017-12-01        2744     True"
      ]
     },
     "execution_count": 52,
     "metadata": {},
     "output_type": "execute_result"
    }
   ],
   "source": [
    "dfTofill.iloc[0,2]=b3.value # Using indexing to add the index number to the 'dfTofill' file for period variable\n",
    "dfTofill # print dfTofill file with period value added"
   ]
  },
  {
   "cell_type": "code",
   "execution_count": 53,
   "id": "abroad-frequency",
   "metadata": {},
   "outputs": [],
   "source": [
    "#Use selection widgets to display single selection lists for row 4 for org_code variable.\n",
    "c3=widgets.Select(\n",
    "    options=org_code,\n",
    "    value='RJN',\n",
    "    rows=len(org_code),\n",
    "    description='ODS code:',\n",
    "    disabled=False\n",
    ") # use the Select widget and store as the object 'c3'\n",
    "\n",
    "# display(c3) # use the display function to display the DatePicker widget object\n",
    "\n",
    "# Select fourth code"
   ]
  },
  {
   "cell_type": "code",
   "execution_count": 54,
   "id": "completed-knitting",
   "metadata": {},
   "outputs": [
    {
     "data": {
      "text/html": [
       "<div>\n",
       "<style scoped>\n",
       "    .dataframe tbody tr th:only-of-type {\n",
       "        vertical-align: middle;\n",
       "    }\n",
       "\n",
       "    .dataframe tbody tr th {\n",
       "        vertical-align: top;\n",
       "    }\n",
       "\n",
       "    .dataframe thead th {\n",
       "        text-align: right;\n",
       "    }\n",
       "</style>\n",
       "<table border=\"1\" class=\"dataframe\">\n",
       "  <thead>\n",
       "    <tr style=\"text-align: right;\">\n",
       "      <th></th>\n",
       "      <th>index</th>\n",
       "      <th>org_code</th>\n",
       "      <th>period</th>\n",
       "      <th>admissions</th>\n",
       "      <th>consent</th>\n",
       "    </tr>\n",
       "  </thead>\n",
       "  <tbody>\n",
       "    <tr>\n",
       "      <th>0</th>\n",
       "      <td>5431</td>\n",
       "      <td>RJN</td>\n",
       "      <td>2017-12-01</td>\n",
       "      <td>2744</td>\n",
       "      <td>True</td>\n",
       "    </tr>\n",
       "  </tbody>\n",
       "</table>\n",
       "</div>"
      ],
      "text/plain": [
       "   index org_code      period  admissions  consent\n",
       "0   5431      RJN  2017-12-01        2744     True"
      ]
     },
     "execution_count": 54,
     "metadata": {},
     "output_type": "execute_result"
    }
   ],
   "source": [
    "dfTofill.iloc[0,1]=c3.value # Using indexing to add the index number to row4 'dfTofill' file for 'org_code' variable\n",
    "dfTofill # print dfTofill file row4 with 'org_code' value added"
   ]
  },
  {
   "cell_type": "code",
   "execution_count": 55,
   "id": "smoking-belle",
   "metadata": {},
   "outputs": [
    {
     "data": {
      "application/vnd.jupyter.widget-view+json": {
       "model_id": "847c80b4b6084c8599cf0904069540cd",
       "version_major": 2,
       "version_minor": 0
      },
      "text/plain": [
       "IntText(value=0, description='Admissions:')"
      ]
     },
     "metadata": {},
     "output_type": "display_data"
    }
   ],
   "source": [
    "#Use IntText' widget to collect index value for admissions for fourth row.\n",
    "\n",
    "d3=widgets.IntText(\n",
    "    value=0,\n",
    "    description='Admissions:',\n",
    "    disabled=False) # use the integer widget and store as the object 'd3'\n",
    "\n",
    "display(d3) # use the display function to display the integer widget object\n",
    "\n",
    "#select 971 as value for admissions from the fourth row"
   ]
  },
  {
   "cell_type": "code",
   "execution_count": 56,
   "id": "freelance-elephant",
   "metadata": {},
   "outputs": [],
   "source": [
    "dfTofill.iloc[0,3]=d3.value # Using indexing to add the index number to the 'dfTofill' file for 'admissions' variable\n",
    "dfTofill # print dfTofill file with 'admissions' value added\n",
    "\n",
    "#Concatenate fourth row of data to the CollectData data frame.\n",
    "CollectData = pd.concat([CollectData, dfTofill]) # concatenate the collected data to the CollectData data frame\n",
    "# display(CollectData) # display results"
   ]
  },
  {
   "cell_type": "markdown",
   "id": "thirty-browse",
   "metadata": {},
   "source": [
    "# **Iterate data collection process for fifth row of data**"
   ]
  },
  {
   "cell_type": "code",
   "execution_count": 57,
   "id": "unknown-congo",
   "metadata": {
    "scrolled": true
   },
   "outputs": [],
   "source": [
    " # testData.head(n=5) #use the head() function in Python to review the fifth row of the dataset with n=5"
   ]
  },
  {
   "cell_type": "code",
   "execution_count": 58,
   "id": "composite-aaron",
   "metadata": {},
   "outputs": [
    {
     "data": {
      "text/html": [
       "<div>\n",
       "<style scoped>\n",
       "    .dataframe tbody tr th:only-of-type {\n",
       "        vertical-align: middle;\n",
       "    }\n",
       "\n",
       "    .dataframe tbody tr th {\n",
       "        vertical-align: top;\n",
       "    }\n",
       "\n",
       "    .dataframe thead th {\n",
       "        text-align: right;\n",
       "    }\n",
       "</style>\n",
       "<table border=\"1\" class=\"dataframe\">\n",
       "  <thead>\n",
       "    <tr style=\"text-align: right;\">\n",
       "      <th></th>\n",
       "      <th>index</th>\n",
       "      <th>org_code</th>\n",
       "      <th>period</th>\n",
       "      <th>admissions</th>\n",
       "      <th>consent</th>\n",
       "    </tr>\n",
       "  </thead>\n",
       "  <tbody>\n",
       "    <tr>\n",
       "      <th>0</th>\n",
       "      <td>5940</td>\n",
       "      <td>RJN</td>\n",
       "      <td>2017-12-01</td>\n",
       "      <td>971</td>\n",
       "      <td>True</td>\n",
       "    </tr>\n",
       "  </tbody>\n",
       "</table>\n",
       "</div>"
      ],
      "text/plain": [
       "   index org_code      period  admissions  consent\n",
       "0   5940      RJN  2017-12-01         971     True"
      ]
     },
     "execution_count": 58,
     "metadata": {},
     "output_type": "execute_result"
    }
   ],
   "source": [
    "index_number=5940 #Index number for fifth record.\n",
    "dfTofill.iloc[0,0]=index_number # adding index number to 'dfTofill' file\n",
    "dfTofill #print dfTofill file with index number added"
   ]
  },
  {
   "cell_type": "code",
   "execution_count": 59,
   "id": "exclusive-functionality",
   "metadata": {},
   "outputs": [
    {
     "data": {
      "application/vnd.jupyter.widget-view+json": {
       "model_id": "a232d97644a14aceb63d55265c9fec4c",
       "version_major": 2,
       "version_minor": 0
      },
      "text/plain": [
       "Checkbox(value=False, description='I consent for the data provided to be processed and shared')"
      ]
     },
     "metadata": {},
     "output_type": "display_data"
    }
   ],
   "source": [
    "#setup consent using checkbox widget for the fifth row\n",
    "a4 = widgets.Checkbox(value=False, \n",
    "description='I consent for the data provided to be processed and shared',\n",
    "disabled=False) # use the checkbox widget and store as the object 'a4'\n",
    "\n",
    "display(a4) # use the display function to display the widget object\n",
    "# mark the checkbox to give consent"
   ]
  },
  {
   "cell_type": "code",
   "execution_count": 60,
   "id": "animal-liberia",
   "metadata": {},
   "outputs": [
    {
     "data": {
      "application/vnd.jupyter.widget-view+json": {
       "model_id": "a33943bc8004407e9b0b7aab78812e48",
       "version_major": 2,
       "version_minor": 0
      },
      "text/plain": [
       "DatePicker(value=None, description='Period')"
      ]
     },
     "metadata": {},
     "output_type": "display_data"
    }
   ],
   "source": [
    "dfTofill.iloc[0,4]=a4.value # Using indexing to add the index number to the 'dfTofill' file for consent variable\n",
    "dfTofill # print dfTofill file with consent variable equal True\n",
    "\n",
    "#Setup a DatePicker widget to collect period data for the fifth row\n",
    "\n",
    "b4 = widgets.DatePicker(\n",
    "description='Period',\n",
    "disabled=False\n",
    ") # use the DatePicker widget and store as the object 'b4'\n",
    "\n",
    "\n",
    "display(b4) # use the display function to display the DatePicker widget object\n",
    "\n",
    "#Select \"2017-11-01\" as date for fifth row"
   ]
  },
  {
   "cell_type": "code",
   "execution_count": 61,
   "id": "returning-sleep",
   "metadata": {},
   "outputs": [],
   "source": [
    "dfTofill.iloc[0,2]=b4.value # Using indexing to add the index number to the 'dfTofill' file for period variable\n",
    "dfTofill # print dfTofill file with period value added\n",
    "\n",
    "\n",
    "#Use selection widgets to display single selection lists for row 5 for org_code variable.\n",
    "c4=widgets.Select(\n",
    "    options=org_code,\n",
    "    value='RNZ',\n",
    "    rows=len(org_code),\n",
    "    description='ODS code:',\n",
    "    disabled=False\n",
    ") # use the Select widget and store as the object 'c4'\n",
    "\n",
    "# display(c4) # use the display function to display the DatePicker widget object\n",
    "\n",
    "# Select fifith code"
   ]
  },
  {
   "cell_type": "code",
   "execution_count": 62,
   "id": "arbitrary-drove",
   "metadata": {},
   "outputs": [
    {
     "data": {
      "application/vnd.jupyter.widget-view+json": {
       "model_id": "78e0e30bd89143a8a619bae0c5b96774",
       "version_major": 2,
       "version_minor": 0
      },
      "text/plain": [
       "IntText(value=0, description='Admissions:')"
      ]
     },
     "metadata": {},
     "output_type": "display_data"
    }
   ],
   "source": [
    "dfTofill.iloc[0,1]=c4.value # Using indexing to add the index number to row5 'dfTofill' file for 'org_code' variable\n",
    "dfTofill # print dfTofill file row5 with 'org_code' value added\n",
    "\n",
    "#Use IntText' widget to collect index value for admissions for fourth row.\n",
    "\n",
    "d4=widgets.IntText(\n",
    "    value=0,\n",
    "    description='Admissions:',\n",
    "    disabled=False) # use the integer widget and store as the object 'd4'\n",
    "\n",
    "display(d4) # use the display function to display the integer widget object\n",
    "\n",
    "#select 1131 as value for admissions from the fifth row"
   ]
  },
  {
   "cell_type": "code",
   "execution_count": 63,
   "id": "professional-insider",
   "metadata": {},
   "outputs": [],
   "source": [
    "dfTofill.iloc[0,3]=d4.value # Using indexing to add the index number to the 'dfTofill' file for 'admissions' variable\n",
    "dfTofill # print dfTofill file with 'admissions' value added\n",
    "\n",
    "#Concatenate fifth row of data to the CollectData data frame.\n",
    "CollectData = pd.concat([CollectData, dfTofill]) # concatenate the collected data to the CollectData data frame\n",
    "# display(CollectData) # display results"
   ]
  },
  {
   "cell_type": "markdown",
   "id": "sorted-catering",
   "metadata": {},
   "source": [
    "# **Iterate data collection process for sixth row of data**"
   ]
  },
  {
   "cell_type": "code",
   "execution_count": 64,
   "id": "portuguese-treaty",
   "metadata": {
    "scrolled": true
   },
   "outputs": [],
   "source": [
    "# testData.head(n=6) #use the head() function in Python to review the sixth row of the dataset with n=6"
   ]
  },
  {
   "cell_type": "code",
   "execution_count": 65,
   "id": "middle-image",
   "metadata": {},
   "outputs": [
    {
     "data": {
      "application/vnd.jupyter.widget-view+json": {
       "model_id": "3822a4811f184aaf86a6444e6295fd1e",
       "version_major": 2,
       "version_minor": 0
      },
      "text/plain": [
       "Checkbox(value=False, description='I consent for the data provided to be processed and shared')"
      ]
     },
     "metadata": {},
     "output_type": "display_data"
    }
   ],
   "source": [
    "index_number=6727 #Index number for sixth record.\n",
    "dfTofill.iloc[0,0]=index_number # adding index number to 'dfTofill' file\n",
    "dfTofill #print dfTofill file with index number added\n",
    "\n",
    "#setup consent using checkbox widget for the sixth row\n",
    "a5 = widgets.Checkbox(value=False, \n",
    "description='I consent for the data provided to be processed and shared',\n",
    "disabled=False) # use the checkbox widget and store as the object 'a5'\n",
    "\n",
    "display(a5) # use the display function to display the widget object\n",
    "# mark the checkbox to give consent"
   ]
  },
  {
   "cell_type": "code",
   "execution_count": 66,
   "id": "communist-matter",
   "metadata": {},
   "outputs": [
    {
     "data": {
      "application/vnd.jupyter.widget-view+json": {
       "model_id": "7fcfdea02c664573b2b4588f30a0562e",
       "version_major": 2,
       "version_minor": 0
      },
      "text/plain": [
       "DatePicker(value=None, description='Period')"
      ]
     },
     "metadata": {},
     "output_type": "display_data"
    }
   ],
   "source": [
    "dfTofill.iloc[0,4]=a5.value # Using indexing to add the index number to the 'dfTofill' file for consent variable\n",
    "dfTofill # print dfTofill file with consent variable equal True\n",
    "\n",
    "#Setup a DatePicker widget to collect period data for the sixth row\n",
    "\n",
    "b5 = widgets.DatePicker(\n",
    "description='Period',\n",
    "disabled=False\n",
    ") # use the DatePicker widget and store as the object 'b5'\n",
    "\n",
    "display(b5) # use the display function to display the DatePicker widget object\n",
    "\n",
    "#Select \"2017-08-01\" as date for sixth row"
   ]
  },
  {
   "cell_type": "code",
   "execution_count": 67,
   "id": "monetary-lying",
   "metadata": {},
   "outputs": [],
   "source": [
    "dfTofill.iloc[0,2]=b5.value # Using indexing to add the index number to the 'dfTofill' file for period variable\n",
    "dfTofill # print dfTofill file with period value added\n",
    "\n",
    "\n",
    "#Use selection widgets to display single selection lists for row 6 for org_code variable.\n",
    "c5=widgets.Select(\n",
    "    options=org_code,\n",
    "    value='RQ3',\n",
    "    rows=len(org_code),\n",
    "    description='ODS code:',\n",
    "    disabled=False\n",
    ") # use the Select widget and store as the object 'c5'\n",
    "\n",
    "# display(c5) # use the display function to display the DatePicker widget object\n",
    "\n",
    "# Select sixth code"
   ]
  },
  {
   "cell_type": "code",
   "execution_count": 68,
   "id": "employed-contrary",
   "metadata": {},
   "outputs": [
    {
     "data": {
      "application/vnd.jupyter.widget-view+json": {
       "model_id": "410dfba7484b472281950575de878256",
       "version_major": 2,
       "version_minor": 0
      },
      "text/plain": [
       "IntText(value=0, description='Admissions:')"
      ]
     },
     "metadata": {},
     "output_type": "display_data"
    }
   ],
   "source": [
    "dfTofill.iloc[0,1]=c5.value # Using indexing to add the index number to row6 'dfTofill' file for 'org_code' variable\n",
    "dfTofill # print dfTofill file row6 with 'org_code' value added\n",
    "\n",
    "#Use IntText' widget to collect index value for admissions for sixth row.\n",
    "\n",
    "d5=widgets.IntText(\n",
    "    value=0,\n",
    "    description='Admissions:',\n",
    "    disabled=False) # use the integer widget and store as the object 'd5'\n",
    "\n",
    "display(d5) # use the display function to display the integer widget object\n",
    "\n",
    "#select 754 as value for admissions from the sixth row"
   ]
  },
  {
   "cell_type": "code",
   "execution_count": 69,
   "id": "preceding-roommate",
   "metadata": {},
   "outputs": [],
   "source": [
    "dfTofill.iloc[0,3]=d5.value # Using indexing to add the index number to the 'dfTofill' file for 'admissions' variable\n",
    "dfTofill # print dfTofill file with 'admissions' value added\n",
    "\n",
    "#Concatenate sixth row of data to the CollectData data frame.\n",
    "CollectData = pd.concat([CollectData, dfTofill]) # concatenate the collected data to the CollectData data frame\n",
    "# display(CollectData) # display results"
   ]
  },
  {
   "cell_type": "markdown",
   "id": "contained-sponsorship",
   "metadata": {},
   "source": [
    "# **Iterate data collection process for seventh row of data**"
   ]
  },
  {
   "cell_type": "code",
   "execution_count": 70,
   "id": "atlantic-progress",
   "metadata": {
    "scrolled": true
   },
   "outputs": [],
   "source": [
    "# testData.head(n=7) #use the head() function in Python to review the seventh row of the dataset with n=7"
   ]
  },
  {
   "cell_type": "code",
   "execution_count": 71,
   "id": "great-filter",
   "metadata": {},
   "outputs": [
    {
     "data": {
      "application/vnd.jupyter.widget-view+json": {
       "model_id": "860a16e54cd94bf7a72436cbd9494f7f",
       "version_major": 2,
       "version_minor": 0
      },
      "text/plain": [
       "Checkbox(value=False, description='I consent for the data provided to be processed and shared')"
      ]
     },
     "metadata": {},
     "output_type": "display_data"
    }
   ],
   "source": [
    "index_number=7952 #Index number for seventh record.\n",
    "dfTofill.iloc[0,0]=index_number # adding index number to 'dfTofill' file\n",
    "dfTofill #print dfTofill file with index number added\n",
    "\n",
    "#setup consent using checkbox widget for the seventh row\n",
    "a6 = widgets.Checkbox(value=False, \n",
    "description='I consent for the data provided to be processed and shared',\n",
    "disabled=False) # use the checkbox widget and store as the object 'a6'\n",
    "\n",
    "display(a6) # use the display function to display the widget object\n",
    "# mark the checkbox to give consent"
   ]
  },
  {
   "cell_type": "code",
   "execution_count": 72,
   "id": "written-philadelphia",
   "metadata": {},
   "outputs": [
    {
     "data": {
      "application/vnd.jupyter.widget-view+json": {
       "model_id": "2fb4d3abd4a8435d9e9f4b705638ee9a",
       "version_major": 2,
       "version_minor": 0
      },
      "text/plain": [
       "DatePicker(value=None, description='Period')"
      ]
     },
     "metadata": {},
     "output_type": "display_data"
    }
   ],
   "source": [
    "dfTofill.iloc[0,4]=a6.value # Using indexing to add the index number to the 'dfTofill' file for consent variable\n",
    "dfTofill # print dfTofill file with consent variable equal True\n",
    "\n",
    "#Setup a DatePicker widget to collect period data for the seventh row\n",
    "\n",
    "b6 = widgets.DatePicker(\n",
    "description='Period',\n",
    "disabled=False\n",
    ") # use the DatePicker widget and store as the object 'b6'\n",
    "\n",
    "\n",
    "display(b6) # use the display function to display the DatePicker widget object\n",
    "\n",
    "#Select \"2017-05-01\" as date for seventh row"
   ]
  },
  {
   "cell_type": "code",
   "execution_count": 73,
   "id": "alpine-emission",
   "metadata": {},
   "outputs": [],
   "source": [
    "dfTofill.iloc[0,2]=b6.value # Using indexing to add the index number to the 'dfTofill' file for period variable\n",
    "dfTofill # print dfTofill file with period value added\n",
    "\n",
    "\n",
    "#Use selection widgets to display single selection lists for row 7 for org_code variable.\n",
    "c6=widgets.Select(\n",
    "    options=org_code,\n",
    "    value='RBL',\n",
    "    rows=len(org_code),\n",
    "    description='ODS code:',\n",
    "    disabled=False\n",
    ") # use the Select widget and store as the object 'c6'\n",
    "\n",
    "# display(c6) # use the display function to display the DatePicker widget object\n",
    "\n",
    "# Select seventh code"
   ]
  },
  {
   "cell_type": "code",
   "execution_count": 74,
   "id": "boolean-somerset",
   "metadata": {},
   "outputs": [
    {
     "data": {
      "application/vnd.jupyter.widget-view+json": {
       "model_id": "f1bda2adce924984ba176ae863b3e0fc",
       "version_major": 2,
       "version_minor": 0
      },
      "text/plain": [
       "IntText(value=0, description='Admissions:')"
      ]
     },
     "metadata": {},
     "output_type": "display_data"
    }
   ],
   "source": [
    "dfTofill.iloc[0,1]=c6.value # Using indexing to add the index number to row7 'dfTofill' file for 'org_code' variable\n",
    "dfTofill # print dfTofill file row7 with 'org_code' value added\n",
    "\n",
    "#Use IntText' widget to collect index value for admissions for seventh row.\n",
    "\n",
    "d6=widgets.IntText(\n",
    "    value=0,\n",
    "    description='Admissions:',\n",
    "    disabled=False) # use the integer widget and store as the object 'd6'\n",
    "\n",
    "display(d6) # use the display function to display the integer widget object\n",
    "\n",
    "#select 2491 as value for admissions from the seventh row"
   ]
  },
  {
   "cell_type": "code",
   "execution_count": 75,
   "id": "tough-strip",
   "metadata": {},
   "outputs": [],
   "source": [
    "dfTofill.iloc[0,3]=d6.value # Using indexing to add the index number to the 'dfTofill' file for 'admissions' variable\n",
    "dfTofill # print dfTofill file with 'admissions' value added\n",
    "\n",
    "#Concatenate seventh row of data to the CollectData data frame.\n",
    "CollectData = pd.concat([CollectData, dfTofill]) # concatenate the collected data to the CollectData data frame\n",
    "# display(CollectData) # display results"
   ]
  },
  {
   "cell_type": "markdown",
   "id": "anonymous-hamilton",
   "metadata": {},
   "source": [
    "# **Iterate data collection process for eighth row of data**"
   ]
  },
  {
   "cell_type": "code",
   "execution_count": 76,
   "id": "swiss-dress",
   "metadata": {
    "scrolled": true
   },
   "outputs": [],
   "source": [
    "# testData.head(n=8) #use the head() function in Python to review the eighth row of the dataset with n=8"
   ]
  },
  {
   "cell_type": "code",
   "execution_count": 77,
   "id": "olympic-alexander",
   "metadata": {},
   "outputs": [
    {
     "data": {
      "application/vnd.jupyter.widget-view+json": {
       "model_id": "131eca070f824916a2f40ac94504dc76",
       "version_major": 2,
       "version_minor": 0
      },
      "text/plain": [
       "Checkbox(value=False, description='I consent for the data provided to be processed and shared')"
      ]
     },
     "metadata": {},
     "output_type": "display_data"
    }
   ],
   "source": [
    "index_number=8427 #Index number for eighth record.\n",
    "dfTofill.iloc[0,0]=index_number # adding index number to 'dfTofill' file\n",
    "dfTofill #print dfTofill file with index number added\n",
    "\n",
    "#setup consent using checkbox widget for the eighth row\n",
    "a7 = widgets.Checkbox(value=False, \n",
    "description='I consent for the data provided to be processed and shared',\n",
    "disabled=False) # use the checkbox widget and store as the object 'a7'\n",
    "\n",
    "display(a7) # use the display function to display the widget object\n",
    "# mark the checkbox to give consent"
   ]
  },
  {
   "cell_type": "code",
   "execution_count": 78,
   "id": "variable-shade",
   "metadata": {},
   "outputs": [
    {
     "data": {
      "application/vnd.jupyter.widget-view+json": {
       "model_id": "89433b6c54d14e3a83ba13ebed0f981d",
       "version_major": 2,
       "version_minor": 0
      },
      "text/plain": [
       "DatePicker(value=None, description='Period')"
      ]
     },
     "metadata": {},
     "output_type": "display_data"
    }
   ],
   "source": [
    "dfTofill.iloc[0,4]=a6.value # Using indexing to add the index number to the 'dfTofill' file for consent variable\n",
    "dfTofill # print dfTofill file with consent variable equal True\n",
    "\n",
    "#Setup a DatePicker widget to collect period data for the eighth row\n",
    "\n",
    "b7 = widgets.DatePicker(\n",
    "description='Period',\n",
    "disabled=False\n",
    ") # use the DatePicker widget and store as the object 'b7'\n",
    "\n",
    "\n",
    "display(b7) # use the display function to display the DatePicker widget object\n",
    "\n",
    "#Select \"2019-03-01\" as date for eighth row"
   ]
  },
  {
   "cell_type": "code",
   "execution_count": 79,
   "id": "weighted-optimization",
   "metadata": {},
   "outputs": [],
   "source": [
    "dfTofill.iloc[0,2]=b7.value # Using indexing to add the index number to the 'dfTofill' file for period variable\n",
    "dfTofill # print dfTofill file with period value added\n",
    "\n",
    "\n",
    "#Use selection widgets to display single selection lists for row 8 for org_code variable.\n",
    "c7=widgets.Select(\n",
    "    options=org_code,\n",
    "    value='R1K',\n",
    "    rows=len(org_code),\n",
    "    description='ODS code:',\n",
    "    disabled=False\n",
    ") # use the Select widget and store as the object 'c7'\n",
    "\n",
    "# display(c7) # use the display function to display the DatePicker widget object\n",
    "\n",
    "# Select eighth code"
   ]
  },
  {
   "cell_type": "code",
   "execution_count": 80,
   "id": "express-particular",
   "metadata": {},
   "outputs": [
    {
     "data": {
      "application/vnd.jupyter.widget-view+json": {
       "model_id": "dfa57365821b4730afc6d488ee5cab91",
       "version_major": 2,
       "version_minor": 0
      },
      "text/plain": [
       "IntText(value=0, description='Admissions:')"
      ]
     },
     "metadata": {},
     "output_type": "display_data"
    }
   ],
   "source": [
    "dfTofill.iloc[0,1]=c7.value # Using indexing to add the index number to row8 'dfTofill' file for 'org_code' variable\n",
    "dfTofill # print dfTofill file row8 with 'org_code' value added\n",
    "\n",
    "#Use IntText' widget to collect index value for admissions for eighth row.\n",
    "\n",
    "d7=widgets.IntText(\n",
    "    value=0,\n",
    "    description='Admissions:',\n",
    "    disabled=False) # use the integer widget and store as the object 'd7'\n",
    "\n",
    "display(d7) # use the display function to display the integer widget object\n",
    "\n",
    "#select 6522 as value for admissions from the eighth row"
   ]
  },
  {
   "cell_type": "code",
   "execution_count": 81,
   "id": "individual-moscow",
   "metadata": {},
   "outputs": [],
   "source": [
    "dfTofill.iloc[0,3]=d7.value # Using indexing to add the index number to the 'dfTofill' file for 'admissions' variable\n",
    "dfTofill # print dfTofill file with 'admissions' value added\n",
    "\n",
    "#Concatenate eighth row of data to the CollectData data frame.\n",
    "CollectData = pd.concat([CollectData, dfTofill]) # concatenate the collected data to the CollectData data frame\n",
    "# display(CollectData) # display results"
   ]
  },
  {
   "cell_type": "markdown",
   "id": "searching-hospital",
   "metadata": {},
   "source": [
    "# **Iterate data collection process for ninth row of data**"
   ]
  },
  {
   "cell_type": "code",
   "execution_count": 82,
   "id": "intelligent-delay",
   "metadata": {
    "scrolled": true
   },
   "outputs": [],
   "source": [
    "# testData.head(n=9) #use the head() function in Python to review the ninth row of the dataset with n=9"
   ]
  },
  {
   "cell_type": "code",
   "execution_count": 83,
   "id": "cellular-fault",
   "metadata": {},
   "outputs": [
    {
     "data": {
      "application/vnd.jupyter.widget-view+json": {
       "model_id": "1ea33efbafd34ff899266de9c9b37bf1",
       "version_major": 2,
       "version_minor": 0
      },
      "text/plain": [
       "Checkbox(value=False, description='I consent for the data provided to be processed and shared')"
      ]
     },
     "metadata": {},
     "output_type": "display_data"
    }
   ],
   "source": [
    "index_number=10489 #Index number for ninth record.\n",
    "dfTofill.iloc[0,0]=index_number # adding index number to 'dfTofill' file\n",
    "dfTofill #print dfTofill file with index number added\n",
    "\n",
    "#setup consent using checkbox widget for the eighth row\n",
    "a8 = widgets.Checkbox(value=False, \n",
    "description='I consent for the data provided to be processed and shared',\n",
    "disabled=False) # use the checkbox widget and store as the object 'a8'\n",
    "\n",
    "display(a8) # use the display function to display the widget object\n",
    "# mark the checkbox to give consent"
   ]
  },
  {
   "cell_type": "code",
   "execution_count": 84,
   "id": "static-interface",
   "metadata": {},
   "outputs": [
    {
     "data": {
      "application/vnd.jupyter.widget-view+json": {
       "model_id": "a533d0f486b54d3d8a5d50b2a74fdba9",
       "version_major": 2,
       "version_minor": 0
      },
      "text/plain": [
       "DatePicker(value=None, description='Period')"
      ]
     },
     "metadata": {},
     "output_type": "display_data"
    }
   ],
   "source": [
    "dfTofill.iloc[0,4]=a8.value # Using indexing to add the index number to the 'dfTofill' file for consent variable\n",
    "dfTofill # print dfTofill file with consent variable equal True\n",
    "\n",
    "#Setup a DatePicker widget to collect period data for the ninth row\n",
    "\n",
    "b8 = widgets.DatePicker(\n",
    "description='Period',\n",
    "disabled=False\n",
    ") # use the DatePicker widget and store as the object 'b8'\n",
    "\n",
    "\n",
    "display(b8) # use the display function to display the DatePicker widget object\n",
    "\n",
    "#Select \"2018-10-01\" as date for ninth row"
   ]
  },
  {
   "cell_type": "code",
   "execution_count": 85,
   "id": "still-panic",
   "metadata": {},
   "outputs": [],
   "source": [
    "dfTofill.iloc[0,2]=b8.value # Using indexing to add the index number to the 'dfTofill' file for period variable\n",
    "dfTofill # print dfTofill file with period value added\n",
    "\n",
    "\n",
    "#Use selection widgets to display single selection lists for row 9 for org_code variable.\n",
    "c8=widgets.Select(\n",
    "    options=org_code,\n",
    "    value='RPA',\n",
    "    rows=len(org_code),\n",
    "    description='ODS code:',\n",
    "    disabled=False\n",
    ") # use the Select widget and store as the object 'c8'\n",
    "\n",
    "# display(c8) # use the display function to display the DatePicker widget object\n",
    "\n",
    "# Select ninth code"
   ]
  },
  {
   "cell_type": "code",
   "execution_count": 86,
   "id": "dietary-bread",
   "metadata": {},
   "outputs": [
    {
     "data": {
      "application/vnd.jupyter.widget-view+json": {
       "model_id": "cc98c558cd484dc68911739fa34c96dc",
       "version_major": 2,
       "version_minor": 0
      },
      "text/plain": [
       "IntText(value=0, description='Admissions:')"
      ]
     },
     "metadata": {},
     "output_type": "display_data"
    }
   ],
   "source": [
    "dfTofill.iloc[0,1]=c8.value # Using indexing to add the index number to row9 'dfTofill' file for 'org_code' variable\n",
    "dfTofill # print dfTofill file row9 with 'org_code' value added\n",
    "\n",
    "#Use IntText' widget to collect index value for admissions for ninth row.\n",
    "\n",
    "d8=widgets.IntText(\n",
    "    value=0,\n",
    "    description='Admissions:',\n",
    "    disabled=False) # use the integer widget and store as the object 'd8'\n",
    "\n",
    "display(d8) # use the display function to display the integer widget object\n",
    "\n",
    "#select 2065 as value for admissions from the ninth row"
   ]
  },
  {
   "cell_type": "code",
   "execution_count": 87,
   "id": "blocked-optimization",
   "metadata": {},
   "outputs": [],
   "source": [
    "dfTofill.iloc[0,3]=d8.value # Using indexing to add the index number to the 'dfTofill' file for 'admissions' variable\n",
    "dfTofill # print dfTofill file with 'admissions' value added\n",
    "\n",
    "#Concatenate ninth row of data to the CollectData data frame.\n",
    "CollectData = pd.concat([CollectData, dfTofill]) # concatenate the collected data to the CollectData data frame\n",
    "# display(CollectData) # display results"
   ]
  },
  {
   "cell_type": "markdown",
   "id": "occupational-butter",
   "metadata": {},
   "source": [
    "# **Iterate data collection process for tenth row of data**"
   ]
  },
  {
   "cell_type": "code",
   "execution_count": 88,
   "id": "recent-induction",
   "metadata": {
    "scrolled": true
   },
   "outputs": [],
   "source": [
    "# testData.head(n=10) #use the head() function in Python to review the tenth row of the dataset with n=10"
   ]
  },
  {
   "cell_type": "code",
   "execution_count": 89,
   "id": "mediterranean-confidence",
   "metadata": {},
   "outputs": [
    {
     "data": {
      "application/vnd.jupyter.widget-view+json": {
       "model_id": "0ebed9d3ed1b49a09b4472b2c6fc2472",
       "version_major": 2,
       "version_minor": 0
      },
      "text/plain": [
       "Checkbox(value=False, description='I consent for the data provided to be processed and shared')"
      ]
     },
     "metadata": {},
     "output_type": "display_data"
    }
   ],
   "source": [
    "index_number=12390 #Index number for tenth record.\n",
    "dfTofill.iloc[0,0]=index_number # adding index number to 'dfTofill' file\n",
    "dfTofill #print dfTofill file with index number added\n",
    "\n",
    "#setup consent using checkbox widget for the tenth row\n",
    "a9 = widgets.Checkbox(value=False, \n",
    "description='I consent for the data provided to be processed and shared',\n",
    "disabled=False) # use the checkbox widget and store as the object 'a9'\n",
    "\n",
    "display(a9) # use the display function to display the widget object\n",
    "# mark the checkbox to give consent"
   ]
  },
  {
   "cell_type": "code",
   "execution_count": 90,
   "id": "quantitative-rubber",
   "metadata": {},
   "outputs": [
    {
     "data": {
      "application/vnd.jupyter.widget-view+json": {
       "model_id": "3e0be2c73bd649e0bb62c71e0ea7b8d3",
       "version_major": 2,
       "version_minor": 0
      },
      "text/plain": [
       "DatePicker(value=None, description='Period')"
      ]
     },
     "metadata": {},
     "output_type": "display_data"
    }
   ],
   "source": [
    "dfTofill.iloc[0,4]=a9.value # Using indexing to add the index number to the 'dfTofill' file for consent variable\n",
    "dfTofill # print dfTofill file with consent variable equal True\n",
    "\n",
    "#Setup a DatePicker widget to collect period data for the tenth row\n",
    "\n",
    "b9 = widgets.DatePicker(\n",
    "description='Period',\n",
    "disabled=False\n",
    ") # use the DatePicker widget and store as the object 'b9'\n",
    "\n",
    "\n",
    "display(b9) # use the display function to display the DatePicker widget object\n",
    "\n",
    "#Select \"2018-05-01\" as date for tenth row"
   ]
  },
  {
   "cell_type": "code",
   "execution_count": 91,
   "id": "actual-latitude",
   "metadata": {},
   "outputs": [],
   "source": [
    "dfTofill.iloc[0,2]=b9.value # Using indexing to add the index number to the 'dfTofill' file for period variable\n",
    "dfTofill # print dfTofill file with period value added\n",
    "\n",
    "\n",
    "#Use selection widgets to display single selection lists for row 10 for org_code variable.\n",
    "c9=widgets.Select(\n",
    "    options=org_code,\n",
    "    value='RA3',\n",
    "    rows=len(org_code),\n",
    "    description='ODS code:',\n",
    "    disabled=False\n",
    ") # use the Select widget and store as the object 'c9'\n",
    "\n",
    "# display(c9) # use the display function to display the DatePicker widget object\n",
    "\n",
    "# Select tenth code"
   ]
  },
  {
   "cell_type": "code",
   "execution_count": 92,
   "id": "covered-sword",
   "metadata": {},
   "outputs": [
    {
     "data": {
      "application/vnd.jupyter.widget-view+json": {
       "model_id": "1597cb4fce92477b880a0d4c0af69d75",
       "version_major": 2,
       "version_minor": 0
      },
      "text/plain": [
       "IntText(value=0, description='Admissions:')"
      ]
     },
     "metadata": {},
     "output_type": "display_data"
    }
   ],
   "source": [
    "dfTofill.iloc[0,1]=c9.value # Using indexing to add the index number to row10 'dfTofill' file for 'org_code' variable\n",
    "dfTofill # print dfTofill file row10 with 'org_code' value added\n",
    "\n",
    "#Use IntText' widget to collect index value for admissions for tenth row.\n",
    "\n",
    "d9=widgets.IntText(\n",
    "    value=0,\n",
    "    description='Admissions:',\n",
    "    disabled=False) # use the integer widget and store as the object 'd9'\n",
    "\n",
    "display(d9) # use the display function to display the integer widget object\n",
    "\n",
    "#select 1090 as value for admissions from the tenth row"
   ]
  },
  {
   "cell_type": "code",
   "execution_count": 93,
   "id": "democratic-plasma",
   "metadata": {},
   "outputs": [],
   "source": [
    "dfTofill.iloc[0,3]=d9.value # Using indexing to add the index number to the 'dfTofill' file for 'admissions' variable\n",
    "dfTofill # print dfTofill file with 'admissions' value added\n",
    "\n",
    "#Concatenate tenth row of data to the CollectData data frame.\n",
    "CollectData = pd.concat([CollectData, dfTofill]) # concatenate the collected data to the CollectData data frame\n",
    "# display(CollectData) # display results"
   ]
  },
  {
   "cell_type": "markdown",
   "id": "informed-charleston",
   "metadata": {},
   "source": [
    "# **Iterate data collection process for eleventh row of data**"
   ]
  },
  {
   "cell_type": "code",
   "execution_count": 94,
   "id": "progressive-cancer",
   "metadata": {
    "scrolled": true
   },
   "outputs": [],
   "source": [
    "# testData.head(n=11) #use the head() function in Python to review the eleventh row of the dataset with n=11"
   ]
  },
  {
   "cell_type": "code",
   "execution_count": 95,
   "id": "focused-equation",
   "metadata": {},
   "outputs": [
    {
     "data": {
      "application/vnd.jupyter.widget-view+json": {
       "model_id": "1392159893e64edfb911f2ce0bac6950",
       "version_major": 2,
       "version_minor": 0
      },
      "text/plain": [
       "Checkbox(value=False, description='I consent for the data provided to be processed and shared')"
      ]
     },
     "metadata": {},
     "output_type": "display_data"
    }
   ],
   "source": [
    "index_number=12463 #Index number for eleventh record.\n",
    "dfTofill.iloc[0,0]=index_number # adding index number to 'dfTofill' file\n",
    "dfTofill #print dfTofill file with index number added\n",
    "\n",
    "#setup consent using checkbox widget for the eleventh row\n",
    "a10 = widgets.Checkbox(value=False, \n",
    "description='I consent for the data provided to be processed and shared',\n",
    "disabled=False) # use the checkbox widget and store as the object 'a10'\n",
    "\n",
    "display(a10) # use the display function to display the widget object\n",
    "# mark the checkbox to give consent"
   ]
  },
  {
   "cell_type": "code",
   "execution_count": 96,
   "id": "critical-gardening",
   "metadata": {},
   "outputs": [
    {
     "data": {
      "application/vnd.jupyter.widget-view+json": {
       "model_id": "218608e923ae4d7cb396c9a6a681d704",
       "version_major": 2,
       "version_minor": 0
      },
      "text/plain": [
       "DatePicker(value=None, description='Period')"
      ]
     },
     "metadata": {},
     "output_type": "display_data"
    }
   ],
   "source": [
    "dfTofill.iloc[0,4]=a10.value # Using indexing to add the index number to the 'dfTofill' file for consent variable\n",
    "dfTofill # print dfTofill file with consent variable equal True\n",
    "\n",
    "#Setup a DatePicker widget to collect period data for the eleventh row\n",
    "\n",
    "b10 = widgets.DatePicker(\n",
    "description='Period',\n",
    "disabled=False\n",
    ") # use the DatePicker widget and store as the object 'b10'\n",
    "\n",
    "\n",
    "display(b10) # use the display function to display the DatePicker widget object\n",
    "\n",
    "#Select \"2018-04-01\" as date for eleventh row"
   ]
  },
  {
   "cell_type": "code",
   "execution_count": 97,
   "id": "champion-space",
   "metadata": {},
   "outputs": [],
   "source": [
    "dfTofill.iloc[0,2]=b10.value # Using indexing to add the index number to the 'dfTofill' file for period variable\n",
    "dfTofill # print dfTofill file with period value added\n",
    "\n",
    "\n",
    "#Use selection widgets to display single selection lists for row 11 for org_code variable.\n",
    "c10=widgets.Select(\n",
    "    options=org_code,\n",
    "    value='RDE',\n",
    "    rows=len(org_code),\n",
    "    description='ODS code:',\n",
    "    disabled=False\n",
    ") # use the Select widget and store as the object 'c10'\n",
    "\n",
    "# display(c10) # use the display function to display the DatePicker widget object\n",
    "\n",
    "# Select eleventh code"
   ]
  },
  {
   "cell_type": "code",
   "execution_count": 98,
   "id": "regular-alcohol",
   "metadata": {},
   "outputs": [
    {
     "data": {
      "application/vnd.jupyter.widget-view+json": {
       "model_id": "b4636fa63b2a4b2f971fbee52e03d3e7",
       "version_major": 2,
       "version_minor": 0
      },
      "text/plain": [
       "IntText(value=0, description='Admissions:')"
      ]
     },
     "metadata": {},
     "output_type": "display_data"
    }
   ],
   "source": [
    "dfTofill.iloc[0,1]=c10.value # Using indexing to add the index number to row11 'dfTofill' file for 'org_code' variable\n",
    "dfTofill # print dfTofill file row11 with 'org_code' value added\n",
    "\n",
    "#Use IntText' widget to collect index value for admissions for eleventh row.\n",
    "\n",
    "d10=widgets.IntText(\n",
    "    value=0,\n",
    "    description='Admissions:',\n",
    "    disabled=False) # use the integer widget and store as the object 'd10'\n",
    "\n",
    "display(d10) # use the display function to display the integer widget object\n",
    "\n",
    "#select 2398 as value for admissions from the eleventh row"
   ]
  },
  {
   "cell_type": "code",
   "execution_count": 99,
   "id": "rural-collins",
   "metadata": {},
   "outputs": [
    {
     "data": {
      "text/html": [
       "<div>\n",
       "<style scoped>\n",
       "    .dataframe tbody tr th:only-of-type {\n",
       "        vertical-align: middle;\n",
       "    }\n",
       "\n",
       "    .dataframe tbody tr th {\n",
       "        vertical-align: top;\n",
       "    }\n",
       "\n",
       "    .dataframe thead th {\n",
       "        text-align: right;\n",
       "    }\n",
       "</style>\n",
       "<table border=\"1\" class=\"dataframe\">\n",
       "  <thead>\n",
       "    <tr style=\"text-align: right;\">\n",
       "      <th></th>\n",
       "      <th>index</th>\n",
       "      <th>org_code</th>\n",
       "      <th>period</th>\n",
       "      <th>admissions</th>\n",
       "      <th>consent</th>\n",
       "    </tr>\n",
       "  </thead>\n",
       "  <tbody>\n",
       "    <tr>\n",
       "      <th>0</th>\n",
       "      <td>2826</td>\n",
       "      <td>RGT</td>\n",
       "      <td>2016-07-01</td>\n",
       "      <td>3123</td>\n",
       "      <td>True</td>\n",
       "    </tr>\n",
       "    <tr>\n",
       "      <th>0</th>\n",
       "      <td>2865</td>\n",
       "      <td>RM1</td>\n",
       "      <td>2016-07-01</td>\n",
       "      <td>2891</td>\n",
       "      <td>True</td>\n",
       "    </tr>\n",
       "    <tr>\n",
       "      <th>0</th>\n",
       "      <td>3941</td>\n",
       "      <td>RRK</td>\n",
       "      <td>2016-04-01</td>\n",
       "      <td>2744</td>\n",
       "      <td>True</td>\n",
       "    </tr>\n",
       "    <tr>\n",
       "      <th>0</th>\n",
       "      <td>5431</td>\n",
       "      <td>RJN</td>\n",
       "      <td>2017-12-01</td>\n",
       "      <td>971</td>\n",
       "      <td>True</td>\n",
       "    </tr>\n",
       "    <tr>\n",
       "      <th>0</th>\n",
       "      <td>5940</td>\n",
       "      <td>RNZ</td>\n",
       "      <td>2017-11-01</td>\n",
       "      <td>1131</td>\n",
       "      <td>True</td>\n",
       "    </tr>\n",
       "    <tr>\n",
       "      <th>0</th>\n",
       "      <td>6727</td>\n",
       "      <td>RQ3</td>\n",
       "      <td>2017-08-01</td>\n",
       "      <td>754</td>\n",
       "      <td>True</td>\n",
       "    </tr>\n",
       "    <tr>\n",
       "      <th>0</th>\n",
       "      <td>7952</td>\n",
       "      <td>RBL</td>\n",
       "      <td>2017-05-01</td>\n",
       "      <td>2491</td>\n",
       "      <td>True</td>\n",
       "    </tr>\n",
       "    <tr>\n",
       "      <th>0</th>\n",
       "      <td>8427</td>\n",
       "      <td>R1K</td>\n",
       "      <td>2019-03-01</td>\n",
       "      <td>6522</td>\n",
       "      <td>True</td>\n",
       "    </tr>\n",
       "    <tr>\n",
       "      <th>0</th>\n",
       "      <td>10489</td>\n",
       "      <td>RPA</td>\n",
       "      <td>2018-10-10</td>\n",
       "      <td>2065</td>\n",
       "      <td>True</td>\n",
       "    </tr>\n",
       "    <tr>\n",
       "      <th>0</th>\n",
       "      <td>12390</td>\n",
       "      <td>RA3</td>\n",
       "      <td>2018-05-01</td>\n",
       "      <td>1090</td>\n",
       "      <td>True</td>\n",
       "    </tr>\n",
       "    <tr>\n",
       "      <th>0</th>\n",
       "      <td>12463</td>\n",
       "      <td>RDE</td>\n",
       "      <td>2018-04-01</td>\n",
       "      <td>2398</td>\n",
       "      <td>True</td>\n",
       "    </tr>\n",
       "  </tbody>\n",
       "</table>\n",
       "</div>"
      ],
      "text/plain": [
       "   index org_code      period  admissions  consent\n",
       "0   2826      RGT  2016-07-01        3123     True\n",
       "0   2865      RM1  2016-07-01        2891     True\n",
       "0   3941      RRK  2016-04-01        2744     True\n",
       "0   5431      RJN  2017-12-01         971     True\n",
       "0   5940      RNZ  2017-11-01        1131     True\n",
       "0   6727      RQ3  2017-08-01         754     True\n",
       "0   7952      RBL  2017-05-01        2491     True\n",
       "0   8427      R1K  2019-03-01        6522     True\n",
       "0  10489      RPA  2018-10-10        2065     True\n",
       "0  12390      RA3  2018-05-01        1090     True\n",
       "0  12463      RDE  2018-04-01        2398     True"
      ]
     },
     "metadata": {},
     "output_type": "display_data"
    }
   ],
   "source": [
    "dfTofill.iloc[0,3]=d10.value # Using indexing to add the index number to the 'dfTofill' file for 'admissions' variable\n",
    "dfTofill # print dfTofill file with 'admissions' value added\n",
    "\n",
    "#Concatenate eleventh row of data to the CollectData data frame.\n",
    "CollectData = pd.concat([CollectData, dfTofill]) # concatenate the collected data to the CollectData data frame\n",
    "display(CollectData) # display results"
   ]
  },
  {
   "cell_type": "code",
   "execution_count": 100,
   "id": "raising-bible",
   "metadata": {},
   "outputs": [],
   "source": [
    "# Saving the CollectData data frame to the working data folder\n",
    "CollectData.to_csv('../Data/CollectedData.csv', index=False)"
   ]
  },
  {
   "cell_type": "code",
   "execution_count": 101,
   "id": "chinese-desktop",
   "metadata": {},
   "outputs": [],
   "source": [
    "# Saving the captured test data to the 'RawData' folder.\n",
    "\n",
    "CollectData.to_csv('../RawData/CollectedDataFinal.csv', index=False)"
   ]
  }
 ],
 "metadata": {
  "kernelspec": {
   "display_name": "Python 3 (ipykernel)",
   "language": "python",
   "name": "python3"
  },
  "language_info": {
   "codemirror_mode": {
    "name": "ipython",
    "version": 3
   },
   "file_extension": ".py",
   "mimetype": "text/x-python",
   "name": "python",
   "nbconvert_exporter": "python",
   "pygments_lexer": "ipython3",
   "version": "3.9.2"
  }
 },
 "nbformat": 4,
 "nbformat_minor": 5
}
