{
 "cells": [
  {
   "cell_type": "markdown",
   "id": "classified-receptor",
   "metadata": {},
   "source": [
    "# **Title: Collecting NHS England accident and emergency attendances and admissions data using interactive Jupyter widgets**\n",
    " \n",
    " **Author: B210635**\n",
    "\n",
    "*Copyright statement: This Notebook is the product of The University of Edinburgh.*"
   ]
  },
  {
   "cell_type": "markdown",
   "id": "pursuant-glucose",
   "metadata": {},
   "source": [
    "# **Load the 'pandas' package and test dataset**"
   ]
  },
  {
   "cell_type": "markdown",
   "id": "asian-method",
   "metadata": {},
   "source": [
    "**Load the 'pandas' package**"
   ]
  },
  {
   "cell_type": "code",
   "execution_count": 1,
   "id": "spare-pearl",
   "metadata": {},
   "outputs": [],
   "source": [
    "import pandas as pd"
   ]
  },
  {
   "cell_type": "markdown",
   "id": "first-distribution",
   "metadata": {},
   "source": [
    "**Import test dataset**"
   ]
  },
  {
   "cell_type": "code",
   "execution_count": 2,
   "id": "humanitarian-military",
   "metadata": {},
   "outputs": [
    {
     "data": {
      "text/html": [
       "<div>\n",
       "<style scoped>\n",
       "    .dataframe tbody tr th:only-of-type {\n",
       "        vertical-align: middle;\n",
       "    }\n",
       "\n",
       "    .dataframe tbody tr th {\n",
       "        vertical-align: top;\n",
       "    }\n",
       "\n",
       "    .dataframe thead th {\n",
       "        text-align: right;\n",
       "    }\n",
       "</style>\n",
       "<table border=\"1\" class=\"dataframe\">\n",
       "  <thead>\n",
       "    <tr style=\"text-align: right;\">\n",
       "      <th></th>\n",
       "      <th>index</th>\n",
       "      <th>org_code</th>\n",
       "      <th>period</th>\n",
       "      <th>admissions</th>\n",
       "    </tr>\n",
       "  </thead>\n",
       "  <tbody>\n",
       "    <tr>\n",
       "      <th>0</th>\n",
       "      <td>2826</td>\n",
       "      <td>RGT</td>\n",
       "      <td>2016-07-01</td>\n",
       "      <td>3123</td>\n",
       "    </tr>\n",
       "    <tr>\n",
       "      <th>1</th>\n",
       "      <td>2865</td>\n",
       "      <td>RM1</td>\n",
       "      <td>2016-07-01</td>\n",
       "      <td>2891</td>\n",
       "    </tr>\n",
       "    <tr>\n",
       "      <th>2</th>\n",
       "      <td>3941</td>\n",
       "      <td>RRK</td>\n",
       "      <td>2016-04-01</td>\n",
       "      <td>2744</td>\n",
       "    </tr>\n",
       "    <tr>\n",
       "      <th>3</th>\n",
       "      <td>5431</td>\n",
       "      <td>RJN</td>\n",
       "      <td>2017-12-01</td>\n",
       "      <td>971</td>\n",
       "    </tr>\n",
       "    <tr>\n",
       "      <th>4</th>\n",
       "      <td>5940</td>\n",
       "      <td>RNZ</td>\n",
       "      <td>2017-11-01</td>\n",
       "      <td>1131</td>\n",
       "    </tr>\n",
       "    <tr>\n",
       "      <th>5</th>\n",
       "      <td>6727</td>\n",
       "      <td>RQ3</td>\n",
       "      <td>2017-08-01</td>\n",
       "      <td>754</td>\n",
       "    </tr>\n",
       "    <tr>\n",
       "      <th>6</th>\n",
       "      <td>7952</td>\n",
       "      <td>RBL</td>\n",
       "      <td>2017-05-01</td>\n",
       "      <td>2491</td>\n",
       "    </tr>\n",
       "    <tr>\n",
       "      <th>7</th>\n",
       "      <td>8427</td>\n",
       "      <td>R1K</td>\n",
       "      <td>2019-03-01</td>\n",
       "      <td>6522</td>\n",
       "    </tr>\n",
       "    <tr>\n",
       "      <th>8</th>\n",
       "      <td>10489</td>\n",
       "      <td>RPA</td>\n",
       "      <td>2018-10-01</td>\n",
       "      <td>2065</td>\n",
       "    </tr>\n",
       "    <tr>\n",
       "      <th>9</th>\n",
       "      <td>12390</td>\n",
       "      <td>RA3</td>\n",
       "      <td>2018-05-01</td>\n",
       "      <td>1090</td>\n",
       "    </tr>\n",
       "    <tr>\n",
       "      <th>10</th>\n",
       "      <td>12463</td>\n",
       "      <td>RDE</td>\n",
       "      <td>2018-04-01</td>\n",
       "      <td>2398</td>\n",
       "    </tr>\n",
       "  </tbody>\n",
       "</table>\n",
       "</div>"
      ],
      "text/plain": [
       "    index org_code      period  admissions\n",
       "0    2826      RGT  2016-07-01        3123\n",
       "1    2865      RM1  2016-07-01        2891\n",
       "2    3941      RRK  2016-04-01        2744\n",
       "3    5431      RJN  2017-12-01         971\n",
       "4    5940      RNZ  2017-11-01        1131\n",
       "5    6727      RQ3  2017-08-01         754\n",
       "6    7952      RBL  2017-05-01        2491\n",
       "7    8427      R1K  2019-03-01        6522\n",
       "8   10489      RPA  2018-10-01        2065\n",
       "9   12390      RA3  2018-05-01        1090\n",
       "10  12463      RDE  2018-04-01        2398"
      ]
     },
     "execution_count": 2,
     "metadata": {},
     "output_type": "execute_result"
    }
   ],
   "source": [
    "# import the test dataset and store it as in the object 'testData'\n",
    "testData=pd.read_csv(\"../Data/ae_attendances_admissions_emergency_test.csv\")\n",
    "testData"
   ]
  },
  {
   "cell_type": "markdown",
   "id": "martial-motivation",
   "metadata": {},
   "source": [
    "**Dataset types**\n",
    "\n",
    "Check the data type in the testData data frame using the dtypes function from the Python pandas package. "
   ]
  },
  {
   "cell_type": "code",
   "execution_count": 3,
   "id": "perceived-tension",
   "metadata": {},
   "outputs": [
    {
     "name": "stdout",
     "output_type": "stream",
     "text": [
      "Output:\n",
      "index          int64\n",
      "org_code      object\n",
      "period        object\n",
      "admissions     int64\n",
      "dtype: object\n"
     ]
    }
   ],
   "source": [
    "result = testData.dtypes #store the data types from the 'testData' frame in the object 'result'\n",
    "print(\"Output:\")\n",
    "print(result) # print the results of the datatypes\n",
    "# The results showed that the index and admissions variables are stored as integers while \n",
    "# the org_code and period variables are stored are strings."
   ]
  },
  {
   "cell_type": "markdown",
   "id": "ecological-chapter",
   "metadata": {},
   "source": [
    "**Review the first row of the test dataset**"
   ]
  },
  {
   "cell_type": "code",
   "execution_count": 4,
   "id": "remarkable-scoop",
   "metadata": {},
   "outputs": [
    {
     "data": {
      "text/html": [
       "<div>\n",
       "<style scoped>\n",
       "    .dataframe tbody tr th:only-of-type {\n",
       "        vertical-align: middle;\n",
       "    }\n",
       "\n",
       "    .dataframe tbody tr th {\n",
       "        vertical-align: top;\n",
       "    }\n",
       "\n",
       "    .dataframe thead th {\n",
       "        text-align: right;\n",
       "    }\n",
       "</style>\n",
       "<table border=\"1\" class=\"dataframe\">\n",
       "  <thead>\n",
       "    <tr style=\"text-align: right;\">\n",
       "      <th></th>\n",
       "      <th>index</th>\n",
       "      <th>org_code</th>\n",
       "      <th>period</th>\n",
       "      <th>admissions</th>\n",
       "    </tr>\n",
       "  </thead>\n",
       "  <tbody>\n",
       "    <tr>\n",
       "      <th>0</th>\n",
       "      <td>2826</td>\n",
       "      <td>RGT</td>\n",
       "      <td>2016-07-01</td>\n",
       "      <td>3123</td>\n",
       "    </tr>\n",
       "  </tbody>\n",
       "</table>\n",
       "</div>"
      ],
      "text/plain": [
       "   index org_code      period  admissions\n",
       "0   2826      RGT  2016-07-01        3123"
      ]
     },
     "execution_count": 4,
     "metadata": {},
     "output_type": "execute_result"
    }
   ],
   "source": [
    "testData.head(n=1) # view first row of the dataset using the head() function in Python"
   ]
  },
  {
   "cell_type": "markdown",
   "id": "beautiful-undergraduate",
   "metadata": {},
   "source": [
    "**Create an empty data frame in the working data folder to collect the data captured by the Juypter widgets.**"
   ]
  },
  {
   "cell_type": "code",
   "execution_count": 5,
   "id": "weekly-wholesale",
   "metadata": {},
   "outputs": [
    {
     "data": {
      "text/html": [
       "<div>\n",
       "<style scoped>\n",
       "    .dataframe tbody tr th:only-of-type {\n",
       "        vertical-align: middle;\n",
       "    }\n",
       "\n",
       "    .dataframe tbody tr th {\n",
       "        vertical-align: top;\n",
       "    }\n",
       "\n",
       "    .dataframe thead th {\n",
       "        text-align: right;\n",
       "    }\n",
       "</style>\n",
       "<table border=\"1\" class=\"dataframe\">\n",
       "  <thead>\n",
       "    <tr style=\"text-align: right;\">\n",
       "      <th></th>\n",
       "      <th>index</th>\n",
       "      <th>org_code</th>\n",
       "      <th>period</th>\n",
       "      <th>admissions</th>\n",
       "      <th>consent</th>\n",
       "    </tr>\n",
       "  </thead>\n",
       "  <tbody>\n",
       "    <tr>\n",
       "      <th>0</th>\n",
       "      <td>0</td>\n",
       "      <td>NA</td>\n",
       "      <td>2000-01-01</td>\n",
       "      <td>0</td>\n",
       "      <td>False</td>\n",
       "    </tr>\n",
       "  </tbody>\n",
       "</table>\n",
       "</div>"
      ],
      "text/plain": [
       "   index org_code     period  admissions  consent\n",
       "0      0       NA 2000-01-01           0    False"
      ]
     },
     "execution_count": 5,
     "metadata": {},
     "output_type": "execute_result"
    }
   ],
   "source": [
    "# create empty dataframe and store it as the object 'dfTofill'\n",
    "dfTofill = pd.DataFrame({'index': [0],# Integer\n",
    "'org_code': ['NA'], # String\n",
    "'period': [pd.Timestamp('20000101')], # Date\n",
    "'admissions': [0], # Integer\n",
    "'consent': [False]}) # Boolean\n",
    "dfTofill # print the empty dataframe create\n"
   ]
  },
  {
   "cell_type": "markdown",
   "id": "described-fusion",
   "metadata": {},
   "source": [
    "**Save the empty data frame as CSV file to the 'Data' folder and name it 'CollectedData'**"
   ]
  },
  {
   "cell_type": "code",
   "execution_count": 6,
   "id": "analyzed-chase",
   "metadata": {},
   "outputs": [],
   "source": [
    "#dfTofill.to_csv('../Data/CollectedData.csv', index=False) "
   ]
  },
  {
   "cell_type": "markdown",
   "id": "excited-elimination",
   "metadata": {},
   "source": [
    "**Read in the empty dataframe to collect the data from the Jupyter-widgets.**"
   ]
  },
  {
   "cell_type": "code",
   "execution_count": 7,
   "id": "sunset-jerusalem",
   "metadata": {},
   "outputs": [
    {
     "data": {
      "text/html": [
       "<div>\n",
       "<style scoped>\n",
       "    .dataframe tbody tr th:only-of-type {\n",
       "        vertical-align: middle;\n",
       "    }\n",
       "\n",
       "    .dataframe tbody tr th {\n",
       "        vertical-align: top;\n",
       "    }\n",
       "\n",
       "    .dataframe thead th {\n",
       "        text-align: right;\n",
       "    }\n",
       "</style>\n",
       "<table border=\"1\" class=\"dataframe\">\n",
       "  <thead>\n",
       "    <tr style=\"text-align: right;\">\n",
       "      <th></th>\n",
       "      <th>index</th>\n",
       "      <th>org_code</th>\n",
       "      <th>period</th>\n",
       "      <th>admissions</th>\n",
       "      <th>consent</th>\n",
       "    </tr>\n",
       "  </thead>\n",
       "  <tbody>\n",
       "    <tr>\n",
       "      <th>0</th>\n",
       "      <td>0</td>\n",
       "      <td>NaN</td>\n",
       "      <td>2000-01-01</td>\n",
       "      <td>0</td>\n",
       "      <td>False</td>\n",
       "    </tr>\n",
       "  </tbody>\n",
       "</table>\n",
       "</div>"
      ],
      "text/plain": [
       "   index  org_code      period  admissions  consent\n",
       "0      0       NaN  2000-01-01           0    False"
      ]
     },
     "execution_count": 7,
     "metadata": {},
     "output_type": "execute_result"
    }
   ],
   "source": [
    "CollectData=pd.read_csv(\"../Data/CollectedData.csv\") #store the empty dataframe as the object 'collected data'\n",
    "CollectData #print the new object out"
   ]
  },
  {
   "cell_type": "markdown",
   "id": "pharmaceutical-leather",
   "metadata": {},
   "source": [
    "**Review the first row of the test dataset again**"
   ]
  },
  {
   "cell_type": "code",
   "execution_count": 8,
   "id": "sticky-housing",
   "metadata": {},
   "outputs": [
    {
     "data": {
      "text/html": [
       "<div>\n",
       "<style scoped>\n",
       "    .dataframe tbody tr th:only-of-type {\n",
       "        vertical-align: middle;\n",
       "    }\n",
       "\n",
       "    .dataframe tbody tr th {\n",
       "        vertical-align: top;\n",
       "    }\n",
       "\n",
       "    .dataframe thead th {\n",
       "        text-align: right;\n",
       "    }\n",
       "</style>\n",
       "<table border=\"1\" class=\"dataframe\">\n",
       "  <thead>\n",
       "    <tr style=\"text-align: right;\">\n",
       "      <th></th>\n",
       "      <th>index</th>\n",
       "      <th>org_code</th>\n",
       "      <th>period</th>\n",
       "      <th>admissions</th>\n",
       "    </tr>\n",
       "  </thead>\n",
       "  <tbody>\n",
       "    <tr>\n",
       "      <th>0</th>\n",
       "      <td>2826</td>\n",
       "      <td>RGT</td>\n",
       "      <td>2016-07-01</td>\n",
       "      <td>3123</td>\n",
       "    </tr>\n",
       "  </tbody>\n",
       "</table>\n",
       "</div>"
      ],
      "text/plain": [
       "   index org_code      period  admissions\n",
       "0   2826      RGT  2016-07-01        3123"
      ]
     },
     "execution_count": 8,
     "metadata": {},
     "output_type": "execute_result"
    }
   ],
   "source": [
    "testData.head(n=1) #use the head() function in Python to review the first row of the dataset with n=1"
   ]
  },
  {
   "cell_type": "markdown",
   "id": "civil-chase",
   "metadata": {},
   "source": [
    "**Index variable**\n",
    "\n",
    "*The first variable contains the index number, that allows connecting the test data to the orginal data set \"../RawData/ae_attendances.csv\".* *Using indexing to add the index number to the 'dfTofill' file.*"
   ]
  },
  {
   "cell_type": "code",
   "execution_count": 9,
   "id": "hearing-chick",
   "metadata": {},
   "outputs": [
    {
     "data": {
      "text/html": [
       "<div>\n",
       "<style scoped>\n",
       "    .dataframe tbody tr th:only-of-type {\n",
       "        vertical-align: middle;\n",
       "    }\n",
       "\n",
       "    .dataframe tbody tr th {\n",
       "        vertical-align: top;\n",
       "    }\n",
       "\n",
       "    .dataframe thead th {\n",
       "        text-align: right;\n",
       "    }\n",
       "</style>\n",
       "<table border=\"1\" class=\"dataframe\">\n",
       "  <thead>\n",
       "    <tr style=\"text-align: right;\">\n",
       "      <th></th>\n",
       "      <th>index</th>\n",
       "      <th>org_code</th>\n",
       "      <th>period</th>\n",
       "      <th>admissions</th>\n",
       "      <th>consent</th>\n",
       "    </tr>\n",
       "  </thead>\n",
       "  <tbody>\n",
       "    <tr>\n",
       "      <th>0</th>\n",
       "      <td>2826</td>\n",
       "      <td>NA</td>\n",
       "      <td>2000-01-01</td>\n",
       "      <td>0</td>\n",
       "      <td>False</td>\n",
       "    </tr>\n",
       "  </tbody>\n",
       "</table>\n",
       "</div>"
      ],
      "text/plain": [
       "   index org_code     period  admissions  consent\n",
       "0   2826       NA 2000-01-01           0    False"
      ]
     },
     "execution_count": 9,
     "metadata": {},
     "output_type": "execute_result"
    }
   ],
   "source": [
    "index_number=2826 #Index number for first record.\n",
    "dfTofill.iloc[0,0]=index_number # adding index number to 'dfTofill' file\n",
    "dfTofill #print dfTofill file with index number added"
   ]
  },
  {
   "cell_type": "markdown",
   "id": "electrical-effects",
   "metadata": {},
   "source": [
    "# **Widgets**\n",
    "\n",
    "*Widgets are graphical user interface element, such as a button, dropdown or textbox.* \n",
    "*Importing the ipywidgets Python package to use widgets* "
   ]
  },
  {
   "cell_type": "code",
   "execution_count": 10,
   "id": "super-boundary",
   "metadata": {},
   "outputs": [],
   "source": [
    "#Load the 'ipywidgets' package\n",
    "import ipywidgets as widgets"
   ]
  },
  {
   "cell_type": "code",
   "execution_count": 11,
   "id": "virgin-person",
   "metadata": {},
   "outputs": [],
   "source": [
    "#Load the 'IPython.display' package to display different objects in Jupyter notebook\n",
    "from IPython.display import display"
   ]
  },
  {
   "cell_type": "markdown",
   "id": "suitable-desert",
   "metadata": {},
   "source": [
    "**Consent**\n",
    "\n",
    "*Here the checkbox widget will be used to obtain consent from end-users to process and share the data collected.*\n",
    "*The checkbox widget is used to display boolean datatype - True or False*"
   ]
  },
  {
   "cell_type": "code",
   "execution_count": 12,
   "id": "thirty-romance",
   "metadata": {},
   "outputs": [
    {
     "data": {
      "application/vnd.jupyter.widget-view+json": {
       "model_id": "c2b3e2b1fbf447b4a08908bd18617df5",
       "version_major": 2,
       "version_minor": 0
      },
      "text/plain": [
       "Checkbox(value=False, description='I consent for the data provided to be processed and shared')"
      ]
     },
     "metadata": {},
     "output_type": "display_data"
    }
   ],
   "source": [
    "a = widgets.Checkbox(value=False, \n",
    "description='I consent for the data provided to be processed and shared',\n",
    "disabled=False) # use the checkbox widget and store as the object 'a'\n",
    "\n",
    "display(a) # use the display function to display the widget object\n",
    "# mark the checkbox to give consent\n"
   ]
  },
  {
   "cell_type": "code",
   "execution_count": 13,
   "id": "embedded-footwear",
   "metadata": {},
   "outputs": [
    {
     "data": {
      "text/html": [
       "<div>\n",
       "<style scoped>\n",
       "    .dataframe tbody tr th:only-of-type {\n",
       "        vertical-align: middle;\n",
       "    }\n",
       "\n",
       "    .dataframe tbody tr th {\n",
       "        vertical-align: top;\n",
       "    }\n",
       "\n",
       "    .dataframe thead th {\n",
       "        text-align: right;\n",
       "    }\n",
       "</style>\n",
       "<table border=\"1\" class=\"dataframe\">\n",
       "  <thead>\n",
       "    <tr style=\"text-align: right;\">\n",
       "      <th></th>\n",
       "      <th>index</th>\n",
       "      <th>org_code</th>\n",
       "      <th>period</th>\n",
       "      <th>admissions</th>\n",
       "      <th>consent</th>\n",
       "    </tr>\n",
       "  </thead>\n",
       "  <tbody>\n",
       "    <tr>\n",
       "      <th>0</th>\n",
       "      <td>2826</td>\n",
       "      <td>NA</td>\n",
       "      <td>2000-01-01</td>\n",
       "      <td>0</td>\n",
       "      <td>True</td>\n",
       "    </tr>\n",
       "  </tbody>\n",
       "</table>\n",
       "</div>"
      ],
      "text/plain": [
       "   index org_code     period  admissions  consent\n",
       "0   2826       NA 2000-01-01           0     True"
      ]
     },
     "execution_count": 13,
     "metadata": {},
     "output_type": "execute_result"
    }
   ],
   "source": [
    "dfTofill.iloc[0,4]=a.value # Using indexing to add the index number to the 'dfTofill' file for consent variable\n",
    "dfTofill # print dfTofill file with consent variable equal True\n"
   ]
  },
  {
   "cell_type": "markdown",
   "id": "listed-detective",
   "metadata": {},
   "source": [
    "**Setup a DatePicker widget to collect period data**"
   ]
  },
  {
   "cell_type": "code",
   "execution_count": 14,
   "id": "exclusive-treasure",
   "metadata": {},
   "outputs": [
    {
     "data": {
      "application/vnd.jupyter.widget-view+json": {
       "model_id": "d241949c156743cda89832802ca9dda9",
       "version_major": 2,
       "version_minor": 0
      },
      "text/plain": [
       "DatePicker(value=None, description='Period')"
      ]
     },
     "metadata": {},
     "output_type": "display_data"
    }
   ],
   "source": [
    "b = widgets.DatePicker(\n",
    "description='Period',\n",
    "disabled=False\n",
    ") # use the DatePicker widget and store as the object 'b'\n",
    "\n",
    "\n",
    "display(b) # use the display function to display the DatePicker widget object\n",
    "\n",
    "#Select \"2016-07-01\" as first date"
   ]
  },
  {
   "cell_type": "code",
   "execution_count": 15,
   "id": "fleet-candle",
   "metadata": {},
   "outputs": [
    {
     "data": {
      "text/html": [
       "<div>\n",
       "<style scoped>\n",
       "    .dataframe tbody tr th:only-of-type {\n",
       "        vertical-align: middle;\n",
       "    }\n",
       "\n",
       "    .dataframe tbody tr th {\n",
       "        vertical-align: top;\n",
       "    }\n",
       "\n",
       "    .dataframe thead th {\n",
       "        text-align: right;\n",
       "    }\n",
       "</style>\n",
       "<table border=\"1\" class=\"dataframe\">\n",
       "  <thead>\n",
       "    <tr style=\"text-align: right;\">\n",
       "      <th></th>\n",
       "      <th>index</th>\n",
       "      <th>org_code</th>\n",
       "      <th>period</th>\n",
       "      <th>admissions</th>\n",
       "      <th>consent</th>\n",
       "    </tr>\n",
       "  </thead>\n",
       "  <tbody>\n",
       "    <tr>\n",
       "      <th>0</th>\n",
       "      <td>2826</td>\n",
       "      <td>NA</td>\n",
       "      <td>2016-07-01</td>\n",
       "      <td>0</td>\n",
       "      <td>True</td>\n",
       "    </tr>\n",
       "  </tbody>\n",
       "</table>\n",
       "</div>"
      ],
      "text/plain": [
       "   index org_code      period  admissions  consent\n",
       "0   2826       NA  2016-07-01           0     True"
      ]
     },
     "execution_count": 15,
     "metadata": {},
     "output_type": "execute_result"
    }
   ],
   "source": [
    "dfTofill.iloc[0,2]=b.value # Using indexing to add the index number to the 'dfTofill' file for period variable\n",
    "dfTofill # print dfTofill file with period value added\n"
   ]
  },
  {
   "cell_type": "markdown",
   "id": "alive-adams",
   "metadata": {},
   "source": [
    "**Use describe the describe() function from the numpy Python package to calculate \n",
    "summary statistics for the testData data frame.** "
   ]
  },
  {
   "cell_type": "code",
   "execution_count": 16,
   "id": "international-danger",
   "metadata": {},
   "outputs": [
    {
     "data": {
      "text/html": [
       "<div>\n",
       "<style scoped>\n",
       "    .dataframe tbody tr th:only-of-type {\n",
       "        vertical-align: middle;\n",
       "    }\n",
       "\n",
       "    .dataframe tbody tr th {\n",
       "        vertical-align: top;\n",
       "    }\n",
       "\n",
       "    .dataframe thead th {\n",
       "        text-align: right;\n",
       "    }\n",
       "</style>\n",
       "<table border=\"1\" class=\"dataframe\">\n",
       "  <thead>\n",
       "    <tr style=\"text-align: right;\">\n",
       "      <th></th>\n",
       "      <th>index</th>\n",
       "      <th>org_code</th>\n",
       "      <th>period</th>\n",
       "      <th>admissions</th>\n",
       "    </tr>\n",
       "  </thead>\n",
       "  <tbody>\n",
       "    <tr>\n",
       "      <th>count</th>\n",
       "      <td>11.000000</td>\n",
       "      <td>11</td>\n",
       "      <td>11</td>\n",
       "      <td>11.000000</td>\n",
       "    </tr>\n",
       "    <tr>\n",
       "      <th>unique</th>\n",
       "      <td>NaN</td>\n",
       "      <td>11</td>\n",
       "      <td>10</td>\n",
       "      <td>NaN</td>\n",
       "    </tr>\n",
       "    <tr>\n",
       "      <th>top</th>\n",
       "      <td>NaN</td>\n",
       "      <td>RGT</td>\n",
       "      <td>2016-07-01</td>\n",
       "      <td>NaN</td>\n",
       "    </tr>\n",
       "    <tr>\n",
       "      <th>freq</th>\n",
       "      <td>NaN</td>\n",
       "      <td>1</td>\n",
       "      <td>2</td>\n",
       "      <td>NaN</td>\n",
       "    </tr>\n",
       "    <tr>\n",
       "      <th>mean</th>\n",
       "      <td>7222.818182</td>\n",
       "      <td>NaN</td>\n",
       "      <td>NaN</td>\n",
       "      <td>2380.000000</td>\n",
       "    </tr>\n",
       "    <tr>\n",
       "      <th>std</th>\n",
       "      <td>3478.562456</td>\n",
       "      <td>NaN</td>\n",
       "      <td>NaN</td>\n",
       "      <td>1614.526494</td>\n",
       "    </tr>\n",
       "    <tr>\n",
       "      <th>min</th>\n",
       "      <td>2826.000000</td>\n",
       "      <td>NaN</td>\n",
       "      <td>NaN</td>\n",
       "      <td>754.000000</td>\n",
       "    </tr>\n",
       "    <tr>\n",
       "      <th>25%</th>\n",
       "      <td>4686.000000</td>\n",
       "      <td>NaN</td>\n",
       "      <td>NaN</td>\n",
       "      <td>1110.500000</td>\n",
       "    </tr>\n",
       "    <tr>\n",
       "      <th>50%</th>\n",
       "      <td>6727.000000</td>\n",
       "      <td>NaN</td>\n",
       "      <td>NaN</td>\n",
       "      <td>2398.000000</td>\n",
       "    </tr>\n",
       "    <tr>\n",
       "      <th>75%</th>\n",
       "      <td>9458.000000</td>\n",
       "      <td>NaN</td>\n",
       "      <td>NaN</td>\n",
       "      <td>2817.500000</td>\n",
       "    </tr>\n",
       "    <tr>\n",
       "      <th>max</th>\n",
       "      <td>12463.000000</td>\n",
       "      <td>NaN</td>\n",
       "      <td>NaN</td>\n",
       "      <td>6522.000000</td>\n",
       "    </tr>\n",
       "  </tbody>\n",
       "</table>\n",
       "</div>"
      ],
      "text/plain": [
       "               index org_code      period   admissions\n",
       "count      11.000000       11          11    11.000000\n",
       "unique           NaN       11          10          NaN\n",
       "top              NaN      RGT  2016-07-01          NaN\n",
       "freq             NaN        1           2          NaN\n",
       "mean     7222.818182      NaN         NaN  2380.000000\n",
       "std      3478.562456      NaN         NaN  1614.526494\n",
       "min      2826.000000      NaN         NaN   754.000000\n",
       "25%      4686.000000      NaN         NaN  1110.500000\n",
       "50%      6727.000000      NaN         NaN  2398.000000\n",
       "75%      9458.000000      NaN         NaN  2817.500000\n",
       "max     12463.000000      NaN         NaN  6522.000000"
      ]
     },
     "execution_count": 16,
     "metadata": {},
     "output_type": "execute_result"
    }
   ],
   "source": [
    "#Load the 'numpy' package\n",
    "import numpy as np\n",
    "testData.describe(include='all')"
   ]
  },
  {
   "cell_type": "markdown",
   "id": "meaning-catering",
   "metadata": {},
   "source": [
    "**Applying pandas unique() function to get the unique Organisation data service (ODS) codes in the test data.**"
   ]
  },
  {
   "cell_type": "code",
   "execution_count": 17,
   "id": "comparative-finger",
   "metadata": {},
   "outputs": [
    {
     "data": {
      "text/plain": [
       "['RGT', 'RM1', 'RRK', 'RJN', 'RNZ', 'RQ3', 'RBL', 'R1K', 'RPA', 'RA3', 'RDE']"
      ]
     },
     "execution_count": 17,
     "metadata": {},
     "output_type": "execute_result"
    }
   ],
   "source": [
    "org_code=list(testData['org_code'].unique()) # create a list of unique ODS codes and store as object 'org_code'\n",
    "org_code"
   ]
  },
  {
   "cell_type": "markdown",
   "id": "described-rhythm",
   "metadata": {},
   "source": [
    "**Use selection widgets to display single selection lists.** "
   ]
  },
  {
   "cell_type": "code",
   "execution_count": 19,
   "id": "smooth-packet",
   "metadata": {},
   "outputs": [
    {
     "data": {
      "application/vnd.jupyter.widget-view+json": {
       "model_id": "40791455f76d4af39b37b3ff242c6046",
       "version_major": 2,
       "version_minor": 0
      },
      "text/plain": [
       "Select(description='ODS code:', options=('RGT', 'RM1', 'RRK', 'RJN', 'RNZ', 'RQ3', 'RBL', 'R1K', 'RPA', 'RA3',…"
      ]
     },
     "metadata": {},
     "output_type": "display_data"
    }
   ],
   "source": [
    "c=widgets.Select(\n",
    "    options=org_code,\n",
    "    value='RGT',\n",
    "    rows=len(org_code),\n",
    "    description='ODS code:',\n",
    "    disabled=False\n",
    ") # use the Select widget and store as the object 'c'\n",
    "\n",
    "display(c) # use the display function to display the DatePicker widget object\n",
    "\n",
    "# Select first code"
   ]
  },
  {
   "cell_type": "code",
   "execution_count": 20,
   "id": "finite-picking",
   "metadata": {},
   "outputs": [
    {
     "data": {
      "text/html": [
       "<div>\n",
       "<style scoped>\n",
       "    .dataframe tbody tr th:only-of-type {\n",
       "        vertical-align: middle;\n",
       "    }\n",
       "\n",
       "    .dataframe tbody tr th {\n",
       "        vertical-align: top;\n",
       "    }\n",
       "\n",
       "    .dataframe thead th {\n",
       "        text-align: right;\n",
       "    }\n",
       "</style>\n",
       "<table border=\"1\" class=\"dataframe\">\n",
       "  <thead>\n",
       "    <tr style=\"text-align: right;\">\n",
       "      <th></th>\n",
       "      <th>index</th>\n",
       "      <th>org_code</th>\n",
       "      <th>period</th>\n",
       "      <th>admissions</th>\n",
       "      <th>consent</th>\n",
       "    </tr>\n",
       "  </thead>\n",
       "  <tbody>\n",
       "    <tr>\n",
       "      <th>0</th>\n",
       "      <td>2826</td>\n",
       "      <td>RGT</td>\n",
       "      <td>2016-07-01</td>\n",
       "      <td>0</td>\n",
       "      <td>True</td>\n",
       "    </tr>\n",
       "  </tbody>\n",
       "</table>\n",
       "</div>"
      ],
      "text/plain": [
       "   index org_code      period  admissions  consent\n",
       "0   2826      RGT  2016-07-01           0     True"
      ]
     },
     "execution_count": 20,
     "metadata": {},
     "output_type": "execute_result"
    }
   ],
   "source": [
    "dfTofill.iloc[0,1]=c.value # Using indexing to add the index number to the 'dfTofill' file for 'org_code' variable\n",
    "dfTofill # print dfTofill file with 'org_code' value added\n"
   ]
  },
  {
   "cell_type": "markdown",
   "id": "documentary-remainder",
   "metadata": {},
   "source": [
    "**Setup numeric widgets using the 'IntText' widget because the admissions data type is an integer.**"
   ]
  },
  {
   "cell_type": "code",
   "execution_count": 21,
   "id": "advance-processor",
   "metadata": {},
   "outputs": [
    {
     "data": {
      "application/vnd.jupyter.widget-view+json": {
       "model_id": "6795b10b74fc4d4abade3ab5d2e20965",
       "version_major": 2,
       "version_minor": 0
      },
      "text/plain": [
       "IntText(value=0, description='Admissions:')"
      ]
     },
     "metadata": {},
     "output_type": "display_data"
    }
   ],
   "source": [
    "d=widgets.IntText(\n",
    "    value=0,\n",
    "    description='Admissions:',\n",
    "    disabled=False) # use the integer widget and store as the object 'd'\n",
    "\n",
    "display(d) # use the display function to display the integer widget object\n",
    "\n",
    "#select 3123 as value for admissions from the first row"
   ]
  },
  {
   "cell_type": "code",
   "execution_count": 22,
   "id": "careful-prediction",
   "metadata": {},
   "outputs": [
    {
     "data": {
      "text/html": [
       "<div>\n",
       "<style scoped>\n",
       "    .dataframe tbody tr th:only-of-type {\n",
       "        vertical-align: middle;\n",
       "    }\n",
       "\n",
       "    .dataframe tbody tr th {\n",
       "        vertical-align: top;\n",
       "    }\n",
       "\n",
       "    .dataframe thead th {\n",
       "        text-align: right;\n",
       "    }\n",
       "</style>\n",
       "<table border=\"1\" class=\"dataframe\">\n",
       "  <thead>\n",
       "    <tr style=\"text-align: right;\">\n",
       "      <th></th>\n",
       "      <th>index</th>\n",
       "      <th>org_code</th>\n",
       "      <th>period</th>\n",
       "      <th>admissions</th>\n",
       "      <th>consent</th>\n",
       "    </tr>\n",
       "  </thead>\n",
       "  <tbody>\n",
       "    <tr>\n",
       "      <th>0</th>\n",
       "      <td>2826</td>\n",
       "      <td>RGT</td>\n",
       "      <td>2016-07-01</td>\n",
       "      <td>3123</td>\n",
       "      <td>True</td>\n",
       "    </tr>\n",
       "  </tbody>\n",
       "</table>\n",
       "</div>"
      ],
      "text/plain": [
       "   index org_code      period  admissions  consent\n",
       "0   2826      RGT  2016-07-01        3123     True"
      ]
     },
     "execution_count": 22,
     "metadata": {},
     "output_type": "execute_result"
    }
   ],
   "source": [
    "dfTofill.iloc[0,3]=d.value # Using indexing to add the index number to the 'dfTofill' file for 'admissions' variable\n",
    "dfTofill # print dfTofill file with 'admissions' value added"
   ]
  },
  {
   "cell_type": "markdown",
   "id": "confirmed-interaction",
   "metadata": {},
   "source": [
    "# **Concatenating the collected data to the CollectData data frame.**\n",
    "\n",
    "*Use of the concat() function from the Python pandas package to append the CollectData and dfTofill data frames.* "
   ]
  },
  {
   "cell_type": "code",
   "execution_count": 23,
   "id": "automatic-sudan",
   "metadata": {},
   "outputs": [
    {
     "data": {
      "text/html": [
       "<div>\n",
       "<style scoped>\n",
       "    .dataframe tbody tr th:only-of-type {\n",
       "        vertical-align: middle;\n",
       "    }\n",
       "\n",
       "    .dataframe tbody tr th {\n",
       "        vertical-align: top;\n",
       "    }\n",
       "\n",
       "    .dataframe thead th {\n",
       "        text-align: right;\n",
       "    }\n",
       "</style>\n",
       "<table border=\"1\" class=\"dataframe\">\n",
       "  <thead>\n",
       "    <tr style=\"text-align: right;\">\n",
       "      <th></th>\n",
       "      <th>index</th>\n",
       "      <th>org_code</th>\n",
       "      <th>period</th>\n",
       "      <th>admissions</th>\n",
       "      <th>consent</th>\n",
       "    </tr>\n",
       "  </thead>\n",
       "  <tbody>\n",
       "    <tr>\n",
       "      <th>0</th>\n",
       "      <td>0</td>\n",
       "      <td>NaN</td>\n",
       "      <td>2000-01-01</td>\n",
       "      <td>0</td>\n",
       "      <td>False</td>\n",
       "    </tr>\n",
       "    <tr>\n",
       "      <th>0</th>\n",
       "      <td>2826</td>\n",
       "      <td>RGT</td>\n",
       "      <td>2016-07-01</td>\n",
       "      <td>3123</td>\n",
       "      <td>True</td>\n",
       "    </tr>\n",
       "  </tbody>\n",
       "</table>\n",
       "</div>"
      ],
      "text/plain": [
       "   index org_code      period  admissions  consent\n",
       "0      0      NaN  2000-01-01           0    False\n",
       "0   2826      RGT  2016-07-01        3123     True"
      ]
     },
     "metadata": {},
     "output_type": "display_data"
    }
   ],
   "source": [
    "# CollectData is the first data frame\n",
    "# dfTofill is the second data frame\n",
    "CollectData = pd.concat([CollectData, dfTofill]) # concatenate the collected data to the CollectData data frame\n",
    "display(CollectData) # display results\n"
   ]
  },
  {
   "cell_type": "markdown",
   "id": "plain-event",
   "metadata": {},
   "source": [
    "**Ensuring consent before saving the collected data to the working data folder.**"
   ]
  },
  {
   "cell_type": "code",
   "execution_count": 24,
   "id": "brown-patch",
   "metadata": {},
   "outputs": [
    {
     "data": {
      "text/html": [
       "<div>\n",
       "<style scoped>\n",
       "    .dataframe tbody tr th:only-of-type {\n",
       "        vertical-align: middle;\n",
       "    }\n",
       "\n",
       "    .dataframe tbody tr th {\n",
       "        vertical-align: top;\n",
       "    }\n",
       "\n",
       "    .dataframe thead th {\n",
       "        text-align: right;\n",
       "    }\n",
       "</style>\n",
       "<table border=\"1\" class=\"dataframe\">\n",
       "  <thead>\n",
       "    <tr style=\"text-align: right;\">\n",
       "      <th></th>\n",
       "      <th>index</th>\n",
       "      <th>org_code</th>\n",
       "      <th>period</th>\n",
       "      <th>admissions</th>\n",
       "      <th>consent</th>\n",
       "    </tr>\n",
       "  </thead>\n",
       "  <tbody>\n",
       "    <tr>\n",
       "      <th>0</th>\n",
       "      <td>2826</td>\n",
       "      <td>RGT</td>\n",
       "      <td>2016-07-01</td>\n",
       "      <td>3123</td>\n",
       "      <td>True</td>\n",
       "    </tr>\n",
       "  </tbody>\n",
       "</table>\n",
       "</div>"
      ],
      "text/plain": [
       "   index org_code      period  admissions  consent\n",
       "0   2826      RGT  2016-07-01        3123     True"
      ]
     },
     "metadata": {},
     "output_type": "display_data"
    }
   ],
   "source": [
    "CollectData=CollectData[CollectData['consent'] == True] # subset the concatenated data to ensure consent\n",
    "display(CollectData) # display results\n"
   ]
  },
  {
   "cell_type": "markdown",
   "id": "continent-bridal",
   "metadata": {},
   "source": [
    "**Saving the data collected by the data capture tool  to the working data folder.**"
   ]
  },
  {
   "cell_type": "code",
   "execution_count": 25,
   "id": "hollow-spectacular",
   "metadata": {},
   "outputs": [],
   "source": [
    "CollectData.to_csv('../Data/CollectedData.csv', index=False)"
   ]
  },
  {
   "cell_type": "markdown",
   "id": "fancy-universe",
   "metadata": {},
   "source": [
    "# **Iterate data collection process for second row of data**"
   ]
  },
  {
   "cell_type": "markdown",
   "id": "collaborative-question",
   "metadata": {},
   "source": [
    "**Review the second row of the test dataset**"
   ]
  },
  {
   "cell_type": "code",
   "execution_count": 26,
   "id": "optimum-removal",
   "metadata": {
    "scrolled": true
   },
   "outputs": [
    {
     "data": {
      "text/html": [
       "<div>\n",
       "<style scoped>\n",
       "    .dataframe tbody tr th:only-of-type {\n",
       "        vertical-align: middle;\n",
       "    }\n",
       "\n",
       "    .dataframe tbody tr th {\n",
       "        vertical-align: top;\n",
       "    }\n",
       "\n",
       "    .dataframe thead th {\n",
       "        text-align: right;\n",
       "    }\n",
       "</style>\n",
       "<table border=\"1\" class=\"dataframe\">\n",
       "  <thead>\n",
       "    <tr style=\"text-align: right;\">\n",
       "      <th></th>\n",
       "      <th>index</th>\n",
       "      <th>org_code</th>\n",
       "      <th>period</th>\n",
       "      <th>admissions</th>\n",
       "    </tr>\n",
       "  </thead>\n",
       "  <tbody>\n",
       "    <tr>\n",
       "      <th>0</th>\n",
       "      <td>2826</td>\n",
       "      <td>RGT</td>\n",
       "      <td>2016-07-01</td>\n",
       "      <td>3123</td>\n",
       "    </tr>\n",
       "    <tr>\n",
       "      <th>1</th>\n",
       "      <td>2865</td>\n",
       "      <td>RM1</td>\n",
       "      <td>2016-07-01</td>\n",
       "      <td>2891</td>\n",
       "    </tr>\n",
       "  </tbody>\n",
       "</table>\n",
       "</div>"
      ],
      "text/plain": [
       "   index org_code      period  admissions\n",
       "0   2826      RGT  2016-07-01        3123\n",
       "1   2865      RM1  2016-07-01        2891"
      ]
     },
     "execution_count": 26,
     "metadata": {},
     "output_type": "execute_result"
    }
   ],
   "source": [
    "testData.head(n=2) #use the head() function in Python to review the first row of the dataset with n=2"
   ]
  },
  {
   "cell_type": "markdown",
   "id": "bibliographic-pathology",
   "metadata": {},
   "source": [
    "**Index variable for second row**"
   ]
  },
  {
   "cell_type": "code",
   "execution_count": 27,
   "id": "angry-specialist",
   "metadata": {
    "scrolled": true
   },
   "outputs": [
    {
     "data": {
      "text/html": [
       "<div>\n",
       "<style scoped>\n",
       "    .dataframe tbody tr th:only-of-type {\n",
       "        vertical-align: middle;\n",
       "    }\n",
       "\n",
       "    .dataframe tbody tr th {\n",
       "        vertical-align: top;\n",
       "    }\n",
       "\n",
       "    .dataframe thead th {\n",
       "        text-align: right;\n",
       "    }\n",
       "</style>\n",
       "<table border=\"1\" class=\"dataframe\">\n",
       "  <thead>\n",
       "    <tr style=\"text-align: right;\">\n",
       "      <th></th>\n",
       "      <th>index</th>\n",
       "      <th>org_code</th>\n",
       "      <th>period</th>\n",
       "      <th>admissions</th>\n",
       "      <th>consent</th>\n",
       "    </tr>\n",
       "  </thead>\n",
       "  <tbody>\n",
       "    <tr>\n",
       "      <th>0</th>\n",
       "      <td>2865</td>\n",
       "      <td>RGT</td>\n",
       "      <td>2016-07-01</td>\n",
       "      <td>3123</td>\n",
       "      <td>True</td>\n",
       "    </tr>\n",
       "  </tbody>\n",
       "</table>\n",
       "</div>"
      ],
      "text/plain": [
       "   index org_code      period  admissions  consent\n",
       "0   2865      RGT  2016-07-01        3123     True"
      ]
     },
     "execution_count": 27,
     "metadata": {},
     "output_type": "execute_result"
    }
   ],
   "source": [
    "index_number=2865 #Index number for second record.\n",
    "dfTofill.iloc[0,0]=index_number # adding index number to 'dfTofill' file\n",
    "dfTofill #print dfTofill2 file with index number added"
   ]
  },
  {
   "cell_type": "markdown",
   "id": "mobile-piano",
   "metadata": {},
   "source": [
    "**Consent using the checkbox widget to display boolean datatype - True or False**"
   ]
  },
  {
   "cell_type": "code",
   "execution_count": 28,
   "id": "statutory-seeking",
   "metadata": {},
   "outputs": [
    {
     "data": {
      "application/vnd.jupyter.widget-view+json": {
       "model_id": "b9fd8e419ec44472bfefebea15c1e273",
       "version_major": 2,
       "version_minor": 0
      },
      "text/plain": [
       "Checkbox(value=False, description='I consent for the data provided to be processed and shared')"
      ]
     },
     "metadata": {},
     "output_type": "display_data"
    }
   ],
   "source": [
    "a1 = widgets.Checkbox(value=False, \n",
    "description='I consent for the data provided to be processed and shared',\n",
    "disabled=False) # use the checkbox widget and store as the object 'a1'\n",
    "\n",
    "display(a1) # use the display function to display the widget object\n",
    "# mark the checkbox to give consent"
   ]
  },
  {
   "cell_type": "code",
   "execution_count": 29,
   "id": "naval-shoot",
   "metadata": {},
   "outputs": [
    {
     "data": {
      "text/html": [
       "<div>\n",
       "<style scoped>\n",
       "    .dataframe tbody tr th:only-of-type {\n",
       "        vertical-align: middle;\n",
       "    }\n",
       "\n",
       "    .dataframe tbody tr th {\n",
       "        vertical-align: top;\n",
       "    }\n",
       "\n",
       "    .dataframe thead th {\n",
       "        text-align: right;\n",
       "    }\n",
       "</style>\n",
       "<table border=\"1\" class=\"dataframe\">\n",
       "  <thead>\n",
       "    <tr style=\"text-align: right;\">\n",
       "      <th></th>\n",
       "      <th>index</th>\n",
       "      <th>org_code</th>\n",
       "      <th>period</th>\n",
       "      <th>admissions</th>\n",
       "      <th>consent</th>\n",
       "    </tr>\n",
       "  </thead>\n",
       "  <tbody>\n",
       "    <tr>\n",
       "      <th>0</th>\n",
       "      <td>2865</td>\n",
       "      <td>RGT</td>\n",
       "      <td>2016-07-01</td>\n",
       "      <td>3123</td>\n",
       "      <td>True</td>\n",
       "    </tr>\n",
       "  </tbody>\n",
       "</table>\n",
       "</div>"
      ],
      "text/plain": [
       "   index org_code      period  admissions  consent\n",
       "0   2865      RGT  2016-07-01        3123     True"
      ]
     },
     "execution_count": 29,
     "metadata": {},
     "output_type": "execute_result"
    }
   ],
   "source": [
    "dfTofill.iloc[0,4]=a1.value # Using indexing to add the index number to the 'dfTofill' file for consent variable\n",
    "dfTofill # print dfTofill file with consent variable equal True"
   ]
  },
  {
   "cell_type": "markdown",
   "id": "mental-meeting",
   "metadata": {},
   "source": [
    "**Setup a DatePicker widget to collect period data for second row**"
   ]
  },
  {
   "cell_type": "code",
   "execution_count": 30,
   "id": "antique-producer",
   "metadata": {},
   "outputs": [
    {
     "data": {
      "application/vnd.jupyter.widget-view+json": {
       "model_id": "0204a4889c0645f58f801e6b61a5a26d",
       "version_major": 2,
       "version_minor": 0
      },
      "text/plain": [
       "DatePicker(value=None, description='Period')"
      ]
     },
     "metadata": {},
     "output_type": "display_data"
    }
   ],
   "source": [
    "b1 = widgets.DatePicker(\n",
    "description='Period',\n",
    "disabled=False\n",
    ") # use the DatePicker widget and store as the object 'b1'\n",
    "\n",
    "\n",
    "display(b1) # use the display function to display the DatePicker widget object\n",
    "\n",
    "#Select \"2016-07-01\" as date for second row"
   ]
  },
  {
   "cell_type": "code",
   "execution_count": 31,
   "id": "embedded-valentine",
   "metadata": {},
   "outputs": [
    {
     "data": {
      "text/html": [
       "<div>\n",
       "<style scoped>\n",
       "    .dataframe tbody tr th:only-of-type {\n",
       "        vertical-align: middle;\n",
       "    }\n",
       "\n",
       "    .dataframe tbody tr th {\n",
       "        vertical-align: top;\n",
       "    }\n",
       "\n",
       "    .dataframe thead th {\n",
       "        text-align: right;\n",
       "    }\n",
       "</style>\n",
       "<table border=\"1\" class=\"dataframe\">\n",
       "  <thead>\n",
       "    <tr style=\"text-align: right;\">\n",
       "      <th></th>\n",
       "      <th>index</th>\n",
       "      <th>org_code</th>\n",
       "      <th>period</th>\n",
       "      <th>admissions</th>\n",
       "      <th>consent</th>\n",
       "    </tr>\n",
       "  </thead>\n",
       "  <tbody>\n",
       "    <tr>\n",
       "      <th>0</th>\n",
       "      <td>2865</td>\n",
       "      <td>RGT</td>\n",
       "      <td>2016-07-01</td>\n",
       "      <td>3123</td>\n",
       "      <td>True</td>\n",
       "    </tr>\n",
       "  </tbody>\n",
       "</table>\n",
       "</div>"
      ],
      "text/plain": [
       "   index org_code      period  admissions  consent\n",
       "0   2865      RGT  2016-07-01        3123     True"
      ]
     },
     "execution_count": 31,
     "metadata": {},
     "output_type": "execute_result"
    }
   ],
   "source": [
    "dfTofill.iloc[0,2]=b1.value # Using indexing to add the index number to the 'dfTofill' file for period variable\n",
    "dfTofill # print dfTofill file with period value added"
   ]
  },
  {
   "cell_type": "markdown",
   "id": "hairy-island",
   "metadata": {},
   "source": [
    "**Use selection widgets to display single selection lists for row 2 for org_code variable.**"
   ]
  },
  {
   "cell_type": "code",
   "execution_count": 32,
   "id": "hazardous-edwards",
   "metadata": {},
   "outputs": [
    {
     "data": {
      "application/vnd.jupyter.widget-view+json": {
       "model_id": "bfccc8edb3cd4b6a8bd913e131e51743",
       "version_major": 2,
       "version_minor": 0
      },
      "text/plain": [
       "Select(description='ODS code:', index=1, options=('RGT', 'RM1', 'RRK', 'RJN', 'RNZ', 'RQ3', 'RBL', 'R1K', 'RPA…"
      ]
     },
     "metadata": {},
     "output_type": "display_data"
    }
   ],
   "source": [
    "c1=widgets.Select(\n",
    "    options=org_code,\n",
    "    value='RM1',\n",
    "    rows=len(org_code),\n",
    "    description='ODS code:',\n",
    "    disabled=False\n",
    ") # use the Select widget and store as the object 'c1'\n",
    "\n",
    "display(c1) # use the display function to display the DatePicker widget object\n",
    "\n",
    "# Select second code"
   ]
  },
  {
   "cell_type": "code",
   "execution_count": 33,
   "id": "current-builder",
   "metadata": {},
   "outputs": [
    {
     "data": {
      "text/html": [
       "<div>\n",
       "<style scoped>\n",
       "    .dataframe tbody tr th:only-of-type {\n",
       "        vertical-align: middle;\n",
       "    }\n",
       "\n",
       "    .dataframe tbody tr th {\n",
       "        vertical-align: top;\n",
       "    }\n",
       "\n",
       "    .dataframe thead th {\n",
       "        text-align: right;\n",
       "    }\n",
       "</style>\n",
       "<table border=\"1\" class=\"dataframe\">\n",
       "  <thead>\n",
       "    <tr style=\"text-align: right;\">\n",
       "      <th></th>\n",
       "      <th>index</th>\n",
       "      <th>org_code</th>\n",
       "      <th>period</th>\n",
       "      <th>admissions</th>\n",
       "      <th>consent</th>\n",
       "    </tr>\n",
       "  </thead>\n",
       "  <tbody>\n",
       "    <tr>\n",
       "      <th>0</th>\n",
       "      <td>2865</td>\n",
       "      <td>RM1</td>\n",
       "      <td>2016-07-01</td>\n",
       "      <td>3123</td>\n",
       "      <td>True</td>\n",
       "    </tr>\n",
       "  </tbody>\n",
       "</table>\n",
       "</div>"
      ],
      "text/plain": [
       "   index org_code      period  admissions  consent\n",
       "0   2865      RM1  2016-07-01        3123     True"
      ]
     },
     "execution_count": 33,
     "metadata": {},
     "output_type": "execute_result"
    }
   ],
   "source": [
    "dfTofill.iloc[0,1]=c1.value # Using indexing to add the index number to row2 'dfTofill' file for 'org_code' variable\n",
    "dfTofill # print dfTofill file row2 with 'org_code' value added"
   ]
  },
  {
   "cell_type": "markdown",
   "id": "drawn-invention",
   "metadata": {},
   "source": [
    "**Use IntText' widget to collect index value for admissions for second row.**"
   ]
  },
  {
   "cell_type": "code",
   "execution_count": 34,
   "id": "emerging-tomorrow",
   "metadata": {},
   "outputs": [
    {
     "data": {
      "application/vnd.jupyter.widget-view+json": {
       "model_id": "6511b8f8c2ed4846b81298ef60269c68",
       "version_major": 2,
       "version_minor": 0
      },
      "text/plain": [
       "IntText(value=0, description='Admissions:')"
      ]
     },
     "metadata": {},
     "output_type": "display_data"
    }
   ],
   "source": [
    "d1=widgets.IntText(\n",
    "    value=0,\n",
    "    description='Admissions:',\n",
    "    disabled=False) # use the integer widget and store as the object 'd1'\n",
    "\n",
    "display(d1) # use the display function to display the integer widget object\n",
    "\n",
    "#select 2891 as value for admissions from the second row"
   ]
  },
  {
   "cell_type": "code",
   "execution_count": 35,
   "id": "shaped-round",
   "metadata": {},
   "outputs": [
    {
     "data": {
      "text/html": [
       "<div>\n",
       "<style scoped>\n",
       "    .dataframe tbody tr th:only-of-type {\n",
       "        vertical-align: middle;\n",
       "    }\n",
       "\n",
       "    .dataframe tbody tr th {\n",
       "        vertical-align: top;\n",
       "    }\n",
       "\n",
       "    .dataframe thead th {\n",
       "        text-align: right;\n",
       "    }\n",
       "</style>\n",
       "<table border=\"1\" class=\"dataframe\">\n",
       "  <thead>\n",
       "    <tr style=\"text-align: right;\">\n",
       "      <th></th>\n",
       "      <th>index</th>\n",
       "      <th>org_code</th>\n",
       "      <th>period</th>\n",
       "      <th>admissions</th>\n",
       "      <th>consent</th>\n",
       "    </tr>\n",
       "  </thead>\n",
       "  <tbody>\n",
       "    <tr>\n",
       "      <th>0</th>\n",
       "      <td>2865</td>\n",
       "      <td>RM1</td>\n",
       "      <td>2016-07-01</td>\n",
       "      <td>2891</td>\n",
       "      <td>True</td>\n",
       "    </tr>\n",
       "  </tbody>\n",
       "</table>\n",
       "</div>"
      ],
      "text/plain": [
       "   index org_code      period  admissions  consent\n",
       "0   2865      RM1  2016-07-01        2891     True"
      ]
     },
     "execution_count": 35,
     "metadata": {},
     "output_type": "execute_result"
    }
   ],
   "source": [
    "dfTofill.iloc[0,3]=d1.value # Using indexing to add the index number to the 'dfTofill' file for 'admissions' variable\n",
    "dfTofill # print dfTofill file with 'admissions' value added"
   ]
  },
  {
   "cell_type": "markdown",
   "id": "historic-stone",
   "metadata": {},
   "source": [
    "**Concatenate second row of data to the CollectData data frame.**"
   ]
  },
  {
   "cell_type": "code",
   "execution_count": 36,
   "id": "metropolitan-crown",
   "metadata": {},
   "outputs": [
    {
     "data": {
      "text/html": [
       "<div>\n",
       "<style scoped>\n",
       "    .dataframe tbody tr th:only-of-type {\n",
       "        vertical-align: middle;\n",
       "    }\n",
       "\n",
       "    .dataframe tbody tr th {\n",
       "        vertical-align: top;\n",
       "    }\n",
       "\n",
       "    .dataframe thead th {\n",
       "        text-align: right;\n",
       "    }\n",
       "</style>\n",
       "<table border=\"1\" class=\"dataframe\">\n",
       "  <thead>\n",
       "    <tr style=\"text-align: right;\">\n",
       "      <th></th>\n",
       "      <th>index</th>\n",
       "      <th>org_code</th>\n",
       "      <th>period</th>\n",
       "      <th>admissions</th>\n",
       "      <th>consent</th>\n",
       "    </tr>\n",
       "  </thead>\n",
       "  <tbody>\n",
       "    <tr>\n",
       "      <th>0</th>\n",
       "      <td>2826</td>\n",
       "      <td>RGT</td>\n",
       "      <td>2016-07-01</td>\n",
       "      <td>3123</td>\n",
       "      <td>True</td>\n",
       "    </tr>\n",
       "    <tr>\n",
       "      <th>0</th>\n",
       "      <td>2865</td>\n",
       "      <td>RM1</td>\n",
       "      <td>2016-07-01</td>\n",
       "      <td>2891</td>\n",
       "      <td>True</td>\n",
       "    </tr>\n",
       "  </tbody>\n",
       "</table>\n",
       "</div>"
      ],
      "text/plain": [
       "   index org_code      period  admissions  consent\n",
       "0   2826      RGT  2016-07-01        3123     True\n",
       "0   2865      RM1  2016-07-01        2891     True"
      ]
     },
     "metadata": {},
     "output_type": "display_data"
    }
   ],
   "source": [
    "CollectData = pd.concat([CollectData, dfTofill]) # concatenate the collected data to the CollectData data frame\n",
    "display(CollectData) # display results"
   ]
  },
  {
   "cell_type": "markdown",
   "id": "continuous-inventory",
   "metadata": {},
   "source": [
    "# **Iterate data collection process for third row of data**"
   ]
  },
  {
   "cell_type": "markdown",
   "id": "sitting-faculty",
   "metadata": {},
   "source": [
    "**Review the third row of the test dataset**"
   ]
  },
  {
   "cell_type": "code",
   "execution_count": 37,
   "id": "blond-samoa",
   "metadata": {
    "scrolled": true
   },
   "outputs": [
    {
     "data": {
      "text/html": [
       "<div>\n",
       "<style scoped>\n",
       "    .dataframe tbody tr th:only-of-type {\n",
       "        vertical-align: middle;\n",
       "    }\n",
       "\n",
       "    .dataframe tbody tr th {\n",
       "        vertical-align: top;\n",
       "    }\n",
       "\n",
       "    .dataframe thead th {\n",
       "        text-align: right;\n",
       "    }\n",
       "</style>\n",
       "<table border=\"1\" class=\"dataframe\">\n",
       "  <thead>\n",
       "    <tr style=\"text-align: right;\">\n",
       "      <th></th>\n",
       "      <th>index</th>\n",
       "      <th>org_code</th>\n",
       "      <th>period</th>\n",
       "      <th>admissions</th>\n",
       "    </tr>\n",
       "  </thead>\n",
       "  <tbody>\n",
       "    <tr>\n",
       "      <th>0</th>\n",
       "      <td>2826</td>\n",
       "      <td>RGT</td>\n",
       "      <td>2016-07-01</td>\n",
       "      <td>3123</td>\n",
       "    </tr>\n",
       "    <tr>\n",
       "      <th>1</th>\n",
       "      <td>2865</td>\n",
       "      <td>RM1</td>\n",
       "      <td>2016-07-01</td>\n",
       "      <td>2891</td>\n",
       "    </tr>\n",
       "    <tr>\n",
       "      <th>2</th>\n",
       "      <td>3941</td>\n",
       "      <td>RRK</td>\n",
       "      <td>2016-04-01</td>\n",
       "      <td>2744</td>\n",
       "    </tr>\n",
       "  </tbody>\n",
       "</table>\n",
       "</div>"
      ],
      "text/plain": [
       "   index org_code      period  admissions\n",
       "0   2826      RGT  2016-07-01        3123\n",
       "1   2865      RM1  2016-07-01        2891\n",
       "2   3941      RRK  2016-04-01        2744"
      ]
     },
     "execution_count": 37,
     "metadata": {},
     "output_type": "execute_result"
    }
   ],
   "source": [
    "testData.head(n=3) #use the head() function in Python to review the third row of the dataset with n=3"
   ]
  },
  {
   "cell_type": "markdown",
   "id": "imported-arlington",
   "metadata": {},
   "source": [
    "**Index variable for third row**"
   ]
  },
  {
   "cell_type": "code",
   "execution_count": 38,
   "id": "objective-truck",
   "metadata": {
    "scrolled": true
   },
   "outputs": [
    {
     "data": {
      "text/html": [
       "<div>\n",
       "<style scoped>\n",
       "    .dataframe tbody tr th:only-of-type {\n",
       "        vertical-align: middle;\n",
       "    }\n",
       "\n",
       "    .dataframe tbody tr th {\n",
       "        vertical-align: top;\n",
       "    }\n",
       "\n",
       "    .dataframe thead th {\n",
       "        text-align: right;\n",
       "    }\n",
       "</style>\n",
       "<table border=\"1\" class=\"dataframe\">\n",
       "  <thead>\n",
       "    <tr style=\"text-align: right;\">\n",
       "      <th></th>\n",
       "      <th>index</th>\n",
       "      <th>org_code</th>\n",
       "      <th>period</th>\n",
       "      <th>admissions</th>\n",
       "      <th>consent</th>\n",
       "    </tr>\n",
       "  </thead>\n",
       "  <tbody>\n",
       "    <tr>\n",
       "      <th>0</th>\n",
       "      <td>3941</td>\n",
       "      <td>RM1</td>\n",
       "      <td>2016-07-01</td>\n",
       "      <td>2891</td>\n",
       "      <td>True</td>\n",
       "    </tr>\n",
       "  </tbody>\n",
       "</table>\n",
       "</div>"
      ],
      "text/plain": [
       "   index org_code      period  admissions  consent\n",
       "0   3941      RM1  2016-07-01        2891     True"
      ]
     },
     "execution_count": 38,
     "metadata": {},
     "output_type": "execute_result"
    }
   ],
   "source": [
    "index_number=3941 #Index number for third record.\n",
    "dfTofill.iloc[0,0]=index_number # adding index number to 'dfTofill' file\n",
    "dfTofill #print dfTofill file with index number added"
   ]
  },
  {
   "cell_type": "markdown",
   "id": "approved-andrews",
   "metadata": {},
   "source": [
    "**Consent using the checkbox widget to display boolean datatype - True or False**"
   ]
  },
  {
   "cell_type": "code",
   "execution_count": 39,
   "id": "remarkable-material",
   "metadata": {},
   "outputs": [
    {
     "data": {
      "application/vnd.jupyter.widget-view+json": {
       "model_id": "8ec32ab14b4a4f258ddc26f88569d92a",
       "version_major": 2,
       "version_minor": 0
      },
      "text/plain": [
       "Checkbox(value=False, description='I consent for the data provided to be processed and shared')"
      ]
     },
     "metadata": {},
     "output_type": "display_data"
    }
   ],
   "source": [
    "a2 = widgets.Checkbox(value=False, \n",
    "description='I consent for the data provided to be processed and shared',\n",
    "disabled=False) # use the checkbox widget and store as the object 'a2'\n",
    "\n",
    "display(a2) # use the display function to display the widget object\n",
    "# mark the checkbox to give consent"
   ]
  },
  {
   "cell_type": "code",
   "execution_count": 40,
   "id": "fifteen-injury",
   "metadata": {},
   "outputs": [
    {
     "data": {
      "text/html": [
       "<div>\n",
       "<style scoped>\n",
       "    .dataframe tbody tr th:only-of-type {\n",
       "        vertical-align: middle;\n",
       "    }\n",
       "\n",
       "    .dataframe tbody tr th {\n",
       "        vertical-align: top;\n",
       "    }\n",
       "\n",
       "    .dataframe thead th {\n",
       "        text-align: right;\n",
       "    }\n",
       "</style>\n",
       "<table border=\"1\" class=\"dataframe\">\n",
       "  <thead>\n",
       "    <tr style=\"text-align: right;\">\n",
       "      <th></th>\n",
       "      <th>index</th>\n",
       "      <th>org_code</th>\n",
       "      <th>period</th>\n",
       "      <th>admissions</th>\n",
       "      <th>consent</th>\n",
       "    </tr>\n",
       "  </thead>\n",
       "  <tbody>\n",
       "    <tr>\n",
       "      <th>0</th>\n",
       "      <td>3941</td>\n",
       "      <td>RM1</td>\n",
       "      <td>2016-07-01</td>\n",
       "      <td>2891</td>\n",
       "      <td>True</td>\n",
       "    </tr>\n",
       "  </tbody>\n",
       "</table>\n",
       "</div>"
      ],
      "text/plain": [
       "   index org_code      period  admissions  consent\n",
       "0   3941      RM1  2016-07-01        2891     True"
      ]
     },
     "execution_count": 40,
     "metadata": {},
     "output_type": "execute_result"
    }
   ],
   "source": [
    "dfTofill.iloc[0,4]=a2.value # Using indexing to add the index number to the 'dfTofill' file for consent variable\n",
    "dfTofill # print dfTofill file with consent variable equal True"
   ]
  },
  {
   "cell_type": "markdown",
   "id": "phantom-effort",
   "metadata": {},
   "source": [
    "**Setup a DatePicker widget to collect period data for third row**"
   ]
  },
  {
   "cell_type": "code",
   "execution_count": 41,
   "id": "shared-wages",
   "metadata": {},
   "outputs": [
    {
     "data": {
      "application/vnd.jupyter.widget-view+json": {
       "model_id": "8b8974038ddb479db1c9b7bd352b3677",
       "version_major": 2,
       "version_minor": 0
      },
      "text/plain": [
       "DatePicker(value=None, description='Period')"
      ]
     },
     "metadata": {},
     "output_type": "display_data"
    }
   ],
   "source": [
    "b2 = widgets.DatePicker(\n",
    "description='Period',\n",
    "disabled=False\n",
    ") # use the DatePicker widget and store as the object 'b1'\n",
    "\n",
    "\n",
    "display(b2) # use the display function to display the DatePicker widget object\n",
    "\n",
    "#Select \"2016-04-01\" as date for third row"
   ]
  },
  {
   "cell_type": "code",
   "execution_count": 42,
   "id": "genetic-warren",
   "metadata": {},
   "outputs": [
    {
     "data": {
      "text/html": [
       "<div>\n",
       "<style scoped>\n",
       "    .dataframe tbody tr th:only-of-type {\n",
       "        vertical-align: middle;\n",
       "    }\n",
       "\n",
       "    .dataframe tbody tr th {\n",
       "        vertical-align: top;\n",
       "    }\n",
       "\n",
       "    .dataframe thead th {\n",
       "        text-align: right;\n",
       "    }\n",
       "</style>\n",
       "<table border=\"1\" class=\"dataframe\">\n",
       "  <thead>\n",
       "    <tr style=\"text-align: right;\">\n",
       "      <th></th>\n",
       "      <th>index</th>\n",
       "      <th>org_code</th>\n",
       "      <th>period</th>\n",
       "      <th>admissions</th>\n",
       "      <th>consent</th>\n",
       "    </tr>\n",
       "  </thead>\n",
       "  <tbody>\n",
       "    <tr>\n",
       "      <th>0</th>\n",
       "      <td>3941</td>\n",
       "      <td>RM1</td>\n",
       "      <td>2016-04-01</td>\n",
       "      <td>2891</td>\n",
       "      <td>True</td>\n",
       "    </tr>\n",
       "  </tbody>\n",
       "</table>\n",
       "</div>"
      ],
      "text/plain": [
       "   index org_code      period  admissions  consent\n",
       "0   3941      RM1  2016-04-01        2891     True"
      ]
     },
     "execution_count": 42,
     "metadata": {},
     "output_type": "execute_result"
    }
   ],
   "source": [
    "dfTofill.iloc[0,2]=b2.value # Using indexing to add the index number to the 'dfTofill' file for period variable\n",
    "dfTofill # print dfTofill file with period value added"
   ]
  },
  {
   "cell_type": "markdown",
   "id": "hollow-arabic",
   "metadata": {},
   "source": [
    "**Use selection widgets to display single selection lists for row 3 for org_code variable.**"
   ]
  },
  {
   "cell_type": "code",
   "execution_count": 43,
   "id": "continuous-spokesman",
   "metadata": {},
   "outputs": [
    {
     "data": {
      "application/vnd.jupyter.widget-view+json": {
       "model_id": "b47cc5bb43944a6bbebb81b729974ab6",
       "version_major": 2,
       "version_minor": 0
      },
      "text/plain": [
       "Select(description='ODS code:', index=2, options=('RGT', 'RM1', 'RRK', 'RJN', 'RNZ', 'RQ3', 'RBL', 'R1K', 'RPA…"
      ]
     },
     "metadata": {},
     "output_type": "display_data"
    }
   ],
   "source": [
    "c2=widgets.Select(\n",
    "    options=org_code,\n",
    "    value='RRK',\n",
    "    rows=len(org_code),\n",
    "    description='ODS code:',\n",
    "    disabled=False\n",
    ") # use the Select widget and store as the object 'c1'\n",
    "\n",
    "display(c2) # use the display function to display the DatePicker widget object\n",
    "\n",
    "# Select third code"
   ]
  },
  {
   "cell_type": "code",
   "execution_count": 44,
   "id": "unable-hudson",
   "metadata": {},
   "outputs": [
    {
     "data": {
      "text/html": [
       "<div>\n",
       "<style scoped>\n",
       "    .dataframe tbody tr th:only-of-type {\n",
       "        vertical-align: middle;\n",
       "    }\n",
       "\n",
       "    .dataframe tbody tr th {\n",
       "        vertical-align: top;\n",
       "    }\n",
       "\n",
       "    .dataframe thead th {\n",
       "        text-align: right;\n",
       "    }\n",
       "</style>\n",
       "<table border=\"1\" class=\"dataframe\">\n",
       "  <thead>\n",
       "    <tr style=\"text-align: right;\">\n",
       "      <th></th>\n",
       "      <th>index</th>\n",
       "      <th>org_code</th>\n",
       "      <th>period</th>\n",
       "      <th>admissions</th>\n",
       "      <th>consent</th>\n",
       "    </tr>\n",
       "  </thead>\n",
       "  <tbody>\n",
       "    <tr>\n",
       "      <th>0</th>\n",
       "      <td>3941</td>\n",
       "      <td>RRK</td>\n",
       "      <td>2016-04-01</td>\n",
       "      <td>2891</td>\n",
       "      <td>True</td>\n",
       "    </tr>\n",
       "  </tbody>\n",
       "</table>\n",
       "</div>"
      ],
      "text/plain": [
       "   index org_code      period  admissions  consent\n",
       "0   3941      RRK  2016-04-01        2891     True"
      ]
     },
     "execution_count": 44,
     "metadata": {},
     "output_type": "execute_result"
    }
   ],
   "source": [
    "dfTofill.iloc[0,1]=c2.value # Using indexing to add the index number to row3 'dfTofill' file for 'org_code' variable\n",
    "dfTofill # print dfTofill file row3 with 'org_code' value added"
   ]
  },
  {
   "cell_type": "markdown",
   "id": "established-little",
   "metadata": {},
   "source": [
    "**Use IntText' widget to collect index value for admissions for third row.**"
   ]
  },
  {
   "cell_type": "code",
   "execution_count": 45,
   "id": "colored-contamination",
   "metadata": {},
   "outputs": [
    {
     "data": {
      "application/vnd.jupyter.widget-view+json": {
       "model_id": "0de4b7c4e6da4a1a86314cd8755276e1",
       "version_major": 2,
       "version_minor": 0
      },
      "text/plain": [
       "IntText(value=0, description='Admissions:')"
      ]
     },
     "metadata": {},
     "output_type": "display_data"
    }
   ],
   "source": [
    "d2=widgets.IntText(\n",
    "    value=0,\n",
    "    description='Admissions:',\n",
    "    disabled=False) # use the integer widget and store as the object 'd1'\n",
    "\n",
    "display(d2) # use the display function to display the integer widget object\n",
    "\n",
    "#select 2744 as value for admissions from the third row"
   ]
  },
  {
   "cell_type": "code",
   "execution_count": 46,
   "id": "assisted-bennett",
   "metadata": {},
   "outputs": [
    {
     "data": {
      "text/html": [
       "<div>\n",
       "<style scoped>\n",
       "    .dataframe tbody tr th:only-of-type {\n",
       "        vertical-align: middle;\n",
       "    }\n",
       "\n",
       "    .dataframe tbody tr th {\n",
       "        vertical-align: top;\n",
       "    }\n",
       "\n",
       "    .dataframe thead th {\n",
       "        text-align: right;\n",
       "    }\n",
       "</style>\n",
       "<table border=\"1\" class=\"dataframe\">\n",
       "  <thead>\n",
       "    <tr style=\"text-align: right;\">\n",
       "      <th></th>\n",
       "      <th>index</th>\n",
       "      <th>org_code</th>\n",
       "      <th>period</th>\n",
       "      <th>admissions</th>\n",
       "      <th>consent</th>\n",
       "    </tr>\n",
       "  </thead>\n",
       "  <tbody>\n",
       "    <tr>\n",
       "      <th>0</th>\n",
       "      <td>3941</td>\n",
       "      <td>RRK</td>\n",
       "      <td>2016-04-01</td>\n",
       "      <td>2744</td>\n",
       "      <td>True</td>\n",
       "    </tr>\n",
       "  </tbody>\n",
       "</table>\n",
       "</div>"
      ],
      "text/plain": [
       "   index org_code      period  admissions  consent\n",
       "0   3941      RRK  2016-04-01        2744     True"
      ]
     },
     "execution_count": 46,
     "metadata": {},
     "output_type": "execute_result"
    }
   ],
   "source": [
    "dfTofill.iloc[0,3]=d2.value # Using indexing to add the index number to the 'dfTofill' file for 'admissions' variable\n",
    "dfTofill # print dfTofill file with 'admissions' value added"
   ]
  },
  {
   "cell_type": "markdown",
   "id": "effective-corpus",
   "metadata": {},
   "source": [
    "**Concatenate third row of data to the CollectData data frame.**"
   ]
  },
  {
   "cell_type": "code",
   "execution_count": 47,
   "id": "political-carpet",
   "metadata": {},
   "outputs": [
    {
     "data": {
      "text/html": [
       "<div>\n",
       "<style scoped>\n",
       "    .dataframe tbody tr th:only-of-type {\n",
       "        vertical-align: middle;\n",
       "    }\n",
       "\n",
       "    .dataframe tbody tr th {\n",
       "        vertical-align: top;\n",
       "    }\n",
       "\n",
       "    .dataframe thead th {\n",
       "        text-align: right;\n",
       "    }\n",
       "</style>\n",
       "<table border=\"1\" class=\"dataframe\">\n",
       "  <thead>\n",
       "    <tr style=\"text-align: right;\">\n",
       "      <th></th>\n",
       "      <th>index</th>\n",
       "      <th>org_code</th>\n",
       "      <th>period</th>\n",
       "      <th>admissions</th>\n",
       "      <th>consent</th>\n",
       "    </tr>\n",
       "  </thead>\n",
       "  <tbody>\n",
       "    <tr>\n",
       "      <th>0</th>\n",
       "      <td>2826</td>\n",
       "      <td>RGT</td>\n",
       "      <td>2016-07-01</td>\n",
       "      <td>3123</td>\n",
       "      <td>True</td>\n",
       "    </tr>\n",
       "    <tr>\n",
       "      <th>0</th>\n",
       "      <td>2865</td>\n",
       "      <td>RM1</td>\n",
       "      <td>2016-07-01</td>\n",
       "      <td>2891</td>\n",
       "      <td>True</td>\n",
       "    </tr>\n",
       "    <tr>\n",
       "      <th>0</th>\n",
       "      <td>3941</td>\n",
       "      <td>RRK</td>\n",
       "      <td>2016-04-01</td>\n",
       "      <td>2744</td>\n",
       "      <td>True</td>\n",
       "    </tr>\n",
       "  </tbody>\n",
       "</table>\n",
       "</div>"
      ],
      "text/plain": [
       "   index org_code      period  admissions  consent\n",
       "0   2826      RGT  2016-07-01        3123     True\n",
       "0   2865      RM1  2016-07-01        2891     True\n",
       "0   3941      RRK  2016-04-01        2744     True"
      ]
     },
     "metadata": {},
     "output_type": "display_data"
    }
   ],
   "source": [
    "CollectData = pd.concat([CollectData, dfTofill]) # concatenate the collected data to the CollectData data frame\n",
    "display(CollectData) # display results"
   ]
  },
  {
   "cell_type": "markdown",
   "id": "spoken-property",
   "metadata": {},
   "source": [
    "# **Iterate data collection process for fourth row of data**"
   ]
  },
  {
   "cell_type": "code",
   "execution_count": 48,
   "id": "constitutional-marketing",
   "metadata": {
    "scrolled": true
   },
   "outputs": [
    {
     "data": {
      "text/html": [
       "<div>\n",
       "<style scoped>\n",
       "    .dataframe tbody tr th:only-of-type {\n",
       "        vertical-align: middle;\n",
       "    }\n",
       "\n",
       "    .dataframe tbody tr th {\n",
       "        vertical-align: top;\n",
       "    }\n",
       "\n",
       "    .dataframe thead th {\n",
       "        text-align: right;\n",
       "    }\n",
       "</style>\n",
       "<table border=\"1\" class=\"dataframe\">\n",
       "  <thead>\n",
       "    <tr style=\"text-align: right;\">\n",
       "      <th></th>\n",
       "      <th>index</th>\n",
       "      <th>org_code</th>\n",
       "      <th>period</th>\n",
       "      <th>admissions</th>\n",
       "    </tr>\n",
       "  </thead>\n",
       "  <tbody>\n",
       "    <tr>\n",
       "      <th>0</th>\n",
       "      <td>2826</td>\n",
       "      <td>RGT</td>\n",
       "      <td>2016-07-01</td>\n",
       "      <td>3123</td>\n",
       "    </tr>\n",
       "    <tr>\n",
       "      <th>1</th>\n",
       "      <td>2865</td>\n",
       "      <td>RM1</td>\n",
       "      <td>2016-07-01</td>\n",
       "      <td>2891</td>\n",
       "    </tr>\n",
       "    <tr>\n",
       "      <th>2</th>\n",
       "      <td>3941</td>\n",
       "      <td>RRK</td>\n",
       "      <td>2016-04-01</td>\n",
       "      <td>2744</td>\n",
       "    </tr>\n",
       "    <tr>\n",
       "      <th>3</th>\n",
       "      <td>5431</td>\n",
       "      <td>RJN</td>\n",
       "      <td>2017-12-01</td>\n",
       "      <td>971</td>\n",
       "    </tr>\n",
       "  </tbody>\n",
       "</table>\n",
       "</div>"
      ],
      "text/plain": [
       "   index org_code      period  admissions\n",
       "0   2826      RGT  2016-07-01        3123\n",
       "1   2865      RM1  2016-07-01        2891\n",
       "2   3941      RRK  2016-04-01        2744\n",
       "3   5431      RJN  2017-12-01         971"
      ]
     },
     "execution_count": 48,
     "metadata": {},
     "output_type": "execute_result"
    }
   ],
   "source": [
    "testData.head(n=4) #use the head() function in Python to review the fourth row of the dataset with n=4"
   ]
  },
  {
   "cell_type": "code",
   "execution_count": 49,
   "id": "enhanced-parameter",
   "metadata": {},
   "outputs": [
    {
     "data": {
      "text/html": [
       "<div>\n",
       "<style scoped>\n",
       "    .dataframe tbody tr th:only-of-type {\n",
       "        vertical-align: middle;\n",
       "    }\n",
       "\n",
       "    .dataframe tbody tr th {\n",
       "        vertical-align: top;\n",
       "    }\n",
       "\n",
       "    .dataframe thead th {\n",
       "        text-align: right;\n",
       "    }\n",
       "</style>\n",
       "<table border=\"1\" class=\"dataframe\">\n",
       "  <thead>\n",
       "    <tr style=\"text-align: right;\">\n",
       "      <th></th>\n",
       "      <th>index</th>\n",
       "      <th>org_code</th>\n",
       "      <th>period</th>\n",
       "      <th>admissions</th>\n",
       "      <th>consent</th>\n",
       "    </tr>\n",
       "  </thead>\n",
       "  <tbody>\n",
       "    <tr>\n",
       "      <th>0</th>\n",
       "      <td>5431</td>\n",
       "      <td>RRK</td>\n",
       "      <td>2016-04-01</td>\n",
       "      <td>2744</td>\n",
       "      <td>True</td>\n",
       "    </tr>\n",
       "  </tbody>\n",
       "</table>\n",
       "</div>"
      ],
      "text/plain": [
       "   index org_code      period  admissions  consent\n",
       "0   5431      RRK  2016-04-01        2744     True"
      ]
     },
     "execution_count": 49,
     "metadata": {},
     "output_type": "execute_result"
    }
   ],
   "source": [
    "index_number=5431 #Index number for fourth record.\n",
    "dfTofill.iloc[0,0]=index_number # adding index number to 'dfTofill' file\n",
    "dfTofill #print dfTofill file with index number added"
   ]
  },
  {
   "cell_type": "code",
   "execution_count": 50,
   "id": "minute-karma",
   "metadata": {},
   "outputs": [
    {
     "data": {
      "application/vnd.jupyter.widget-view+json": {
       "model_id": "bf63914c9cc242e3870a8fd7a53505ba",
       "version_major": 2,
       "version_minor": 0
      },
      "text/plain": [
       "Checkbox(value=False, description='I consent for the data provided to be processed and shared')"
      ]
     },
     "metadata": {},
     "output_type": "display_data"
    }
   ],
   "source": [
    "#setup consent using checkbox widget for the fourth row\n",
    "a3 = widgets.Checkbox(value=False, \n",
    "description='I consent for the data provided to be processed and shared',\n",
    "disabled=False) # use the checkbox widget and store as the object 'a3'\n",
    "\n",
    "display(a3) # use the display function to display the widget object\n",
    "# mark the checkbox to give consent"
   ]
  },
  {
   "cell_type": "code",
   "execution_count": 51,
   "id": "entitled-concern",
   "metadata": {},
   "outputs": [
    {
     "data": {
      "text/html": [
       "<div>\n",
       "<style scoped>\n",
       "    .dataframe tbody tr th:only-of-type {\n",
       "        vertical-align: middle;\n",
       "    }\n",
       "\n",
       "    .dataframe tbody tr th {\n",
       "        vertical-align: top;\n",
       "    }\n",
       "\n",
       "    .dataframe thead th {\n",
       "        text-align: right;\n",
       "    }\n",
       "</style>\n",
       "<table border=\"1\" class=\"dataframe\">\n",
       "  <thead>\n",
       "    <tr style=\"text-align: right;\">\n",
       "      <th></th>\n",
       "      <th>index</th>\n",
       "      <th>org_code</th>\n",
       "      <th>period</th>\n",
       "      <th>admissions</th>\n",
       "      <th>consent</th>\n",
       "    </tr>\n",
       "  </thead>\n",
       "  <tbody>\n",
       "    <tr>\n",
       "      <th>0</th>\n",
       "      <td>5431</td>\n",
       "      <td>RRK</td>\n",
       "      <td>2016-04-01</td>\n",
       "      <td>2744</td>\n",
       "      <td>True</td>\n",
       "    </tr>\n",
       "  </tbody>\n",
       "</table>\n",
       "</div>"
      ],
      "text/plain": [
       "   index org_code      period  admissions  consent\n",
       "0   5431      RRK  2016-04-01        2744     True"
      ]
     },
     "execution_count": 51,
     "metadata": {},
     "output_type": "execute_result"
    }
   ],
   "source": [
    "dfTofill.iloc[0,4]=a2.value # Using indexing to add the index number to the 'dfTofill' file for consent variable\n",
    "dfTofill # print dfTofill file with consent variable equal True"
   ]
  },
  {
   "cell_type": "code",
   "execution_count": 52,
   "id": "coupled-preliminary",
   "metadata": {},
   "outputs": [
    {
     "data": {
      "application/vnd.jupyter.widget-view+json": {
       "model_id": "6ab4e221c1814020ae46fe41b59ba3a3",
       "version_major": 2,
       "version_minor": 0
      },
      "text/plain": [
       "DatePicker(value=None, description='Period')"
      ]
     },
     "metadata": {},
     "output_type": "display_data"
    }
   ],
   "source": [
    "#Setup a DatePicker widget to collect period data for the fourth row\n",
    "\n",
    "b3 = widgets.DatePicker(\n",
    "description='Period',\n",
    "disabled=False\n",
    ") # use the DatePicker widget and store as the object 'b3'\n",
    "\n",
    "\n",
    "display(b3) # use the display function to display the DatePicker widget object\n",
    "\n",
    "#Select \"2017-12-01\" as date for fourth row"
   ]
  },
  {
   "cell_type": "code",
   "execution_count": 53,
   "id": "virgin-milan",
   "metadata": {},
   "outputs": [
    {
     "data": {
      "text/html": [
       "<div>\n",
       "<style scoped>\n",
       "    .dataframe tbody tr th:only-of-type {\n",
       "        vertical-align: middle;\n",
       "    }\n",
       "\n",
       "    .dataframe tbody tr th {\n",
       "        vertical-align: top;\n",
       "    }\n",
       "\n",
       "    .dataframe thead th {\n",
       "        text-align: right;\n",
       "    }\n",
       "</style>\n",
       "<table border=\"1\" class=\"dataframe\">\n",
       "  <thead>\n",
       "    <tr style=\"text-align: right;\">\n",
       "      <th></th>\n",
       "      <th>index</th>\n",
       "      <th>org_code</th>\n",
       "      <th>period</th>\n",
       "      <th>admissions</th>\n",
       "      <th>consent</th>\n",
       "    </tr>\n",
       "  </thead>\n",
       "  <tbody>\n",
       "    <tr>\n",
       "      <th>0</th>\n",
       "      <td>5431</td>\n",
       "      <td>RRK</td>\n",
       "      <td>2017-12-01</td>\n",
       "      <td>2744</td>\n",
       "      <td>True</td>\n",
       "    </tr>\n",
       "  </tbody>\n",
       "</table>\n",
       "</div>"
      ],
      "text/plain": [
       "   index org_code      period  admissions  consent\n",
       "0   5431      RRK  2017-12-01        2744     True"
      ]
     },
     "execution_count": 53,
     "metadata": {},
     "output_type": "execute_result"
    }
   ],
   "source": [
    "dfTofill.iloc[0,2]=b3.value # Using indexing to add the index number to the 'dfTofill' file for period variable\n",
    "dfTofill # print dfTofill file with period value added"
   ]
  },
  {
   "cell_type": "code",
   "execution_count": 54,
   "id": "national-latitude",
   "metadata": {},
   "outputs": [
    {
     "data": {
      "application/vnd.jupyter.widget-view+json": {
       "model_id": "1c15671ee6944b9ca2a32fec82d0ebeb",
       "version_major": 2,
       "version_minor": 0
      },
      "text/plain": [
       "Select(description='ODS code:', index=3, options=('RGT', 'RM1', 'RRK', 'RJN', 'RNZ', 'RQ3', 'RBL', 'R1K', 'RPA…"
      ]
     },
     "metadata": {},
     "output_type": "display_data"
    }
   ],
   "source": [
    "#Use selection widgets to display single selection lists for row 4 for org_code variable.\n",
    "c3=widgets.Select(\n",
    "    options=org_code,\n",
    "    value='RJN',\n",
    "    rows=len(org_code),\n",
    "    description='ODS code:',\n",
    "    disabled=False\n",
    ") # use the Select widget and store as the object 'c3'\n",
    "\n",
    "display(c3) # use the display function to display the DatePicker widget object\n",
    "\n",
    "# Select fourth code"
   ]
  },
  {
   "cell_type": "code",
   "execution_count": 55,
   "id": "beautiful-scratch",
   "metadata": {},
   "outputs": [
    {
     "data": {
      "text/html": [
       "<div>\n",
       "<style scoped>\n",
       "    .dataframe tbody tr th:only-of-type {\n",
       "        vertical-align: middle;\n",
       "    }\n",
       "\n",
       "    .dataframe tbody tr th {\n",
       "        vertical-align: top;\n",
       "    }\n",
       "\n",
       "    .dataframe thead th {\n",
       "        text-align: right;\n",
       "    }\n",
       "</style>\n",
       "<table border=\"1\" class=\"dataframe\">\n",
       "  <thead>\n",
       "    <tr style=\"text-align: right;\">\n",
       "      <th></th>\n",
       "      <th>index</th>\n",
       "      <th>org_code</th>\n",
       "      <th>period</th>\n",
       "      <th>admissions</th>\n",
       "      <th>consent</th>\n",
       "    </tr>\n",
       "  </thead>\n",
       "  <tbody>\n",
       "    <tr>\n",
       "      <th>0</th>\n",
       "      <td>5431</td>\n",
       "      <td>RJN</td>\n",
       "      <td>2017-12-01</td>\n",
       "      <td>2744</td>\n",
       "      <td>True</td>\n",
       "    </tr>\n",
       "  </tbody>\n",
       "</table>\n",
       "</div>"
      ],
      "text/plain": [
       "   index org_code      period  admissions  consent\n",
       "0   5431      RJN  2017-12-01        2744     True"
      ]
     },
     "execution_count": 55,
     "metadata": {},
     "output_type": "execute_result"
    }
   ],
   "source": [
    "dfTofill.iloc[0,1]=c3.value # Using indexing to add the index number to row4 'dfTofill' file for 'org_code' variable\n",
    "dfTofill # print dfTofill file row4 with 'org_code' value added"
   ]
  },
  {
   "cell_type": "code",
   "execution_count": 56,
   "id": "increased-riding",
   "metadata": {},
   "outputs": [
    {
     "data": {
      "application/vnd.jupyter.widget-view+json": {
       "model_id": "c29f65d1739a4331913b1f858db07510",
       "version_major": 2,
       "version_minor": 0
      },
      "text/plain": [
       "IntText(value=0, description='Admissions:')"
      ]
     },
     "metadata": {},
     "output_type": "display_data"
    }
   ],
   "source": [
    "#Use IntText' widget to collect index value for admissions for fourth row.\n",
    "\n",
    "d3=widgets.IntText(\n",
    "    value=0,\n",
    "    description='Admissions:',\n",
    "    disabled=False) # use the integer widget and store as the object 'd3'\n",
    "\n",
    "display(d3) # use the display function to display the integer widget object\n",
    "\n",
    "#select 971 as value for admissions from the fourth row"
   ]
  },
  {
   "cell_type": "code",
   "execution_count": 57,
   "id": "acquired-detector",
   "metadata": {},
   "outputs": [
    {
     "data": {
      "text/html": [
       "<div>\n",
       "<style scoped>\n",
       "    .dataframe tbody tr th:only-of-type {\n",
       "        vertical-align: middle;\n",
       "    }\n",
       "\n",
       "    .dataframe tbody tr th {\n",
       "        vertical-align: top;\n",
       "    }\n",
       "\n",
       "    .dataframe thead th {\n",
       "        text-align: right;\n",
       "    }\n",
       "</style>\n",
       "<table border=\"1\" class=\"dataframe\">\n",
       "  <thead>\n",
       "    <tr style=\"text-align: right;\">\n",
       "      <th></th>\n",
       "      <th>index</th>\n",
       "      <th>org_code</th>\n",
       "      <th>period</th>\n",
       "      <th>admissions</th>\n",
       "      <th>consent</th>\n",
       "    </tr>\n",
       "  </thead>\n",
       "  <tbody>\n",
       "    <tr>\n",
       "      <th>0</th>\n",
       "      <td>2826</td>\n",
       "      <td>RGT</td>\n",
       "      <td>2016-07-01</td>\n",
       "      <td>3123</td>\n",
       "      <td>True</td>\n",
       "    </tr>\n",
       "    <tr>\n",
       "      <th>0</th>\n",
       "      <td>2865</td>\n",
       "      <td>RM1</td>\n",
       "      <td>2016-07-01</td>\n",
       "      <td>2891</td>\n",
       "      <td>True</td>\n",
       "    </tr>\n",
       "    <tr>\n",
       "      <th>0</th>\n",
       "      <td>3941</td>\n",
       "      <td>RRK</td>\n",
       "      <td>2016-04-01</td>\n",
       "      <td>2744</td>\n",
       "      <td>True</td>\n",
       "    </tr>\n",
       "    <tr>\n",
       "      <th>0</th>\n",
       "      <td>5431</td>\n",
       "      <td>RJN</td>\n",
       "      <td>2017-12-01</td>\n",
       "      <td>971</td>\n",
       "      <td>True</td>\n",
       "    </tr>\n",
       "  </tbody>\n",
       "</table>\n",
       "</div>"
      ],
      "text/plain": [
       "   index org_code      period  admissions  consent\n",
       "0   2826      RGT  2016-07-01        3123     True\n",
       "0   2865      RM1  2016-07-01        2891     True\n",
       "0   3941      RRK  2016-04-01        2744     True\n",
       "0   5431      RJN  2017-12-01         971     True"
      ]
     },
     "metadata": {},
     "output_type": "display_data"
    }
   ],
   "source": [
    "dfTofill.iloc[0,3]=d3.value # Using indexing to add the index number to the 'dfTofill' file for 'admissions' variable\n",
    "dfTofill # print dfTofill file with 'admissions' value added\n",
    "\n",
    "#Concatenate fourth row of data to the CollectData data frame.\n",
    "CollectData = pd.concat([CollectData, dfTofill]) # concatenate the collected data to the CollectData data frame\n",
    "display(CollectData) # display results"
   ]
  },
  {
   "cell_type": "markdown",
   "id": "worldwide-ratio",
   "metadata": {},
   "source": [
    "# **Iterate data collection process for fifth row of data**"
   ]
  },
  {
   "cell_type": "code",
   "execution_count": 58,
   "id": "guilty-zoning",
   "metadata": {
    "scrolled": true
   },
   "outputs": [
    {
     "data": {
      "text/html": [
       "<div>\n",
       "<style scoped>\n",
       "    .dataframe tbody tr th:only-of-type {\n",
       "        vertical-align: middle;\n",
       "    }\n",
       "\n",
       "    .dataframe tbody tr th {\n",
       "        vertical-align: top;\n",
       "    }\n",
       "\n",
       "    .dataframe thead th {\n",
       "        text-align: right;\n",
       "    }\n",
       "</style>\n",
       "<table border=\"1\" class=\"dataframe\">\n",
       "  <thead>\n",
       "    <tr style=\"text-align: right;\">\n",
       "      <th></th>\n",
       "      <th>index</th>\n",
       "      <th>org_code</th>\n",
       "      <th>period</th>\n",
       "      <th>admissions</th>\n",
       "    </tr>\n",
       "  </thead>\n",
       "  <tbody>\n",
       "    <tr>\n",
       "      <th>0</th>\n",
       "      <td>2826</td>\n",
       "      <td>RGT</td>\n",
       "      <td>2016-07-01</td>\n",
       "      <td>3123</td>\n",
       "    </tr>\n",
       "    <tr>\n",
       "      <th>1</th>\n",
       "      <td>2865</td>\n",
       "      <td>RM1</td>\n",
       "      <td>2016-07-01</td>\n",
       "      <td>2891</td>\n",
       "    </tr>\n",
       "    <tr>\n",
       "      <th>2</th>\n",
       "      <td>3941</td>\n",
       "      <td>RRK</td>\n",
       "      <td>2016-04-01</td>\n",
       "      <td>2744</td>\n",
       "    </tr>\n",
       "    <tr>\n",
       "      <th>3</th>\n",
       "      <td>5431</td>\n",
       "      <td>RJN</td>\n",
       "      <td>2017-12-01</td>\n",
       "      <td>971</td>\n",
       "    </tr>\n",
       "    <tr>\n",
       "      <th>4</th>\n",
       "      <td>5940</td>\n",
       "      <td>RNZ</td>\n",
       "      <td>2017-11-01</td>\n",
       "      <td>1131</td>\n",
       "    </tr>\n",
       "  </tbody>\n",
       "</table>\n",
       "</div>"
      ],
      "text/plain": [
       "   index org_code      period  admissions\n",
       "0   2826      RGT  2016-07-01        3123\n",
       "1   2865      RM1  2016-07-01        2891\n",
       "2   3941      RRK  2016-04-01        2744\n",
       "3   5431      RJN  2017-12-01         971\n",
       "4   5940      RNZ  2017-11-01        1131"
      ]
     },
     "execution_count": 58,
     "metadata": {},
     "output_type": "execute_result"
    }
   ],
   "source": [
    "testData.head(n=5) #use the head() function in Python to review the fifth row of the dataset with n=5"
   ]
  },
  {
   "cell_type": "code",
   "execution_count": 59,
   "id": "closing-airfare",
   "metadata": {},
   "outputs": [
    {
     "data": {
      "text/html": [
       "<div>\n",
       "<style scoped>\n",
       "    .dataframe tbody tr th:only-of-type {\n",
       "        vertical-align: middle;\n",
       "    }\n",
       "\n",
       "    .dataframe tbody tr th {\n",
       "        vertical-align: top;\n",
       "    }\n",
       "\n",
       "    .dataframe thead th {\n",
       "        text-align: right;\n",
       "    }\n",
       "</style>\n",
       "<table border=\"1\" class=\"dataframe\">\n",
       "  <thead>\n",
       "    <tr style=\"text-align: right;\">\n",
       "      <th></th>\n",
       "      <th>index</th>\n",
       "      <th>org_code</th>\n",
       "      <th>period</th>\n",
       "      <th>admissions</th>\n",
       "      <th>consent</th>\n",
       "    </tr>\n",
       "  </thead>\n",
       "  <tbody>\n",
       "    <tr>\n",
       "      <th>0</th>\n",
       "      <td>5940</td>\n",
       "      <td>RJN</td>\n",
       "      <td>2017-12-01</td>\n",
       "      <td>971</td>\n",
       "      <td>True</td>\n",
       "    </tr>\n",
       "  </tbody>\n",
       "</table>\n",
       "</div>"
      ],
      "text/plain": [
       "   index org_code      period  admissions  consent\n",
       "0   5940      RJN  2017-12-01         971     True"
      ]
     },
     "execution_count": 59,
     "metadata": {},
     "output_type": "execute_result"
    }
   ],
   "source": [
    "index_number=5940 #Index number for fifth record.\n",
    "dfTofill.iloc[0,0]=index_number # adding index number to 'dfTofill' file\n",
    "dfTofill #print dfTofill file with index number added"
   ]
  },
  {
   "cell_type": "code",
   "execution_count": 60,
   "id": "toxic-bulgaria",
   "metadata": {},
   "outputs": [
    {
     "data": {
      "application/vnd.jupyter.widget-view+json": {
       "model_id": "bd13ec7e0ef843b0abdc1f63fd87dda6",
       "version_major": 2,
       "version_minor": 0
      },
      "text/plain": [
       "Checkbox(value=False, description='I consent for the data provided to be processed and shared')"
      ]
     },
     "metadata": {},
     "output_type": "display_data"
    }
   ],
   "source": [
    "#setup consent using checkbox widget for the fifth row\n",
    "a4 = widgets.Checkbox(value=False, \n",
    "description='I consent for the data provided to be processed and shared',\n",
    "disabled=False) # use the checkbox widget and store as the object 'a4'\n",
    "\n",
    "display(a4) # use the display function to display the widget object\n",
    "# mark the checkbox to give consent"
   ]
  },
  {
   "cell_type": "code",
   "execution_count": 62,
   "id": "vanilla-phoenix",
   "metadata": {},
   "outputs": [
    {
     "data": {
      "application/vnd.jupyter.widget-view+json": {
       "model_id": "776829eb05ff4ccd997bdfe688980adc",
       "version_major": 2,
       "version_minor": 0
      },
      "text/plain": [
       "DatePicker(value=None, description='Period')"
      ]
     },
     "metadata": {},
     "output_type": "display_data"
    }
   ],
   "source": [
    "dfTofill.iloc[0,4]=a4.value # Using indexing to add the index number to the 'dfTofill' file for consent variable\n",
    "dfTofill # print dfTofill file with consent variable equal True\n",
    "\n",
    "#Setup a DatePicker widget to collect period data for the fifth row\n",
    "\n",
    "b4 = widgets.DatePicker(\n",
    "description='Period',\n",
    "disabled=False\n",
    ") # use the DatePicker widget and store as the object 'b4'\n",
    "\n",
    "\n",
    "display(b4) # use the display function to display the DatePicker widget object\n",
    "\n",
    "#Select \"2017-11-01\" as date for fifth row"
   ]
  },
  {
   "cell_type": "code",
   "execution_count": 64,
   "id": "aggressive-conducting",
   "metadata": {},
   "outputs": [
    {
     "data": {
      "application/vnd.jupyter.widget-view+json": {
       "model_id": "eb44297f5383453fa75fa5b1fb09e5bb",
       "version_major": 2,
       "version_minor": 0
      },
      "text/plain": [
       "Select(description='ODS code:', index=4, options=('RGT', 'RM1', 'RRK', 'RJN', 'RNZ', 'RQ3', 'RBL', 'R1K', 'RPA…"
      ]
     },
     "metadata": {},
     "output_type": "display_data"
    }
   ],
   "source": [
    "dfTofill.iloc[0,2]=b4.value # Using indexing to add the index number to the 'dfTofill' file for period variable\n",
    "dfTofill # print dfTofill file with period value added\n",
    "\n",
    "\n",
    "#Use selection widgets to display single selection lists for row 5 for org_code variable.\n",
    "c4=widgets.Select(\n",
    "    options=org_code,\n",
    "    value='RNZ',\n",
    "    rows=len(org_code),\n",
    "    description='ODS code:',\n",
    "    disabled=False\n",
    ") # use the Select widget and store as the object 'c4'\n",
    "\n",
    "display(c4) # use the display function to display the DatePicker widget object\n",
    "\n",
    "# Select fifith code"
   ]
  },
  {
   "cell_type": "code",
   "execution_count": 65,
   "id": "focused-feeding",
   "metadata": {},
   "outputs": [
    {
     "data": {
      "application/vnd.jupyter.widget-view+json": {
       "model_id": "67eaac82d9724a38a2501a4adb72bae9",
       "version_major": 2,
       "version_minor": 0
      },
      "text/plain": [
       "IntText(value=0, description='Admissions:')"
      ]
     },
     "metadata": {},
     "output_type": "display_data"
    }
   ],
   "source": [
    "dfTofill.iloc[0,1]=c4.value # Using indexing to add the index number to row5 'dfTofill' file for 'org_code' variable\n",
    "dfTofill # print dfTofill file row5 with 'org_code' value added\n",
    "\n",
    "#Use IntText' widget to collect index value for admissions for fourth row.\n",
    "\n",
    "d4=widgets.IntText(\n",
    "    value=0,\n",
    "    description='Admissions:',\n",
    "    disabled=False) # use the integer widget and store as the object 'd4'\n",
    "\n",
    "display(d4) # use the display function to display the integer widget object\n",
    "\n",
    "#select 1131 as value for admissions from the fifth row"
   ]
  },
  {
   "cell_type": "code",
   "execution_count": 66,
   "id": "established-perfume",
   "metadata": {},
   "outputs": [
    {
     "data": {
      "text/html": [
       "<div>\n",
       "<style scoped>\n",
       "    .dataframe tbody tr th:only-of-type {\n",
       "        vertical-align: middle;\n",
       "    }\n",
       "\n",
       "    .dataframe tbody tr th {\n",
       "        vertical-align: top;\n",
       "    }\n",
       "\n",
       "    .dataframe thead th {\n",
       "        text-align: right;\n",
       "    }\n",
       "</style>\n",
       "<table border=\"1\" class=\"dataframe\">\n",
       "  <thead>\n",
       "    <tr style=\"text-align: right;\">\n",
       "      <th></th>\n",
       "      <th>index</th>\n",
       "      <th>org_code</th>\n",
       "      <th>period</th>\n",
       "      <th>admissions</th>\n",
       "      <th>consent</th>\n",
       "    </tr>\n",
       "  </thead>\n",
       "  <tbody>\n",
       "    <tr>\n",
       "      <th>0</th>\n",
       "      <td>2826</td>\n",
       "      <td>RGT</td>\n",
       "      <td>2016-07-01</td>\n",
       "      <td>3123</td>\n",
       "      <td>True</td>\n",
       "    </tr>\n",
       "    <tr>\n",
       "      <th>0</th>\n",
       "      <td>2865</td>\n",
       "      <td>RM1</td>\n",
       "      <td>2016-07-01</td>\n",
       "      <td>2891</td>\n",
       "      <td>True</td>\n",
       "    </tr>\n",
       "    <tr>\n",
       "      <th>0</th>\n",
       "      <td>3941</td>\n",
       "      <td>RRK</td>\n",
       "      <td>2016-04-01</td>\n",
       "      <td>2744</td>\n",
       "      <td>True</td>\n",
       "    </tr>\n",
       "    <tr>\n",
       "      <th>0</th>\n",
       "      <td>5431</td>\n",
       "      <td>RJN</td>\n",
       "      <td>2017-12-01</td>\n",
       "      <td>971</td>\n",
       "      <td>True</td>\n",
       "    </tr>\n",
       "    <tr>\n",
       "      <th>0</th>\n",
       "      <td>5940</td>\n",
       "      <td>RNZ</td>\n",
       "      <td>2017-11-01</td>\n",
       "      <td>1131</td>\n",
       "      <td>True</td>\n",
       "    </tr>\n",
       "  </tbody>\n",
       "</table>\n",
       "</div>"
      ],
      "text/plain": [
       "   index org_code      period  admissions  consent\n",
       "0   2826      RGT  2016-07-01        3123     True\n",
       "0   2865      RM1  2016-07-01        2891     True\n",
       "0   3941      RRK  2016-04-01        2744     True\n",
       "0   5431      RJN  2017-12-01         971     True\n",
       "0   5940      RNZ  2017-11-01        1131     True"
      ]
     },
     "metadata": {},
     "output_type": "display_data"
    }
   ],
   "source": [
    "dfTofill.iloc[0,3]=d4.value # Using indexing to add the index number to the 'dfTofill' file for 'admissions' variable\n",
    "dfTofill # print dfTofill file with 'admissions' value added\n",
    "\n",
    "#Concatenate fifth row of data to the CollectData data frame.\n",
    "CollectData = pd.concat([CollectData, dfTofill]) # concatenate the collected data to the CollectData data frame\n",
    "display(CollectData) # display results"
   ]
  },
  {
   "cell_type": "markdown",
   "id": "neural-reverse",
   "metadata": {},
   "source": [
    "# **Iterate data collection process for sixth row of data**"
   ]
  },
  {
   "cell_type": "code",
   "execution_count": 67,
   "id": "stopped-thesaurus",
   "metadata": {
    "scrolled": true
   },
   "outputs": [
    {
     "data": {
      "text/html": [
       "<div>\n",
       "<style scoped>\n",
       "    .dataframe tbody tr th:only-of-type {\n",
       "        vertical-align: middle;\n",
       "    }\n",
       "\n",
       "    .dataframe tbody tr th {\n",
       "        vertical-align: top;\n",
       "    }\n",
       "\n",
       "    .dataframe thead th {\n",
       "        text-align: right;\n",
       "    }\n",
       "</style>\n",
       "<table border=\"1\" class=\"dataframe\">\n",
       "  <thead>\n",
       "    <tr style=\"text-align: right;\">\n",
       "      <th></th>\n",
       "      <th>index</th>\n",
       "      <th>org_code</th>\n",
       "      <th>period</th>\n",
       "      <th>admissions</th>\n",
       "    </tr>\n",
       "  </thead>\n",
       "  <tbody>\n",
       "    <tr>\n",
       "      <th>0</th>\n",
       "      <td>2826</td>\n",
       "      <td>RGT</td>\n",
       "      <td>2016-07-01</td>\n",
       "      <td>3123</td>\n",
       "    </tr>\n",
       "    <tr>\n",
       "      <th>1</th>\n",
       "      <td>2865</td>\n",
       "      <td>RM1</td>\n",
       "      <td>2016-07-01</td>\n",
       "      <td>2891</td>\n",
       "    </tr>\n",
       "    <tr>\n",
       "      <th>2</th>\n",
       "      <td>3941</td>\n",
       "      <td>RRK</td>\n",
       "      <td>2016-04-01</td>\n",
       "      <td>2744</td>\n",
       "    </tr>\n",
       "    <tr>\n",
       "      <th>3</th>\n",
       "      <td>5431</td>\n",
       "      <td>RJN</td>\n",
       "      <td>2017-12-01</td>\n",
       "      <td>971</td>\n",
       "    </tr>\n",
       "    <tr>\n",
       "      <th>4</th>\n",
       "      <td>5940</td>\n",
       "      <td>RNZ</td>\n",
       "      <td>2017-11-01</td>\n",
       "      <td>1131</td>\n",
       "    </tr>\n",
       "    <tr>\n",
       "      <th>5</th>\n",
       "      <td>6727</td>\n",
       "      <td>RQ3</td>\n",
       "      <td>2017-08-01</td>\n",
       "      <td>754</td>\n",
       "    </tr>\n",
       "  </tbody>\n",
       "</table>\n",
       "</div>"
      ],
      "text/plain": [
       "   index org_code      period  admissions\n",
       "0   2826      RGT  2016-07-01        3123\n",
       "1   2865      RM1  2016-07-01        2891\n",
       "2   3941      RRK  2016-04-01        2744\n",
       "3   5431      RJN  2017-12-01         971\n",
       "4   5940      RNZ  2017-11-01        1131\n",
       "5   6727      RQ3  2017-08-01         754"
      ]
     },
     "execution_count": 67,
     "metadata": {},
     "output_type": "execute_result"
    }
   ],
   "source": [
    "testData.head(n=6) #use the head() function in Python to review the sixth row of the dataset with n=6"
   ]
  },
  {
   "cell_type": "code",
   "execution_count": 68,
   "id": "optimum-volleyball",
   "metadata": {},
   "outputs": [
    {
     "data": {
      "application/vnd.jupyter.widget-view+json": {
       "model_id": "453f9c696d0f456eb84dd9499b0e7ce0",
       "version_major": 2,
       "version_minor": 0
      },
      "text/plain": [
       "Checkbox(value=False, description='I consent for the data provided to be processed and shared')"
      ]
     },
     "metadata": {},
     "output_type": "display_data"
    }
   ],
   "source": [
    "index_number=6727 #Index number for sixth record.\n",
    "dfTofill.iloc[0,0]=index_number # adding index number to 'dfTofill' file\n",
    "dfTofill #print dfTofill file with index number added\n",
    "\n",
    "#setup consent using checkbox widget for the sixth row\n",
    "a5 = widgets.Checkbox(value=False, \n",
    "description='I consent for the data provided to be processed and shared',\n",
    "disabled=False) # use the checkbox widget and store as the object 'a5'\n",
    "\n",
    "display(a5) # use the display function to display the widget object\n",
    "# mark the checkbox to give consent"
   ]
  },
  {
   "cell_type": "code",
   "execution_count": 69,
   "id": "unnecessary-timer",
   "metadata": {},
   "outputs": [
    {
     "data": {
      "application/vnd.jupyter.widget-view+json": {
       "model_id": "a2473c29e3a24427aef90afeaa49f6e8",
       "version_major": 2,
       "version_minor": 0
      },
      "text/plain": [
       "DatePicker(value=None, description='Period')"
      ]
     },
     "metadata": {},
     "output_type": "display_data"
    }
   ],
   "source": [
    "dfTofill.iloc[0,4]=a5.value # Using indexing to add the index number to the 'dfTofill' file for consent variable\n",
    "dfTofill # print dfTofill file with consent variable equal True\n",
    "\n",
    "#Setup a DatePicker widget to collect period data for the sixth row\n",
    "\n",
    "b5 = widgets.DatePicker(\n",
    "description='Period',\n",
    "disabled=False\n",
    ") # use the DatePicker widget and store as the object 'b5'\n",
    "\n",
    "\n",
    "display(b5) # use the display function to display the DatePicker widget object\n",
    "\n",
    "#Select \"2017-08-01\" as date for sixth row"
   ]
  },
  {
   "cell_type": "code",
   "execution_count": 70,
   "id": "careful-taylor",
   "metadata": {},
   "outputs": [
    {
     "data": {
      "application/vnd.jupyter.widget-view+json": {
       "model_id": "ad9b0341c0194804953f47fa23f27619",
       "version_major": 2,
       "version_minor": 0
      },
      "text/plain": [
       "Select(description='ODS code:', index=5, options=('RGT', 'RM1', 'RRK', 'RJN', 'RNZ', 'RQ3', 'RBL', 'R1K', 'RPA…"
      ]
     },
     "metadata": {},
     "output_type": "display_data"
    }
   ],
   "source": [
    "dfTofill.iloc[0,2]=b5.value # Using indexing to add the index number to the 'dfTofill' file for period variable\n",
    "dfTofill # print dfTofill file with period value added\n",
    "\n",
    "\n",
    "#Use selection widgets to display single selection lists for row 6 for org_code variable.\n",
    "c5=widgets.Select(\n",
    "    options=org_code,\n",
    "    value='RQ3',\n",
    "    rows=len(org_code),\n",
    "    description='ODS code:',\n",
    "    disabled=False\n",
    ") # use the Select widget and store as the object 'c5'\n",
    "\n",
    "display(c5) # use the display function to display the DatePicker widget object\n",
    "\n",
    "# Select sixth code"
   ]
  },
  {
   "cell_type": "code",
   "execution_count": 71,
   "id": "discrete-ownership",
   "metadata": {},
   "outputs": [
    {
     "data": {
      "application/vnd.jupyter.widget-view+json": {
       "model_id": "8796505164b644599ac750d8b5e20ceb",
       "version_major": 2,
       "version_minor": 0
      },
      "text/plain": [
       "IntText(value=0, description='Admissions:')"
      ]
     },
     "metadata": {},
     "output_type": "display_data"
    }
   ],
   "source": [
    "dfTofill.iloc[0,1]=c5.value # Using indexing to add the index number to row6 'dfTofill' file for 'org_code' variable\n",
    "dfTofill # print dfTofill file row6 with 'org_code' value added\n",
    "\n",
    "#Use IntText' widget to collect index value for admissions for sixth row.\n",
    "\n",
    "d5=widgets.IntText(\n",
    "    value=0,\n",
    "    description='Admissions:',\n",
    "    disabled=False) # use the integer widget and store as the object 'd5'\n",
    "\n",
    "display(d5) # use the display function to display the integer widget object\n",
    "\n",
    "#select 754 as value for admissions from the sixth row"
   ]
  },
  {
   "cell_type": "code",
   "execution_count": 72,
   "id": "white-burke",
   "metadata": {},
   "outputs": [
    {
     "data": {
      "text/html": [
       "<div>\n",
       "<style scoped>\n",
       "    .dataframe tbody tr th:only-of-type {\n",
       "        vertical-align: middle;\n",
       "    }\n",
       "\n",
       "    .dataframe tbody tr th {\n",
       "        vertical-align: top;\n",
       "    }\n",
       "\n",
       "    .dataframe thead th {\n",
       "        text-align: right;\n",
       "    }\n",
       "</style>\n",
       "<table border=\"1\" class=\"dataframe\">\n",
       "  <thead>\n",
       "    <tr style=\"text-align: right;\">\n",
       "      <th></th>\n",
       "      <th>index</th>\n",
       "      <th>org_code</th>\n",
       "      <th>period</th>\n",
       "      <th>admissions</th>\n",
       "      <th>consent</th>\n",
       "    </tr>\n",
       "  </thead>\n",
       "  <tbody>\n",
       "    <tr>\n",
       "      <th>0</th>\n",
       "      <td>2826</td>\n",
       "      <td>RGT</td>\n",
       "      <td>2016-07-01</td>\n",
       "      <td>3123</td>\n",
       "      <td>True</td>\n",
       "    </tr>\n",
       "    <tr>\n",
       "      <th>0</th>\n",
       "      <td>2865</td>\n",
       "      <td>RM1</td>\n",
       "      <td>2016-07-01</td>\n",
       "      <td>2891</td>\n",
       "      <td>True</td>\n",
       "    </tr>\n",
       "    <tr>\n",
       "      <th>0</th>\n",
       "      <td>3941</td>\n",
       "      <td>RRK</td>\n",
       "      <td>2016-04-01</td>\n",
       "      <td>2744</td>\n",
       "      <td>True</td>\n",
       "    </tr>\n",
       "    <tr>\n",
       "      <th>0</th>\n",
       "      <td>5431</td>\n",
       "      <td>RJN</td>\n",
       "      <td>2017-12-01</td>\n",
       "      <td>971</td>\n",
       "      <td>True</td>\n",
       "    </tr>\n",
       "    <tr>\n",
       "      <th>0</th>\n",
       "      <td>5940</td>\n",
       "      <td>RNZ</td>\n",
       "      <td>2017-11-01</td>\n",
       "      <td>1131</td>\n",
       "      <td>True</td>\n",
       "    </tr>\n",
       "    <tr>\n",
       "      <th>0</th>\n",
       "      <td>6727</td>\n",
       "      <td>RQ3</td>\n",
       "      <td>2017-08-01</td>\n",
       "      <td>754</td>\n",
       "      <td>True</td>\n",
       "    </tr>\n",
       "  </tbody>\n",
       "</table>\n",
       "</div>"
      ],
      "text/plain": [
       "   index org_code      period  admissions  consent\n",
       "0   2826      RGT  2016-07-01        3123     True\n",
       "0   2865      RM1  2016-07-01        2891     True\n",
       "0   3941      RRK  2016-04-01        2744     True\n",
       "0   5431      RJN  2017-12-01         971     True\n",
       "0   5940      RNZ  2017-11-01        1131     True\n",
       "0   6727      RQ3  2017-08-01         754     True"
      ]
     },
     "metadata": {},
     "output_type": "display_data"
    }
   ],
   "source": [
    "dfTofill.iloc[0,3]=d5.value # Using indexing to add the index number to the 'dfTofill' file for 'admissions' variable\n",
    "dfTofill # print dfTofill file with 'admissions' value added\n",
    "\n",
    "#Concatenate sixth row of data to the CollectData data frame.\n",
    "CollectData = pd.concat([CollectData, dfTofill]) # concatenate the collected data to the CollectData data frame\n",
    "display(CollectData) # display results"
   ]
  },
  {
   "cell_type": "markdown",
   "id": "subsequent-armor",
   "metadata": {},
   "source": [
    "# **Iterate data collection process for seventh row of data**"
   ]
  },
  {
   "cell_type": "code",
   "execution_count": 73,
   "id": "matched-missile",
   "metadata": {
    "scrolled": true
   },
   "outputs": [
    {
     "data": {
      "text/html": [
       "<div>\n",
       "<style scoped>\n",
       "    .dataframe tbody tr th:only-of-type {\n",
       "        vertical-align: middle;\n",
       "    }\n",
       "\n",
       "    .dataframe tbody tr th {\n",
       "        vertical-align: top;\n",
       "    }\n",
       "\n",
       "    .dataframe thead th {\n",
       "        text-align: right;\n",
       "    }\n",
       "</style>\n",
       "<table border=\"1\" class=\"dataframe\">\n",
       "  <thead>\n",
       "    <tr style=\"text-align: right;\">\n",
       "      <th></th>\n",
       "      <th>index</th>\n",
       "      <th>org_code</th>\n",
       "      <th>period</th>\n",
       "      <th>admissions</th>\n",
       "    </tr>\n",
       "  </thead>\n",
       "  <tbody>\n",
       "    <tr>\n",
       "      <th>0</th>\n",
       "      <td>2826</td>\n",
       "      <td>RGT</td>\n",
       "      <td>2016-07-01</td>\n",
       "      <td>3123</td>\n",
       "    </tr>\n",
       "    <tr>\n",
       "      <th>1</th>\n",
       "      <td>2865</td>\n",
       "      <td>RM1</td>\n",
       "      <td>2016-07-01</td>\n",
       "      <td>2891</td>\n",
       "    </tr>\n",
       "    <tr>\n",
       "      <th>2</th>\n",
       "      <td>3941</td>\n",
       "      <td>RRK</td>\n",
       "      <td>2016-04-01</td>\n",
       "      <td>2744</td>\n",
       "    </tr>\n",
       "    <tr>\n",
       "      <th>3</th>\n",
       "      <td>5431</td>\n",
       "      <td>RJN</td>\n",
       "      <td>2017-12-01</td>\n",
       "      <td>971</td>\n",
       "    </tr>\n",
       "    <tr>\n",
       "      <th>4</th>\n",
       "      <td>5940</td>\n",
       "      <td>RNZ</td>\n",
       "      <td>2017-11-01</td>\n",
       "      <td>1131</td>\n",
       "    </tr>\n",
       "    <tr>\n",
       "      <th>5</th>\n",
       "      <td>6727</td>\n",
       "      <td>RQ3</td>\n",
       "      <td>2017-08-01</td>\n",
       "      <td>754</td>\n",
       "    </tr>\n",
       "    <tr>\n",
       "      <th>6</th>\n",
       "      <td>7952</td>\n",
       "      <td>RBL</td>\n",
       "      <td>2017-05-01</td>\n",
       "      <td>2491</td>\n",
       "    </tr>\n",
       "  </tbody>\n",
       "</table>\n",
       "</div>"
      ],
      "text/plain": [
       "   index org_code      period  admissions\n",
       "0   2826      RGT  2016-07-01        3123\n",
       "1   2865      RM1  2016-07-01        2891\n",
       "2   3941      RRK  2016-04-01        2744\n",
       "3   5431      RJN  2017-12-01         971\n",
       "4   5940      RNZ  2017-11-01        1131\n",
       "5   6727      RQ3  2017-08-01         754\n",
       "6   7952      RBL  2017-05-01        2491"
      ]
     },
     "execution_count": 73,
     "metadata": {},
     "output_type": "execute_result"
    }
   ],
   "source": [
    "testData.head(n=7) #use the head() function in Python to review the seventh row of the dataset with n=7"
   ]
  },
  {
   "cell_type": "code",
   "execution_count": 74,
   "id": "hydraulic-grocery",
   "metadata": {},
   "outputs": [
    {
     "data": {
      "application/vnd.jupyter.widget-view+json": {
       "model_id": "49f111a56afd4b03b1600cf9b7f04fc6",
       "version_major": 2,
       "version_minor": 0
      },
      "text/plain": [
       "Checkbox(value=False, description='I consent for the data provided to be processed and shared')"
      ]
     },
     "metadata": {},
     "output_type": "display_data"
    }
   ],
   "source": [
    "index_number=7952 #Index number for seventh record.\n",
    "dfTofill.iloc[0,0]=index_number # adding index number to 'dfTofill' file\n",
    "dfTofill #print dfTofill file with index number added\n",
    "\n",
    "#setup consent using checkbox widget for the seventh row\n",
    "a6 = widgets.Checkbox(value=False, \n",
    "description='I consent for the data provided to be processed and shared',\n",
    "disabled=False) # use the checkbox widget and store as the object 'a6'\n",
    "\n",
    "display(a6) # use the display function to display the widget object\n",
    "# mark the checkbox to give consent"
   ]
  },
  {
   "cell_type": "code",
   "execution_count": 75,
   "id": "planned-madrid",
   "metadata": {},
   "outputs": [
    {
     "data": {
      "application/vnd.jupyter.widget-view+json": {
       "model_id": "c8e75e5c44c9447d8b5f785f59479cc6",
       "version_major": 2,
       "version_minor": 0
      },
      "text/plain": [
       "DatePicker(value=None, description='Period')"
      ]
     },
     "metadata": {},
     "output_type": "display_data"
    }
   ],
   "source": [
    "dfTofill.iloc[0,4]=a6.value # Using indexing to add the index number to the 'dfTofill' file for consent variable\n",
    "dfTofill # print dfTofill file with consent variable equal True\n",
    "\n",
    "#Setup a DatePicker widget to collect period data for the seventh row\n",
    "\n",
    "b6 = widgets.DatePicker(\n",
    "description='Period',\n",
    "disabled=False\n",
    ") # use the DatePicker widget and store as the object 'b6'\n",
    "\n",
    "\n",
    "display(b6) # use the display function to display the DatePicker widget object\n",
    "\n",
    "#Select \"2017-05-01\" as date for seventh row"
   ]
  },
  {
   "cell_type": "code",
   "execution_count": 76,
   "id": "sublime-snowboard",
   "metadata": {},
   "outputs": [
    {
     "data": {
      "application/vnd.jupyter.widget-view+json": {
       "model_id": "6ba62f1fe2b84a32bc4996436312832c",
       "version_major": 2,
       "version_minor": 0
      },
      "text/plain": [
       "Select(description='ODS code:', index=6, options=('RGT', 'RM1', 'RRK', 'RJN', 'RNZ', 'RQ3', 'RBL', 'R1K', 'RPA…"
      ]
     },
     "metadata": {},
     "output_type": "display_data"
    }
   ],
   "source": [
    "dfTofill.iloc[0,2]=b6.value # Using indexing to add the index number to the 'dfTofill' file for period variable\n",
    "dfTofill # print dfTofill file with period value added\n",
    "\n",
    "\n",
    "#Use selection widgets to display single selection lists for row 7 for org_code variable.\n",
    "c6=widgets.Select(\n",
    "    options=org_code,\n",
    "    value='RBL',\n",
    "    rows=len(org_code),\n",
    "    description='ODS code:',\n",
    "    disabled=False\n",
    ") # use the Select widget and store as the object 'c6'\n",
    "\n",
    "display(c6) # use the display function to display the DatePicker widget object\n",
    "\n",
    "# Select seventh code"
   ]
  },
  {
   "cell_type": "code",
   "execution_count": 77,
   "id": "municipal-holocaust",
   "metadata": {},
   "outputs": [
    {
     "data": {
      "application/vnd.jupyter.widget-view+json": {
       "model_id": "6491390f581f4af0b4f512dddc950524",
       "version_major": 2,
       "version_minor": 0
      },
      "text/plain": [
       "IntText(value=0, description='Admissions:')"
      ]
     },
     "metadata": {},
     "output_type": "display_data"
    }
   ],
   "source": [
    "dfTofill.iloc[0,1]=c6.value # Using indexing to add the index number to row7 'dfTofill' file for 'org_code' variable\n",
    "dfTofill # print dfTofill file row7 with 'org_code' value added\n",
    "\n",
    "#Use IntText' widget to collect index value for admissions for seventh row.\n",
    "\n",
    "d6=widgets.IntText(\n",
    "    value=0,\n",
    "    description='Admissions:',\n",
    "    disabled=False) # use the integer widget and store as the object 'd6'\n",
    "\n",
    "display(d6) # use the display function to display the integer widget object\n",
    "\n",
    "#select 2491 as value for admissions from the seventh row"
   ]
  },
  {
   "cell_type": "code",
   "execution_count": 78,
   "id": "objective-polyester",
   "metadata": {},
   "outputs": [
    {
     "data": {
      "text/html": [
       "<div>\n",
       "<style scoped>\n",
       "    .dataframe tbody tr th:only-of-type {\n",
       "        vertical-align: middle;\n",
       "    }\n",
       "\n",
       "    .dataframe tbody tr th {\n",
       "        vertical-align: top;\n",
       "    }\n",
       "\n",
       "    .dataframe thead th {\n",
       "        text-align: right;\n",
       "    }\n",
       "</style>\n",
       "<table border=\"1\" class=\"dataframe\">\n",
       "  <thead>\n",
       "    <tr style=\"text-align: right;\">\n",
       "      <th></th>\n",
       "      <th>index</th>\n",
       "      <th>org_code</th>\n",
       "      <th>period</th>\n",
       "      <th>admissions</th>\n",
       "      <th>consent</th>\n",
       "    </tr>\n",
       "  </thead>\n",
       "  <tbody>\n",
       "    <tr>\n",
       "      <th>0</th>\n",
       "      <td>2826</td>\n",
       "      <td>RGT</td>\n",
       "      <td>2016-07-01</td>\n",
       "      <td>3123</td>\n",
       "      <td>True</td>\n",
       "    </tr>\n",
       "    <tr>\n",
       "      <th>0</th>\n",
       "      <td>2865</td>\n",
       "      <td>RM1</td>\n",
       "      <td>2016-07-01</td>\n",
       "      <td>2891</td>\n",
       "      <td>True</td>\n",
       "    </tr>\n",
       "    <tr>\n",
       "      <th>0</th>\n",
       "      <td>3941</td>\n",
       "      <td>RRK</td>\n",
       "      <td>2016-04-01</td>\n",
       "      <td>2744</td>\n",
       "      <td>True</td>\n",
       "    </tr>\n",
       "    <tr>\n",
       "      <th>0</th>\n",
       "      <td>5431</td>\n",
       "      <td>RJN</td>\n",
       "      <td>2017-12-01</td>\n",
       "      <td>971</td>\n",
       "      <td>True</td>\n",
       "    </tr>\n",
       "    <tr>\n",
       "      <th>0</th>\n",
       "      <td>5940</td>\n",
       "      <td>RNZ</td>\n",
       "      <td>2017-11-01</td>\n",
       "      <td>1131</td>\n",
       "      <td>True</td>\n",
       "    </tr>\n",
       "    <tr>\n",
       "      <th>0</th>\n",
       "      <td>6727</td>\n",
       "      <td>RQ3</td>\n",
       "      <td>2017-08-01</td>\n",
       "      <td>754</td>\n",
       "      <td>True</td>\n",
       "    </tr>\n",
       "    <tr>\n",
       "      <th>0</th>\n",
       "      <td>7952</td>\n",
       "      <td>RBL</td>\n",
       "      <td>2017-05-01</td>\n",
       "      <td>2491</td>\n",
       "      <td>True</td>\n",
       "    </tr>\n",
       "  </tbody>\n",
       "</table>\n",
       "</div>"
      ],
      "text/plain": [
       "   index org_code      period  admissions  consent\n",
       "0   2826      RGT  2016-07-01        3123     True\n",
       "0   2865      RM1  2016-07-01        2891     True\n",
       "0   3941      RRK  2016-04-01        2744     True\n",
       "0   5431      RJN  2017-12-01         971     True\n",
       "0   5940      RNZ  2017-11-01        1131     True\n",
       "0   6727      RQ3  2017-08-01         754     True\n",
       "0   7952      RBL  2017-05-01        2491     True"
      ]
     },
     "metadata": {},
     "output_type": "display_data"
    }
   ],
   "source": [
    "dfTofill.iloc[0,3]=d6.value # Using indexing to add the index number to the 'dfTofill' file for 'admissions' variable\n",
    "dfTofill # print dfTofill file with 'admissions' value added\n",
    "\n",
    "#Concatenate seventh row of data to the CollectData data frame.\n",
    "CollectData = pd.concat([CollectData, dfTofill]) # concatenate the collected data to the CollectData data frame\n",
    "display(CollectData) # display results"
   ]
  },
  {
   "cell_type": "markdown",
   "id": "painted-tribune",
   "metadata": {},
   "source": [
    "# **Iterate data collection process for eighth row of data**"
   ]
  },
  {
   "cell_type": "code",
   "execution_count": 79,
   "id": "sexual-demand",
   "metadata": {
    "scrolled": true
   },
   "outputs": [
    {
     "data": {
      "text/html": [
       "<div>\n",
       "<style scoped>\n",
       "    .dataframe tbody tr th:only-of-type {\n",
       "        vertical-align: middle;\n",
       "    }\n",
       "\n",
       "    .dataframe tbody tr th {\n",
       "        vertical-align: top;\n",
       "    }\n",
       "\n",
       "    .dataframe thead th {\n",
       "        text-align: right;\n",
       "    }\n",
       "</style>\n",
       "<table border=\"1\" class=\"dataframe\">\n",
       "  <thead>\n",
       "    <tr style=\"text-align: right;\">\n",
       "      <th></th>\n",
       "      <th>index</th>\n",
       "      <th>org_code</th>\n",
       "      <th>period</th>\n",
       "      <th>admissions</th>\n",
       "    </tr>\n",
       "  </thead>\n",
       "  <tbody>\n",
       "    <tr>\n",
       "      <th>0</th>\n",
       "      <td>2826</td>\n",
       "      <td>RGT</td>\n",
       "      <td>2016-07-01</td>\n",
       "      <td>3123</td>\n",
       "    </tr>\n",
       "    <tr>\n",
       "      <th>1</th>\n",
       "      <td>2865</td>\n",
       "      <td>RM1</td>\n",
       "      <td>2016-07-01</td>\n",
       "      <td>2891</td>\n",
       "    </tr>\n",
       "    <tr>\n",
       "      <th>2</th>\n",
       "      <td>3941</td>\n",
       "      <td>RRK</td>\n",
       "      <td>2016-04-01</td>\n",
       "      <td>2744</td>\n",
       "    </tr>\n",
       "    <tr>\n",
       "      <th>3</th>\n",
       "      <td>5431</td>\n",
       "      <td>RJN</td>\n",
       "      <td>2017-12-01</td>\n",
       "      <td>971</td>\n",
       "    </tr>\n",
       "    <tr>\n",
       "      <th>4</th>\n",
       "      <td>5940</td>\n",
       "      <td>RNZ</td>\n",
       "      <td>2017-11-01</td>\n",
       "      <td>1131</td>\n",
       "    </tr>\n",
       "    <tr>\n",
       "      <th>5</th>\n",
       "      <td>6727</td>\n",
       "      <td>RQ3</td>\n",
       "      <td>2017-08-01</td>\n",
       "      <td>754</td>\n",
       "    </tr>\n",
       "    <tr>\n",
       "      <th>6</th>\n",
       "      <td>7952</td>\n",
       "      <td>RBL</td>\n",
       "      <td>2017-05-01</td>\n",
       "      <td>2491</td>\n",
       "    </tr>\n",
       "    <tr>\n",
       "      <th>7</th>\n",
       "      <td>8427</td>\n",
       "      <td>R1K</td>\n",
       "      <td>2019-03-01</td>\n",
       "      <td>6522</td>\n",
       "    </tr>\n",
       "  </tbody>\n",
       "</table>\n",
       "</div>"
      ],
      "text/plain": [
       "   index org_code      period  admissions\n",
       "0   2826      RGT  2016-07-01        3123\n",
       "1   2865      RM1  2016-07-01        2891\n",
       "2   3941      RRK  2016-04-01        2744\n",
       "3   5431      RJN  2017-12-01         971\n",
       "4   5940      RNZ  2017-11-01        1131\n",
       "5   6727      RQ3  2017-08-01         754\n",
       "6   7952      RBL  2017-05-01        2491\n",
       "7   8427      R1K  2019-03-01        6522"
      ]
     },
     "execution_count": 79,
     "metadata": {},
     "output_type": "execute_result"
    }
   ],
   "source": [
    "testData.head(n=8) #use the head() function in Python to review the eighth row of the dataset with n=8"
   ]
  },
  {
   "cell_type": "code",
   "execution_count": 80,
   "id": "steady-password",
   "metadata": {},
   "outputs": [
    {
     "data": {
      "application/vnd.jupyter.widget-view+json": {
       "model_id": "3f4991072caf4cf18a8809222c3de4f5",
       "version_major": 2,
       "version_minor": 0
      },
      "text/plain": [
       "Checkbox(value=False, description='I consent for the data provided to be processed and shared')"
      ]
     },
     "metadata": {},
     "output_type": "display_data"
    }
   ],
   "source": [
    "index_number=8427 #Index number for eighth record.\n",
    "dfTofill.iloc[0,0]=index_number # adding index number to 'dfTofill' file\n",
    "dfTofill #print dfTofill file with index number added\n",
    "\n",
    "#setup consent using checkbox widget for the eighth row\n",
    "a7 = widgets.Checkbox(value=False, \n",
    "description='I consent for the data provided to be processed and shared',\n",
    "disabled=False) # use the checkbox widget and store as the object 'a7'\n",
    "\n",
    "display(a7) # use the display function to display the widget object\n",
    "# mark the checkbox to give consent"
   ]
  },
  {
   "cell_type": "code",
   "execution_count": 81,
   "id": "endless-bouquet",
   "metadata": {},
   "outputs": [
    {
     "data": {
      "application/vnd.jupyter.widget-view+json": {
       "model_id": "87aaa10f6cbf49c2aee9f867f058bd18",
       "version_major": 2,
       "version_minor": 0
      },
      "text/plain": [
       "DatePicker(value=None, description='Period')"
      ]
     },
     "metadata": {},
     "output_type": "display_data"
    }
   ],
   "source": [
    "dfTofill.iloc[0,4]=a6.value # Using indexing to add the index number to the 'dfTofill' file for consent variable\n",
    "dfTofill # print dfTofill file with consent variable equal True\n",
    "\n",
    "#Setup a DatePicker widget to collect period data for the eighth row\n",
    "\n",
    "b7 = widgets.DatePicker(\n",
    "description='Period',\n",
    "disabled=False\n",
    ") # use the DatePicker widget and store as the object 'b7'\n",
    "\n",
    "\n",
    "display(b7) # use the display function to display the DatePicker widget object\n",
    "\n",
    "#Select \"2019-03-01\" as date for eighth row"
   ]
  },
  {
   "cell_type": "code",
   "execution_count": 82,
   "id": "enhanced-cooperation",
   "metadata": {},
   "outputs": [
    {
     "data": {
      "application/vnd.jupyter.widget-view+json": {
       "model_id": "5bfdc72d9e9148ca99de9fb676005d80",
       "version_major": 2,
       "version_minor": 0
      },
      "text/plain": [
       "Select(description='ODS code:', index=7, options=('RGT', 'RM1', 'RRK', 'RJN', 'RNZ', 'RQ3', 'RBL', 'R1K', 'RPA…"
      ]
     },
     "metadata": {},
     "output_type": "display_data"
    }
   ],
   "source": [
    "dfTofill.iloc[0,2]=b7.value # Using indexing to add the index number to the 'dfTofill' file for period variable\n",
    "dfTofill # print dfTofill file with period value added\n",
    "\n",
    "\n",
    "#Use selection widgets to display single selection lists for row 8 for org_code variable.\n",
    "c7=widgets.Select(\n",
    "    options=org_code,\n",
    "    value='R1K',\n",
    "    rows=len(org_code),\n",
    "    description='ODS code:',\n",
    "    disabled=False\n",
    ") # use the Select widget and store as the object 'c7'\n",
    "\n",
    "display(c7) # use the display function to display the DatePicker widget object\n",
    "\n",
    "# Select eighth code"
   ]
  },
  {
   "cell_type": "code",
   "execution_count": 83,
   "id": "saving-mistress",
   "metadata": {},
   "outputs": [
    {
     "data": {
      "application/vnd.jupyter.widget-view+json": {
       "model_id": "6437e645698e4649a8389e24104e43b7",
       "version_major": 2,
       "version_minor": 0
      },
      "text/plain": [
       "IntText(value=0, description='Admissions:')"
      ]
     },
     "metadata": {},
     "output_type": "display_data"
    }
   ],
   "source": [
    "dfTofill.iloc[0,1]=c7.value # Using indexing to add the index number to row8 'dfTofill' file for 'org_code' variable\n",
    "dfTofill # print dfTofill file row8 with 'org_code' value added\n",
    "\n",
    "#Use IntText' widget to collect index value for admissions for eighth row.\n",
    "\n",
    "d7=widgets.IntText(\n",
    "    value=0,\n",
    "    description='Admissions:',\n",
    "    disabled=False) # use the integer widget and store as the object 'd7'\n",
    "\n",
    "display(d7) # use the display function to display the integer widget object\n",
    "\n",
    "#select 6522 as value for admissions from the eighth row"
   ]
  },
  {
   "cell_type": "code",
   "execution_count": 84,
   "id": "small-volume",
   "metadata": {},
   "outputs": [
    {
     "data": {
      "text/html": [
       "<div>\n",
       "<style scoped>\n",
       "    .dataframe tbody tr th:only-of-type {\n",
       "        vertical-align: middle;\n",
       "    }\n",
       "\n",
       "    .dataframe tbody tr th {\n",
       "        vertical-align: top;\n",
       "    }\n",
       "\n",
       "    .dataframe thead th {\n",
       "        text-align: right;\n",
       "    }\n",
       "</style>\n",
       "<table border=\"1\" class=\"dataframe\">\n",
       "  <thead>\n",
       "    <tr style=\"text-align: right;\">\n",
       "      <th></th>\n",
       "      <th>index</th>\n",
       "      <th>org_code</th>\n",
       "      <th>period</th>\n",
       "      <th>admissions</th>\n",
       "      <th>consent</th>\n",
       "    </tr>\n",
       "  </thead>\n",
       "  <tbody>\n",
       "    <tr>\n",
       "      <th>0</th>\n",
       "      <td>2826</td>\n",
       "      <td>RGT</td>\n",
       "      <td>2016-07-01</td>\n",
       "      <td>3123</td>\n",
       "      <td>True</td>\n",
       "    </tr>\n",
       "    <tr>\n",
       "      <th>0</th>\n",
       "      <td>2865</td>\n",
       "      <td>RM1</td>\n",
       "      <td>2016-07-01</td>\n",
       "      <td>2891</td>\n",
       "      <td>True</td>\n",
       "    </tr>\n",
       "    <tr>\n",
       "      <th>0</th>\n",
       "      <td>3941</td>\n",
       "      <td>RRK</td>\n",
       "      <td>2016-04-01</td>\n",
       "      <td>2744</td>\n",
       "      <td>True</td>\n",
       "    </tr>\n",
       "    <tr>\n",
       "      <th>0</th>\n",
       "      <td>5431</td>\n",
       "      <td>RJN</td>\n",
       "      <td>2017-12-01</td>\n",
       "      <td>971</td>\n",
       "      <td>True</td>\n",
       "    </tr>\n",
       "    <tr>\n",
       "      <th>0</th>\n",
       "      <td>5940</td>\n",
       "      <td>RNZ</td>\n",
       "      <td>2017-11-01</td>\n",
       "      <td>1131</td>\n",
       "      <td>True</td>\n",
       "    </tr>\n",
       "    <tr>\n",
       "      <th>0</th>\n",
       "      <td>6727</td>\n",
       "      <td>RQ3</td>\n",
       "      <td>2017-08-01</td>\n",
       "      <td>754</td>\n",
       "      <td>True</td>\n",
       "    </tr>\n",
       "    <tr>\n",
       "      <th>0</th>\n",
       "      <td>7952</td>\n",
       "      <td>RBL</td>\n",
       "      <td>2017-05-01</td>\n",
       "      <td>2491</td>\n",
       "      <td>True</td>\n",
       "    </tr>\n",
       "    <tr>\n",
       "      <th>0</th>\n",
       "      <td>8427</td>\n",
       "      <td>R1K</td>\n",
       "      <td>2019-03-01</td>\n",
       "      <td>6522</td>\n",
       "      <td>True</td>\n",
       "    </tr>\n",
       "  </tbody>\n",
       "</table>\n",
       "</div>"
      ],
      "text/plain": [
       "   index org_code      period  admissions  consent\n",
       "0   2826      RGT  2016-07-01        3123     True\n",
       "0   2865      RM1  2016-07-01        2891     True\n",
       "0   3941      RRK  2016-04-01        2744     True\n",
       "0   5431      RJN  2017-12-01         971     True\n",
       "0   5940      RNZ  2017-11-01        1131     True\n",
       "0   6727      RQ3  2017-08-01         754     True\n",
       "0   7952      RBL  2017-05-01        2491     True\n",
       "0   8427      R1K  2019-03-01        6522     True"
      ]
     },
     "metadata": {},
     "output_type": "display_data"
    }
   ],
   "source": [
    "dfTofill.iloc[0,3]=d7.value # Using indexing to add the index number to the 'dfTofill' file for 'admissions' variable\n",
    "dfTofill # print dfTofill file with 'admissions' value added\n",
    "\n",
    "#Concatenate eighth row of data to the CollectData data frame.\n",
    "CollectData = pd.concat([CollectData, dfTofill]) # concatenate the collected data to the CollectData data frame\n",
    "display(CollectData) # display results"
   ]
  },
  {
   "cell_type": "markdown",
   "id": "included-providence",
   "metadata": {},
   "source": [
    "# **Iterate data collection process for ninth row of data**"
   ]
  },
  {
   "cell_type": "code",
   "execution_count": 85,
   "id": "aggressive-marijuana",
   "metadata": {
    "scrolled": true
   },
   "outputs": [
    {
     "data": {
      "text/html": [
       "<div>\n",
       "<style scoped>\n",
       "    .dataframe tbody tr th:only-of-type {\n",
       "        vertical-align: middle;\n",
       "    }\n",
       "\n",
       "    .dataframe tbody tr th {\n",
       "        vertical-align: top;\n",
       "    }\n",
       "\n",
       "    .dataframe thead th {\n",
       "        text-align: right;\n",
       "    }\n",
       "</style>\n",
       "<table border=\"1\" class=\"dataframe\">\n",
       "  <thead>\n",
       "    <tr style=\"text-align: right;\">\n",
       "      <th></th>\n",
       "      <th>index</th>\n",
       "      <th>org_code</th>\n",
       "      <th>period</th>\n",
       "      <th>admissions</th>\n",
       "    </tr>\n",
       "  </thead>\n",
       "  <tbody>\n",
       "    <tr>\n",
       "      <th>0</th>\n",
       "      <td>2826</td>\n",
       "      <td>RGT</td>\n",
       "      <td>2016-07-01</td>\n",
       "      <td>3123</td>\n",
       "    </tr>\n",
       "    <tr>\n",
       "      <th>1</th>\n",
       "      <td>2865</td>\n",
       "      <td>RM1</td>\n",
       "      <td>2016-07-01</td>\n",
       "      <td>2891</td>\n",
       "    </tr>\n",
       "    <tr>\n",
       "      <th>2</th>\n",
       "      <td>3941</td>\n",
       "      <td>RRK</td>\n",
       "      <td>2016-04-01</td>\n",
       "      <td>2744</td>\n",
       "    </tr>\n",
       "    <tr>\n",
       "      <th>3</th>\n",
       "      <td>5431</td>\n",
       "      <td>RJN</td>\n",
       "      <td>2017-12-01</td>\n",
       "      <td>971</td>\n",
       "    </tr>\n",
       "    <tr>\n",
       "      <th>4</th>\n",
       "      <td>5940</td>\n",
       "      <td>RNZ</td>\n",
       "      <td>2017-11-01</td>\n",
       "      <td>1131</td>\n",
       "    </tr>\n",
       "    <tr>\n",
       "      <th>5</th>\n",
       "      <td>6727</td>\n",
       "      <td>RQ3</td>\n",
       "      <td>2017-08-01</td>\n",
       "      <td>754</td>\n",
       "    </tr>\n",
       "    <tr>\n",
       "      <th>6</th>\n",
       "      <td>7952</td>\n",
       "      <td>RBL</td>\n",
       "      <td>2017-05-01</td>\n",
       "      <td>2491</td>\n",
       "    </tr>\n",
       "    <tr>\n",
       "      <th>7</th>\n",
       "      <td>8427</td>\n",
       "      <td>R1K</td>\n",
       "      <td>2019-03-01</td>\n",
       "      <td>6522</td>\n",
       "    </tr>\n",
       "    <tr>\n",
       "      <th>8</th>\n",
       "      <td>10489</td>\n",
       "      <td>RPA</td>\n",
       "      <td>2018-10-01</td>\n",
       "      <td>2065</td>\n",
       "    </tr>\n",
       "  </tbody>\n",
       "</table>\n",
       "</div>"
      ],
      "text/plain": [
       "   index org_code      period  admissions\n",
       "0   2826      RGT  2016-07-01        3123\n",
       "1   2865      RM1  2016-07-01        2891\n",
       "2   3941      RRK  2016-04-01        2744\n",
       "3   5431      RJN  2017-12-01         971\n",
       "4   5940      RNZ  2017-11-01        1131\n",
       "5   6727      RQ3  2017-08-01         754\n",
       "6   7952      RBL  2017-05-01        2491\n",
       "7   8427      R1K  2019-03-01        6522\n",
       "8  10489      RPA  2018-10-01        2065"
      ]
     },
     "execution_count": 85,
     "metadata": {},
     "output_type": "execute_result"
    }
   ],
   "source": [
    "testData.head(n=9) #use the head() function in Python to review the ninth row of the dataset with n=9"
   ]
  },
  {
   "cell_type": "code",
   "execution_count": 86,
   "id": "industrial-touch",
   "metadata": {},
   "outputs": [
    {
     "data": {
      "application/vnd.jupyter.widget-view+json": {
       "model_id": "c9a6edf893104fa7b185dff4462adf2f",
       "version_major": 2,
       "version_minor": 0
      },
      "text/plain": [
       "Checkbox(value=False, description='I consent for the data provided to be processed and shared')"
      ]
     },
     "metadata": {},
     "output_type": "display_data"
    }
   ],
   "source": [
    "index_number=10489 #Index number for ninth record.\n",
    "dfTofill.iloc[0,0]=index_number # adding index number to 'dfTofill' file\n",
    "dfTofill #print dfTofill file with index number added\n",
    "\n",
    "#setup consent using checkbox widget for the eighth row\n",
    "a8 = widgets.Checkbox(value=False, \n",
    "description='I consent for the data provided to be processed and shared',\n",
    "disabled=False) # use the checkbox widget and store as the object 'a8'\n",
    "\n",
    "display(a8) # use the display function to display the widget object\n",
    "# mark the checkbox to give consent"
   ]
  },
  {
   "cell_type": "code",
   "execution_count": 87,
   "id": "deluxe-fitness",
   "metadata": {},
   "outputs": [
    {
     "data": {
      "application/vnd.jupyter.widget-view+json": {
       "model_id": "d9b555198138455a8ea0afbce39f2990",
       "version_major": 2,
       "version_minor": 0
      },
      "text/plain": [
       "DatePicker(value=None, description='Period')"
      ]
     },
     "metadata": {},
     "output_type": "display_data"
    }
   ],
   "source": [
    "dfTofill.iloc[0,4]=a8.value # Using indexing to add the index number to the 'dfTofill' file for consent variable\n",
    "dfTofill # print dfTofill file with consent variable equal True\n",
    "\n",
    "#Setup a DatePicker widget to collect period data for the ninth row\n",
    "\n",
    "b8 = widgets.DatePicker(\n",
    "description='Period',\n",
    "disabled=False\n",
    ") # use the DatePicker widget and store as the object 'b8'\n",
    "\n",
    "\n",
    "display(b8) # use the display function to display the DatePicker widget object\n",
    "\n",
    "#Select \"2018-10-01\" as date for ninth row"
   ]
  },
  {
   "cell_type": "code",
   "execution_count": 88,
   "id": "premier-moscow",
   "metadata": {},
   "outputs": [
    {
     "data": {
      "application/vnd.jupyter.widget-view+json": {
       "model_id": "d3fbcdfd89774f398d9938452091c74e",
       "version_major": 2,
       "version_minor": 0
      },
      "text/plain": [
       "Select(description='ODS code:', index=8, options=('RGT', 'RM1', 'RRK', 'RJN', 'RNZ', 'RQ3', 'RBL', 'R1K', 'RPA…"
      ]
     },
     "metadata": {},
     "output_type": "display_data"
    }
   ],
   "source": [
    "dfTofill.iloc[0,2]=b8.value # Using indexing to add the index number to the 'dfTofill' file for period variable\n",
    "dfTofill # print dfTofill file with period value added\n",
    "\n",
    "\n",
    "#Use selection widgets to display single selection lists for row 9 for org_code variable.\n",
    "c8=widgets.Select(\n",
    "    options=org_code,\n",
    "    value='RPA',\n",
    "    rows=len(org_code),\n",
    "    description='ODS code:',\n",
    "    disabled=False\n",
    ") # use the Select widget and store as the object 'c8'\n",
    "\n",
    "display(c8) # use the display function to display the DatePicker widget object\n",
    "\n",
    "# Select ninth code"
   ]
  },
  {
   "cell_type": "code",
   "execution_count": 89,
   "id": "atmospheric-acoustic",
   "metadata": {},
   "outputs": [
    {
     "data": {
      "application/vnd.jupyter.widget-view+json": {
       "model_id": "4230bdab786442208cfa2297b5744d8f",
       "version_major": 2,
       "version_minor": 0
      },
      "text/plain": [
       "IntText(value=0, description='Admissions:')"
      ]
     },
     "metadata": {},
     "output_type": "display_data"
    }
   ],
   "source": [
    "dfTofill.iloc[0,1]=c8.value # Using indexing to add the index number to row9 'dfTofill' file for 'org_code' variable\n",
    "dfTofill # print dfTofill file row9 with 'org_code' value added\n",
    "\n",
    "#Use IntText' widget to collect index value for admissions for ninth row.\n",
    "\n",
    "d8=widgets.IntText(\n",
    "    value=0,\n",
    "    description='Admissions:',\n",
    "    disabled=False) # use the integer widget and store as the object 'd8'\n",
    "\n",
    "display(d8) # use the display function to display the integer widget object\n",
    "\n",
    "#select 2065 as value for admissions from the ninth row"
   ]
  },
  {
   "cell_type": "code",
   "execution_count": 90,
   "id": "confidential-binding",
   "metadata": {},
   "outputs": [
    {
     "data": {
      "text/html": [
       "<div>\n",
       "<style scoped>\n",
       "    .dataframe tbody tr th:only-of-type {\n",
       "        vertical-align: middle;\n",
       "    }\n",
       "\n",
       "    .dataframe tbody tr th {\n",
       "        vertical-align: top;\n",
       "    }\n",
       "\n",
       "    .dataframe thead th {\n",
       "        text-align: right;\n",
       "    }\n",
       "</style>\n",
       "<table border=\"1\" class=\"dataframe\">\n",
       "  <thead>\n",
       "    <tr style=\"text-align: right;\">\n",
       "      <th></th>\n",
       "      <th>index</th>\n",
       "      <th>org_code</th>\n",
       "      <th>period</th>\n",
       "      <th>admissions</th>\n",
       "      <th>consent</th>\n",
       "    </tr>\n",
       "  </thead>\n",
       "  <tbody>\n",
       "    <tr>\n",
       "      <th>0</th>\n",
       "      <td>2826</td>\n",
       "      <td>RGT</td>\n",
       "      <td>2016-07-01</td>\n",
       "      <td>3123</td>\n",
       "      <td>True</td>\n",
       "    </tr>\n",
       "    <tr>\n",
       "      <th>0</th>\n",
       "      <td>2865</td>\n",
       "      <td>RM1</td>\n",
       "      <td>2016-07-01</td>\n",
       "      <td>2891</td>\n",
       "      <td>True</td>\n",
       "    </tr>\n",
       "    <tr>\n",
       "      <th>0</th>\n",
       "      <td>3941</td>\n",
       "      <td>RRK</td>\n",
       "      <td>2016-04-01</td>\n",
       "      <td>2744</td>\n",
       "      <td>True</td>\n",
       "    </tr>\n",
       "    <tr>\n",
       "      <th>0</th>\n",
       "      <td>5431</td>\n",
       "      <td>RJN</td>\n",
       "      <td>2017-12-01</td>\n",
       "      <td>971</td>\n",
       "      <td>True</td>\n",
       "    </tr>\n",
       "    <tr>\n",
       "      <th>0</th>\n",
       "      <td>5940</td>\n",
       "      <td>RNZ</td>\n",
       "      <td>2017-11-01</td>\n",
       "      <td>1131</td>\n",
       "      <td>True</td>\n",
       "    </tr>\n",
       "    <tr>\n",
       "      <th>0</th>\n",
       "      <td>6727</td>\n",
       "      <td>RQ3</td>\n",
       "      <td>2017-08-01</td>\n",
       "      <td>754</td>\n",
       "      <td>True</td>\n",
       "    </tr>\n",
       "    <tr>\n",
       "      <th>0</th>\n",
       "      <td>7952</td>\n",
       "      <td>RBL</td>\n",
       "      <td>2017-05-01</td>\n",
       "      <td>2491</td>\n",
       "      <td>True</td>\n",
       "    </tr>\n",
       "    <tr>\n",
       "      <th>0</th>\n",
       "      <td>8427</td>\n",
       "      <td>R1K</td>\n",
       "      <td>2019-03-01</td>\n",
       "      <td>6522</td>\n",
       "      <td>True</td>\n",
       "    </tr>\n",
       "    <tr>\n",
       "      <th>0</th>\n",
       "      <td>10489</td>\n",
       "      <td>RPA</td>\n",
       "      <td>2018-10-01</td>\n",
       "      <td>2065</td>\n",
       "      <td>True</td>\n",
       "    </tr>\n",
       "  </tbody>\n",
       "</table>\n",
       "</div>"
      ],
      "text/plain": [
       "   index org_code      period  admissions  consent\n",
       "0   2826      RGT  2016-07-01        3123     True\n",
       "0   2865      RM1  2016-07-01        2891     True\n",
       "0   3941      RRK  2016-04-01        2744     True\n",
       "0   5431      RJN  2017-12-01         971     True\n",
       "0   5940      RNZ  2017-11-01        1131     True\n",
       "0   6727      RQ3  2017-08-01         754     True\n",
       "0   7952      RBL  2017-05-01        2491     True\n",
       "0   8427      R1K  2019-03-01        6522     True\n",
       "0  10489      RPA  2018-10-01        2065     True"
      ]
     },
     "metadata": {},
     "output_type": "display_data"
    }
   ],
   "source": [
    "dfTofill.iloc[0,3]=d8.value # Using indexing to add the index number to the 'dfTofill' file for 'admissions' variable\n",
    "dfTofill # print dfTofill file with 'admissions' value added\n",
    "\n",
    "#Concatenate ninth row of data to the CollectData data frame.\n",
    "CollectData = pd.concat([CollectData, dfTofill]) # concatenate the collected data to the CollectData data frame\n",
    "display(CollectData) # display results"
   ]
  },
  {
   "cell_type": "markdown",
   "id": "fuzzy-metropolitan",
   "metadata": {},
   "source": [
    "# **Iterate data collection process for tenth row of data**"
   ]
  },
  {
   "cell_type": "code",
   "execution_count": 91,
   "id": "front-appeal",
   "metadata": {
    "scrolled": true
   },
   "outputs": [
    {
     "data": {
      "text/html": [
       "<div>\n",
       "<style scoped>\n",
       "    .dataframe tbody tr th:only-of-type {\n",
       "        vertical-align: middle;\n",
       "    }\n",
       "\n",
       "    .dataframe tbody tr th {\n",
       "        vertical-align: top;\n",
       "    }\n",
       "\n",
       "    .dataframe thead th {\n",
       "        text-align: right;\n",
       "    }\n",
       "</style>\n",
       "<table border=\"1\" class=\"dataframe\">\n",
       "  <thead>\n",
       "    <tr style=\"text-align: right;\">\n",
       "      <th></th>\n",
       "      <th>index</th>\n",
       "      <th>org_code</th>\n",
       "      <th>period</th>\n",
       "      <th>admissions</th>\n",
       "    </tr>\n",
       "  </thead>\n",
       "  <tbody>\n",
       "    <tr>\n",
       "      <th>0</th>\n",
       "      <td>2826</td>\n",
       "      <td>RGT</td>\n",
       "      <td>2016-07-01</td>\n",
       "      <td>3123</td>\n",
       "    </tr>\n",
       "    <tr>\n",
       "      <th>1</th>\n",
       "      <td>2865</td>\n",
       "      <td>RM1</td>\n",
       "      <td>2016-07-01</td>\n",
       "      <td>2891</td>\n",
       "    </tr>\n",
       "    <tr>\n",
       "      <th>2</th>\n",
       "      <td>3941</td>\n",
       "      <td>RRK</td>\n",
       "      <td>2016-04-01</td>\n",
       "      <td>2744</td>\n",
       "    </tr>\n",
       "    <tr>\n",
       "      <th>3</th>\n",
       "      <td>5431</td>\n",
       "      <td>RJN</td>\n",
       "      <td>2017-12-01</td>\n",
       "      <td>971</td>\n",
       "    </tr>\n",
       "    <tr>\n",
       "      <th>4</th>\n",
       "      <td>5940</td>\n",
       "      <td>RNZ</td>\n",
       "      <td>2017-11-01</td>\n",
       "      <td>1131</td>\n",
       "    </tr>\n",
       "    <tr>\n",
       "      <th>5</th>\n",
       "      <td>6727</td>\n",
       "      <td>RQ3</td>\n",
       "      <td>2017-08-01</td>\n",
       "      <td>754</td>\n",
       "    </tr>\n",
       "    <tr>\n",
       "      <th>6</th>\n",
       "      <td>7952</td>\n",
       "      <td>RBL</td>\n",
       "      <td>2017-05-01</td>\n",
       "      <td>2491</td>\n",
       "    </tr>\n",
       "    <tr>\n",
       "      <th>7</th>\n",
       "      <td>8427</td>\n",
       "      <td>R1K</td>\n",
       "      <td>2019-03-01</td>\n",
       "      <td>6522</td>\n",
       "    </tr>\n",
       "    <tr>\n",
       "      <th>8</th>\n",
       "      <td>10489</td>\n",
       "      <td>RPA</td>\n",
       "      <td>2018-10-01</td>\n",
       "      <td>2065</td>\n",
       "    </tr>\n",
       "    <tr>\n",
       "      <th>9</th>\n",
       "      <td>12390</td>\n",
       "      <td>RA3</td>\n",
       "      <td>2018-05-01</td>\n",
       "      <td>1090</td>\n",
       "    </tr>\n",
       "  </tbody>\n",
       "</table>\n",
       "</div>"
      ],
      "text/plain": [
       "   index org_code      period  admissions\n",
       "0   2826      RGT  2016-07-01        3123\n",
       "1   2865      RM1  2016-07-01        2891\n",
       "2   3941      RRK  2016-04-01        2744\n",
       "3   5431      RJN  2017-12-01         971\n",
       "4   5940      RNZ  2017-11-01        1131\n",
       "5   6727      RQ3  2017-08-01         754\n",
       "6   7952      RBL  2017-05-01        2491\n",
       "7   8427      R1K  2019-03-01        6522\n",
       "8  10489      RPA  2018-10-01        2065\n",
       "9  12390      RA3  2018-05-01        1090"
      ]
     },
     "execution_count": 91,
     "metadata": {},
     "output_type": "execute_result"
    }
   ],
   "source": [
    "testData.head(n=10) #use the head() function in Python to review the tenth row of the dataset with n=10"
   ]
  },
  {
   "cell_type": "code",
   "execution_count": 92,
   "id": "complete-fiber",
   "metadata": {},
   "outputs": [
    {
     "data": {
      "application/vnd.jupyter.widget-view+json": {
       "model_id": "77d1fdcb64f14e3596c7707d46001270",
       "version_major": 2,
       "version_minor": 0
      },
      "text/plain": [
       "Checkbox(value=False, description='I consent for the data provided to be processed and shared')"
      ]
     },
     "metadata": {},
     "output_type": "display_data"
    }
   ],
   "source": [
    "index_number=12390 #Index number for tenth record.\n",
    "dfTofill.iloc[0,0]=index_number # adding index number to 'dfTofill' file\n",
    "dfTofill #print dfTofill file with index number added\n",
    "\n",
    "#setup consent using checkbox widget for the tenth row\n",
    "a9 = widgets.Checkbox(value=False, \n",
    "description='I consent for the data provided to be processed and shared',\n",
    "disabled=False) # use the checkbox widget and store as the object 'a9'\n",
    "\n",
    "display(a9) # use the display function to display the widget object\n",
    "# mark the checkbox to give consent"
   ]
  },
  {
   "cell_type": "code",
   "execution_count": 93,
   "id": "mysterious-tuning",
   "metadata": {},
   "outputs": [
    {
     "data": {
      "application/vnd.jupyter.widget-view+json": {
       "model_id": "de61a812cd314e26982b1d515ed23217",
       "version_major": 2,
       "version_minor": 0
      },
      "text/plain": [
       "DatePicker(value=None, description='Period')"
      ]
     },
     "metadata": {},
     "output_type": "display_data"
    }
   ],
   "source": [
    "dfTofill.iloc[0,4]=a9.value # Using indexing to add the index number to the 'dfTofill' file for consent variable\n",
    "dfTofill # print dfTofill file with consent variable equal True\n",
    "\n",
    "#Setup a DatePicker widget to collect period data for the tenth row\n",
    "\n",
    "b9 = widgets.DatePicker(\n",
    "description='Period',\n",
    "disabled=False\n",
    ") # use the DatePicker widget and store as the object 'b9'\n",
    "\n",
    "\n",
    "display(b9) # use the display function to display the DatePicker widget object\n",
    "\n",
    "#Select \"2018-05-01\" as date for tenth row"
   ]
  },
  {
   "cell_type": "code",
   "execution_count": 94,
   "id": "egyptian-factor",
   "metadata": {},
   "outputs": [
    {
     "data": {
      "application/vnd.jupyter.widget-view+json": {
       "model_id": "7ecf5c8377894ec0a022c82971c6ceae",
       "version_major": 2,
       "version_minor": 0
      },
      "text/plain": [
       "Select(description='ODS code:', index=9, options=('RGT', 'RM1', 'RRK', 'RJN', 'RNZ', 'RQ3', 'RBL', 'R1K', 'RPA…"
      ]
     },
     "metadata": {},
     "output_type": "display_data"
    }
   ],
   "source": [
    "dfTofill.iloc[0,2]=b9.value # Using indexing to add the index number to the 'dfTofill' file for period variable\n",
    "dfTofill # print dfTofill file with period value added\n",
    "\n",
    "\n",
    "#Use selection widgets to display single selection lists for row 10 for org_code variable.\n",
    "c9=widgets.Select(\n",
    "    options=org_code,\n",
    "    value='RA3',\n",
    "    rows=len(org_code),\n",
    "    description='ODS code:',\n",
    "    disabled=False\n",
    ") # use the Select widget and store as the object 'c9'\n",
    "\n",
    "display(c9) # use the display function to display the DatePicker widget object\n",
    "\n",
    "# Select tenth code"
   ]
  },
  {
   "cell_type": "code",
   "execution_count": 95,
   "id": "conditional-permit",
   "metadata": {},
   "outputs": [
    {
     "data": {
      "application/vnd.jupyter.widget-view+json": {
       "model_id": "5873cdfa00c648cd9b37fe97f78e340e",
       "version_major": 2,
       "version_minor": 0
      },
      "text/plain": [
       "IntText(value=0, description='Admissions:')"
      ]
     },
     "metadata": {},
     "output_type": "display_data"
    }
   ],
   "source": [
    "dfTofill.iloc[0,1]=c9.value # Using indexing to add the index number to row10 'dfTofill' file for 'org_code' variable\n",
    "dfTofill # print dfTofill file row10 with 'org_code' value added\n",
    "\n",
    "#Use IntText' widget to collect index value for admissions for tenth row.\n",
    "\n",
    "d9=widgets.IntText(\n",
    "    value=0,\n",
    "    description='Admissions:',\n",
    "    disabled=False) # use the integer widget and store as the object 'd9'\n",
    "\n",
    "display(d9) # use the display function to display the integer widget object\n",
    "\n",
    "#select 1090 as value for admissions from the tenth row"
   ]
  },
  {
   "cell_type": "code",
   "execution_count": 96,
   "id": "devoted-maple",
   "metadata": {},
   "outputs": [
    {
     "data": {
      "text/html": [
       "<div>\n",
       "<style scoped>\n",
       "    .dataframe tbody tr th:only-of-type {\n",
       "        vertical-align: middle;\n",
       "    }\n",
       "\n",
       "    .dataframe tbody tr th {\n",
       "        vertical-align: top;\n",
       "    }\n",
       "\n",
       "    .dataframe thead th {\n",
       "        text-align: right;\n",
       "    }\n",
       "</style>\n",
       "<table border=\"1\" class=\"dataframe\">\n",
       "  <thead>\n",
       "    <tr style=\"text-align: right;\">\n",
       "      <th></th>\n",
       "      <th>index</th>\n",
       "      <th>org_code</th>\n",
       "      <th>period</th>\n",
       "      <th>admissions</th>\n",
       "      <th>consent</th>\n",
       "    </tr>\n",
       "  </thead>\n",
       "  <tbody>\n",
       "    <tr>\n",
       "      <th>0</th>\n",
       "      <td>2826</td>\n",
       "      <td>RGT</td>\n",
       "      <td>2016-07-01</td>\n",
       "      <td>3123</td>\n",
       "      <td>True</td>\n",
       "    </tr>\n",
       "    <tr>\n",
       "      <th>0</th>\n",
       "      <td>2865</td>\n",
       "      <td>RM1</td>\n",
       "      <td>2016-07-01</td>\n",
       "      <td>2891</td>\n",
       "      <td>True</td>\n",
       "    </tr>\n",
       "    <tr>\n",
       "      <th>0</th>\n",
       "      <td>3941</td>\n",
       "      <td>RRK</td>\n",
       "      <td>2016-04-01</td>\n",
       "      <td>2744</td>\n",
       "      <td>True</td>\n",
       "    </tr>\n",
       "    <tr>\n",
       "      <th>0</th>\n",
       "      <td>5431</td>\n",
       "      <td>RJN</td>\n",
       "      <td>2017-12-01</td>\n",
       "      <td>971</td>\n",
       "      <td>True</td>\n",
       "    </tr>\n",
       "    <tr>\n",
       "      <th>0</th>\n",
       "      <td>5940</td>\n",
       "      <td>RNZ</td>\n",
       "      <td>2017-11-01</td>\n",
       "      <td>1131</td>\n",
       "      <td>True</td>\n",
       "    </tr>\n",
       "    <tr>\n",
       "      <th>0</th>\n",
       "      <td>6727</td>\n",
       "      <td>RQ3</td>\n",
       "      <td>2017-08-01</td>\n",
       "      <td>754</td>\n",
       "      <td>True</td>\n",
       "    </tr>\n",
       "    <tr>\n",
       "      <th>0</th>\n",
       "      <td>7952</td>\n",
       "      <td>RBL</td>\n",
       "      <td>2017-05-01</td>\n",
       "      <td>2491</td>\n",
       "      <td>True</td>\n",
       "    </tr>\n",
       "    <tr>\n",
       "      <th>0</th>\n",
       "      <td>8427</td>\n",
       "      <td>R1K</td>\n",
       "      <td>2019-03-01</td>\n",
       "      <td>6522</td>\n",
       "      <td>True</td>\n",
       "    </tr>\n",
       "    <tr>\n",
       "      <th>0</th>\n",
       "      <td>10489</td>\n",
       "      <td>RPA</td>\n",
       "      <td>2018-10-01</td>\n",
       "      <td>2065</td>\n",
       "      <td>True</td>\n",
       "    </tr>\n",
       "    <tr>\n",
       "      <th>0</th>\n",
       "      <td>12390</td>\n",
       "      <td>RA3</td>\n",
       "      <td>2018-05-01</td>\n",
       "      <td>1090</td>\n",
       "      <td>True</td>\n",
       "    </tr>\n",
       "  </tbody>\n",
       "</table>\n",
       "</div>"
      ],
      "text/plain": [
       "   index org_code      period  admissions  consent\n",
       "0   2826      RGT  2016-07-01        3123     True\n",
       "0   2865      RM1  2016-07-01        2891     True\n",
       "0   3941      RRK  2016-04-01        2744     True\n",
       "0   5431      RJN  2017-12-01         971     True\n",
       "0   5940      RNZ  2017-11-01        1131     True\n",
       "0   6727      RQ3  2017-08-01         754     True\n",
       "0   7952      RBL  2017-05-01        2491     True\n",
       "0   8427      R1K  2019-03-01        6522     True\n",
       "0  10489      RPA  2018-10-01        2065     True\n",
       "0  12390      RA3  2018-05-01        1090     True"
      ]
     },
     "metadata": {},
     "output_type": "display_data"
    }
   ],
   "source": [
    "dfTofill.iloc[0,3]=d9.value # Using indexing to add the index number to the 'dfTofill' file for 'admissions' variable\n",
    "dfTofill # print dfTofill file with 'admissions' value added\n",
    "\n",
    "#Concatenate tenth row of data to the CollectData data frame.\n",
    "CollectData = pd.concat([CollectData, dfTofill]) # concatenate the collected data to the CollectData data frame\n",
    "display(CollectData) # display results"
   ]
  },
  {
   "cell_type": "markdown",
   "id": "dependent-polymer",
   "metadata": {},
   "source": [
    "# **Iterate data collection process for eleventh row of data**"
   ]
  },
  {
   "cell_type": "code",
   "execution_count": 97,
   "id": "effective-checkout",
   "metadata": {
    "scrolled": true
   },
   "outputs": [
    {
     "data": {
      "text/html": [
       "<div>\n",
       "<style scoped>\n",
       "    .dataframe tbody tr th:only-of-type {\n",
       "        vertical-align: middle;\n",
       "    }\n",
       "\n",
       "    .dataframe tbody tr th {\n",
       "        vertical-align: top;\n",
       "    }\n",
       "\n",
       "    .dataframe thead th {\n",
       "        text-align: right;\n",
       "    }\n",
       "</style>\n",
       "<table border=\"1\" class=\"dataframe\">\n",
       "  <thead>\n",
       "    <tr style=\"text-align: right;\">\n",
       "      <th></th>\n",
       "      <th>index</th>\n",
       "      <th>org_code</th>\n",
       "      <th>period</th>\n",
       "      <th>admissions</th>\n",
       "    </tr>\n",
       "  </thead>\n",
       "  <tbody>\n",
       "    <tr>\n",
       "      <th>0</th>\n",
       "      <td>2826</td>\n",
       "      <td>RGT</td>\n",
       "      <td>2016-07-01</td>\n",
       "      <td>3123</td>\n",
       "    </tr>\n",
       "    <tr>\n",
       "      <th>1</th>\n",
       "      <td>2865</td>\n",
       "      <td>RM1</td>\n",
       "      <td>2016-07-01</td>\n",
       "      <td>2891</td>\n",
       "    </tr>\n",
       "    <tr>\n",
       "      <th>2</th>\n",
       "      <td>3941</td>\n",
       "      <td>RRK</td>\n",
       "      <td>2016-04-01</td>\n",
       "      <td>2744</td>\n",
       "    </tr>\n",
       "    <tr>\n",
       "      <th>3</th>\n",
       "      <td>5431</td>\n",
       "      <td>RJN</td>\n",
       "      <td>2017-12-01</td>\n",
       "      <td>971</td>\n",
       "    </tr>\n",
       "    <tr>\n",
       "      <th>4</th>\n",
       "      <td>5940</td>\n",
       "      <td>RNZ</td>\n",
       "      <td>2017-11-01</td>\n",
       "      <td>1131</td>\n",
       "    </tr>\n",
       "    <tr>\n",
       "      <th>5</th>\n",
       "      <td>6727</td>\n",
       "      <td>RQ3</td>\n",
       "      <td>2017-08-01</td>\n",
       "      <td>754</td>\n",
       "    </tr>\n",
       "    <tr>\n",
       "      <th>6</th>\n",
       "      <td>7952</td>\n",
       "      <td>RBL</td>\n",
       "      <td>2017-05-01</td>\n",
       "      <td>2491</td>\n",
       "    </tr>\n",
       "    <tr>\n",
       "      <th>7</th>\n",
       "      <td>8427</td>\n",
       "      <td>R1K</td>\n",
       "      <td>2019-03-01</td>\n",
       "      <td>6522</td>\n",
       "    </tr>\n",
       "    <tr>\n",
       "      <th>8</th>\n",
       "      <td>10489</td>\n",
       "      <td>RPA</td>\n",
       "      <td>2018-10-01</td>\n",
       "      <td>2065</td>\n",
       "    </tr>\n",
       "    <tr>\n",
       "      <th>9</th>\n",
       "      <td>12390</td>\n",
       "      <td>RA3</td>\n",
       "      <td>2018-05-01</td>\n",
       "      <td>1090</td>\n",
       "    </tr>\n",
       "    <tr>\n",
       "      <th>10</th>\n",
       "      <td>12463</td>\n",
       "      <td>RDE</td>\n",
       "      <td>2018-04-01</td>\n",
       "      <td>2398</td>\n",
       "    </tr>\n",
       "  </tbody>\n",
       "</table>\n",
       "</div>"
      ],
      "text/plain": [
       "    index org_code      period  admissions\n",
       "0    2826      RGT  2016-07-01        3123\n",
       "1    2865      RM1  2016-07-01        2891\n",
       "2    3941      RRK  2016-04-01        2744\n",
       "3    5431      RJN  2017-12-01         971\n",
       "4    5940      RNZ  2017-11-01        1131\n",
       "5    6727      RQ3  2017-08-01         754\n",
       "6    7952      RBL  2017-05-01        2491\n",
       "7    8427      R1K  2019-03-01        6522\n",
       "8   10489      RPA  2018-10-01        2065\n",
       "9   12390      RA3  2018-05-01        1090\n",
       "10  12463      RDE  2018-04-01        2398"
      ]
     },
     "execution_count": 97,
     "metadata": {},
     "output_type": "execute_result"
    }
   ],
   "source": [
    "testData.head(n=11) #use the head() function in Python to review the eleventh row of the dataset with n=11"
   ]
  },
  {
   "cell_type": "code",
   "execution_count": 98,
   "id": "military-affiliate",
   "metadata": {},
   "outputs": [
    {
     "data": {
      "application/vnd.jupyter.widget-view+json": {
       "model_id": "d2d14b03390d42ceb2a713ecbd6c3d23",
       "version_major": 2,
       "version_minor": 0
      },
      "text/plain": [
       "Checkbox(value=False, description='I consent for the data provided to be processed and shared')"
      ]
     },
     "metadata": {},
     "output_type": "display_data"
    }
   ],
   "source": [
    "index_number=12463 #Index number for eleventh record.\n",
    "dfTofill.iloc[0,0]=index_number # adding index number to 'dfTofill' file\n",
    "dfTofill #print dfTofill file with index number added\n",
    "\n",
    "#setup consent using checkbox widget for the eleventh row\n",
    "a10 = widgets.Checkbox(value=False, \n",
    "description='I consent for the data provided to be processed and shared',\n",
    "disabled=False) # use the checkbox widget and store as the object 'a10'\n",
    "\n",
    "display(a10) # use the display function to display the widget object\n",
    "# mark the checkbox to give consent"
   ]
  },
  {
   "cell_type": "code",
   "execution_count": 99,
   "id": "handled-connection",
   "metadata": {},
   "outputs": [
    {
     "data": {
      "application/vnd.jupyter.widget-view+json": {
       "model_id": "b7e0231c964f43d2ae7b85ed07133992",
       "version_major": 2,
       "version_minor": 0
      },
      "text/plain": [
       "DatePicker(value=None, description='Period')"
      ]
     },
     "metadata": {},
     "output_type": "display_data"
    }
   ],
   "source": [
    "dfTofill.iloc[0,4]=a10.value # Using indexing to add the index number to the 'dfTofill' file for consent variable\n",
    "dfTofill # print dfTofill file with consent variable equal True\n",
    "\n",
    "#Setup a DatePicker widget to collect period data for the eleventh row\n",
    "\n",
    "b10 = widgets.DatePicker(\n",
    "description='Period',\n",
    "disabled=False\n",
    ") # use the DatePicker widget and store as the object 'b10'\n",
    "\n",
    "\n",
    "display(b10) # use the display function to display the DatePicker widget object\n",
    "\n",
    "#Select \"2018-04-01\" as date for eleventh row"
   ]
  },
  {
   "cell_type": "code",
   "execution_count": 100,
   "id": "comparative-radiation",
   "metadata": {},
   "outputs": [
    {
     "data": {
      "application/vnd.jupyter.widget-view+json": {
       "model_id": "05c00a2beef640bfbcc373333ded313d",
       "version_major": 2,
       "version_minor": 0
      },
      "text/plain": [
       "Select(description='ODS code:', index=10, options=('RGT', 'RM1', 'RRK', 'RJN', 'RNZ', 'RQ3', 'RBL', 'R1K', 'RP…"
      ]
     },
     "metadata": {},
     "output_type": "display_data"
    }
   ],
   "source": [
    "dfTofill.iloc[0,2]=b10.value # Using indexing to add the index number to the 'dfTofill' file for period variable\n",
    "dfTofill # print dfTofill file with period value added\n",
    "\n",
    "\n",
    "#Use selection widgets to display single selection lists for row 11 for org_code variable.\n",
    "c10=widgets.Select(\n",
    "    options=org_code,\n",
    "    value='RDE',\n",
    "    rows=len(org_code),\n",
    "    description='ODS code:',\n",
    "    disabled=False\n",
    ") # use the Select widget and store as the object 'c10'\n",
    "\n",
    "display(c10) # use the display function to display the DatePicker widget object\n",
    "\n",
    "# Select eleventh code"
   ]
  },
  {
   "cell_type": "code",
   "execution_count": 101,
   "id": "automotive-masters",
   "metadata": {},
   "outputs": [
    {
     "data": {
      "application/vnd.jupyter.widget-view+json": {
       "model_id": "348dc7ca6ea94a8fb4613dc0e3bad931",
       "version_major": 2,
       "version_minor": 0
      },
      "text/plain": [
       "IntText(value=0, description='Admissions:')"
      ]
     },
     "metadata": {},
     "output_type": "display_data"
    }
   ],
   "source": [
    "dfTofill.iloc[0,1]=c10.value # Using indexing to add the index number to row11 'dfTofill' file for 'org_code' variable\n",
    "dfTofill # print dfTofill file row11 with 'org_code' value added\n",
    "\n",
    "#Use IntText' widget to collect index value for admissions for eleventh row.\n",
    "\n",
    "d10=widgets.IntText(\n",
    "    value=0,\n",
    "    description='Admissions:',\n",
    "    disabled=False) # use the integer widget and store as the object 'd10'\n",
    "\n",
    "display(d10) # use the display function to display the integer widget object\n",
    "\n",
    "#select 2398 as value for admissions from the eleventh row"
   ]
  },
  {
   "cell_type": "code",
   "execution_count": 102,
   "id": "recorded-rehabilitation",
   "metadata": {},
   "outputs": [
    {
     "data": {
      "text/html": [
       "<div>\n",
       "<style scoped>\n",
       "    .dataframe tbody tr th:only-of-type {\n",
       "        vertical-align: middle;\n",
       "    }\n",
       "\n",
       "    .dataframe tbody tr th {\n",
       "        vertical-align: top;\n",
       "    }\n",
       "\n",
       "    .dataframe thead th {\n",
       "        text-align: right;\n",
       "    }\n",
       "</style>\n",
       "<table border=\"1\" class=\"dataframe\">\n",
       "  <thead>\n",
       "    <tr style=\"text-align: right;\">\n",
       "      <th></th>\n",
       "      <th>index</th>\n",
       "      <th>org_code</th>\n",
       "      <th>period</th>\n",
       "      <th>admissions</th>\n",
       "      <th>consent</th>\n",
       "    </tr>\n",
       "  </thead>\n",
       "  <tbody>\n",
       "    <tr>\n",
       "      <th>0</th>\n",
       "      <td>2826</td>\n",
       "      <td>RGT</td>\n",
       "      <td>2016-07-01</td>\n",
       "      <td>3123</td>\n",
       "      <td>True</td>\n",
       "    </tr>\n",
       "    <tr>\n",
       "      <th>0</th>\n",
       "      <td>2865</td>\n",
       "      <td>RM1</td>\n",
       "      <td>2016-07-01</td>\n",
       "      <td>2891</td>\n",
       "      <td>True</td>\n",
       "    </tr>\n",
       "    <tr>\n",
       "      <th>0</th>\n",
       "      <td>3941</td>\n",
       "      <td>RRK</td>\n",
       "      <td>2016-04-01</td>\n",
       "      <td>2744</td>\n",
       "      <td>True</td>\n",
       "    </tr>\n",
       "    <tr>\n",
       "      <th>0</th>\n",
       "      <td>5431</td>\n",
       "      <td>RJN</td>\n",
       "      <td>2017-12-01</td>\n",
       "      <td>971</td>\n",
       "      <td>True</td>\n",
       "    </tr>\n",
       "    <tr>\n",
       "      <th>0</th>\n",
       "      <td>5940</td>\n",
       "      <td>RNZ</td>\n",
       "      <td>2017-11-01</td>\n",
       "      <td>1131</td>\n",
       "      <td>True</td>\n",
       "    </tr>\n",
       "    <tr>\n",
       "      <th>0</th>\n",
       "      <td>6727</td>\n",
       "      <td>RQ3</td>\n",
       "      <td>2017-08-01</td>\n",
       "      <td>754</td>\n",
       "      <td>True</td>\n",
       "    </tr>\n",
       "    <tr>\n",
       "      <th>0</th>\n",
       "      <td>7952</td>\n",
       "      <td>RBL</td>\n",
       "      <td>2017-05-01</td>\n",
       "      <td>2491</td>\n",
       "      <td>True</td>\n",
       "    </tr>\n",
       "    <tr>\n",
       "      <th>0</th>\n",
       "      <td>8427</td>\n",
       "      <td>R1K</td>\n",
       "      <td>2019-03-01</td>\n",
       "      <td>6522</td>\n",
       "      <td>True</td>\n",
       "    </tr>\n",
       "    <tr>\n",
       "      <th>0</th>\n",
       "      <td>10489</td>\n",
       "      <td>RPA</td>\n",
       "      <td>2018-10-01</td>\n",
       "      <td>2065</td>\n",
       "      <td>True</td>\n",
       "    </tr>\n",
       "    <tr>\n",
       "      <th>0</th>\n",
       "      <td>12390</td>\n",
       "      <td>RA3</td>\n",
       "      <td>2018-05-01</td>\n",
       "      <td>1090</td>\n",
       "      <td>True</td>\n",
       "    </tr>\n",
       "    <tr>\n",
       "      <th>0</th>\n",
       "      <td>12463</td>\n",
       "      <td>RDE</td>\n",
       "      <td>2018-04-01</td>\n",
       "      <td>2398</td>\n",
       "      <td>True</td>\n",
       "    </tr>\n",
       "  </tbody>\n",
       "</table>\n",
       "</div>"
      ],
      "text/plain": [
       "   index org_code      period  admissions  consent\n",
       "0   2826      RGT  2016-07-01        3123     True\n",
       "0   2865      RM1  2016-07-01        2891     True\n",
       "0   3941      RRK  2016-04-01        2744     True\n",
       "0   5431      RJN  2017-12-01         971     True\n",
       "0   5940      RNZ  2017-11-01        1131     True\n",
       "0   6727      RQ3  2017-08-01         754     True\n",
       "0   7952      RBL  2017-05-01        2491     True\n",
       "0   8427      R1K  2019-03-01        6522     True\n",
       "0  10489      RPA  2018-10-01        2065     True\n",
       "0  12390      RA3  2018-05-01        1090     True\n",
       "0  12463      RDE  2018-04-01        2398     True"
      ]
     },
     "metadata": {},
     "output_type": "display_data"
    }
   ],
   "source": [
    "dfTofill.iloc[0,3]=d10.value # Using indexing to add the index number to the 'dfTofill' file for 'admissions' variable\n",
    "dfTofill # print dfTofill file with 'admissions' value added\n",
    "\n",
    "#Concatenate eleventh row of data to the CollectData data frame.\n",
    "CollectData = pd.concat([CollectData, dfTofill]) # concatenate the collected data to the CollectData data frame\n",
    "display(CollectData) # display results"
   ]
  },
  {
   "cell_type": "code",
   "execution_count": 103,
   "id": "registered-perth",
   "metadata": {},
   "outputs": [],
   "source": [
    "# Saving the CollectData data frame to the working data folder\n",
    "CollectData.to_csv('../Data/CollectedData.csv', index=False)"
   ]
  },
  {
   "cell_type": "code",
   "execution_count": 104,
   "id": "yellow-title",
   "metadata": {},
   "outputs": [],
   "source": [
    "# Saving the captured test data to the 'RawData' folder.\n",
    "\n",
    "CollectData.to_csv('../RawData/CollectedDataFinal.csv', index=False)"
   ]
  },
  {
   "cell_type": "code",
   "execution_count": null,
   "id": "endangered-technician",
   "metadata": {},
   "outputs": [],
   "source": []
  }
 ],
 "metadata": {
  "kernelspec": {
   "display_name": "Python 3 (ipykernel)",
   "language": "python",
   "name": "python3"
  },
  "language_info": {
   "codemirror_mode": {
    "name": "ipython",
    "version": 3
   },
   "file_extension": ".py",
   "mimetype": "text/x-python",
   "name": "python",
   "nbconvert_exporter": "python",
   "pygments_lexer": "ipython3",
   "version": "3.9.2"
  }
 },
 "nbformat": 4,
 "nbformat_minor": 5
}
